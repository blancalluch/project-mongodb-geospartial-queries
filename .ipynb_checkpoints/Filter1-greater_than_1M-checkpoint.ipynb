{
 "cells": [
  {
   "cell_type": "code",
   "execution_count": 1,
   "metadata": {},
   "outputs": [],
   "source": [
    "from pymongo import MongoClient"
   ]
  },
  {
   "cell_type": "code",
   "execution_count": 2,
   "metadata": {},
   "outputs": [],
   "source": [
    "def connectCollection(database, collection):\n",
    "    client = MongoClient()\n",
    "    db = client[database]\n",
    "    coll = db[collection]\n",
    "    return db, coll"
   ]
  },
  {
   "cell_type": "code",
   "execution_count": 3,
   "metadata": {},
   "outputs": [],
   "source": [
    "db, coll = connectCollection('companies','companies')"
   ]
  },
  {
   "cell_type": "code",
   "execution_count": 4,
   "metadata": {},
   "outputs": [],
   "source": [
    "company2 = list(coll.find({\"$and\": [{\"deadpooled_year\":None},{\"$where\":\"this.offices.length >= 1\"}]}))\n"
   ]
  },
  {
   "cell_type": "code",
   "execution_count": 5,
   "metadata": {},
   "outputs": [],
   "source": [
    "#company2 = list(coll.find({\"$and\": [{\"deadpooled_year\":None},{\"$where\":\"this.offices.length >= 1\"},{\"$or\":[{\"$where\":\"this.funding_rounds.length >= 1\"},{\"total_money_raised\":{\"$exists\":True}}]}]}))\n"
   ]
  },
  {
   "cell_type": "code",
   "execution_count": 6,
   "metadata": {},
   "outputs": [
    {
     "data": {
      "text/plain": [
       "12957"
      ]
     },
     "execution_count": 6,
     "metadata": {},
     "output_type": "execute_result"
    }
   ],
   "source": [
    "len(company2)"
   ]
  },
  {
   "cell_type": "code",
   "execution_count": 18,
   "metadata": {},
   "outputs": [],
   "source": [
    "merged_offices = []\n",
    "\n",
    "for c in company2:\n",
    "    offices = c.get('offices',[])\n",
    "    for office in offices:\n",
    "        merged_office = dict()\n",
    "        raised_amount=0\n",
    "        merged_office[\"_id\"] = str(c.get('_id',0))\n",
    "        merged_office[\"Name\"]=c.get('name',0)\n",
    "        merged_office[\"Category\"]=c.get('category_code',0)\n",
    "        merged_office[\"Description\"]=c.get('description',0)\n",
    "        merged_office[\"Latitude\"]=office.get('latitude',0)\n",
    "        merged_office[\"Longitude\"]=office.get('longitude',0)\n",
    "        merged_office[\"Founded Year\"]=c.get('founded_year',0)\n",
    "        merged_office[\"Total Money Raised\"]=c.get('total_money_raised',0)\n",
    "        for rounds in range(len(c.get('funding_rounds'))):\n",
    "            r=c.get('funding_rounds')[rounds].get('raised_amount',0)\n",
    "            if r !=None:\n",
    "                raised_amount+=r\n",
    "        merged_office[\"Raised Amount\"]=raised_amount\n",
    "        if len(c.get('funding_rounds'))>0:\n",
    "            merged_office[\"Currency\"]=c.get('funding_rounds')[0].get('raised_currency_code',0)\n",
    "        else:\n",
    "            merged_office[\"Currency\"]=0\n",
    "        merged_offices.append(merged_office)\n",
    "        merged_office[\"Address\"]=office.get('address1',0)\n",
    "        merged_office[\"Zip code\"]=office.get('zip_code',0)\n",
    "        merged_office[\"City\"]=office.get('city',0)\n",
    "        \n"
   ]
  },
  {
   "cell_type": "code",
   "execution_count": 19,
   "metadata": {},
   "outputs": [],
   "source": [
    "import pandas as pd"
   ]
  },
  {
   "cell_type": "code",
   "execution_count": 20,
   "metadata": {},
   "outputs": [],
   "source": [
    "df=pd.DataFrame(merged_offices)"
   ]
  },
  {
   "cell_type": "code",
   "execution_count": 21,
   "metadata": {},
   "outputs": [
    {
     "data": {
      "text/html": [
       "<div>\n",
       "<style scoped>\n",
       "    .dataframe tbody tr th:only-of-type {\n",
       "        vertical-align: middle;\n",
       "    }\n",
       "\n",
       "    .dataframe tbody tr th {\n",
       "        vertical-align: top;\n",
       "    }\n",
       "\n",
       "    .dataframe thead th {\n",
       "        text-align: right;\n",
       "    }\n",
       "</style>\n",
       "<table border=\"1\" class=\"dataframe\">\n",
       "  <thead>\n",
       "    <tr style=\"text-align: right;\">\n",
       "      <th></th>\n",
       "      <th>_id</th>\n",
       "      <th>Name</th>\n",
       "      <th>Category</th>\n",
       "      <th>Description</th>\n",
       "      <th>Latitude</th>\n",
       "      <th>Longitude</th>\n",
       "      <th>Founded Year</th>\n",
       "      <th>Total Money Raised</th>\n",
       "      <th>Raised Amount</th>\n",
       "      <th>Currency</th>\n",
       "      <th>Address</th>\n",
       "      <th>Zip code</th>\n",
       "      <th>City</th>\n",
       "    </tr>\n",
       "  </thead>\n",
       "  <tbody>\n",
       "    <tr>\n",
       "      <th>0</th>\n",
       "      <td>52cdef7c4bab8bd675297d8d</td>\n",
       "      <td>Digg</td>\n",
       "      <td>news</td>\n",
       "      <td>user driven social content website</td>\n",
       "      <td>37.764726</td>\n",
       "      <td>-122.394523</td>\n",
       "      <td>2004.0</td>\n",
       "      <td>$45M</td>\n",
       "      <td>45000000.0</td>\n",
       "      <td>USD</td>\n",
       "      <td>135 Mississippi St</td>\n",
       "      <td>94107</td>\n",
       "      <td>San Francisco</td>\n",
       "    </tr>\n",
       "    <tr>\n",
       "      <th>1</th>\n",
       "      <td>52cdef7c4bab8bd675297d90</td>\n",
       "      <td>Postini</td>\n",
       "      <td>web</td>\n",
       "      <td>None</td>\n",
       "      <td>37.506885</td>\n",
       "      <td>-122.247573</td>\n",
       "      <td>1999.0</td>\n",
       "      <td>$0</td>\n",
       "      <td>0.0</td>\n",
       "      <td>0</td>\n",
       "      <td>959 Skyway Road, Suite 200</td>\n",
       "      <td>94070</td>\n",
       "      <td>San Carlos</td>\n",
       "    </tr>\n",
       "    <tr>\n",
       "      <th>2</th>\n",
       "      <td>52cdef7c4bab8bd675297d92</td>\n",
       "      <td>Flektor</td>\n",
       "      <td>games_video</td>\n",
       "      <td>None</td>\n",
       "      <td>34.025958</td>\n",
       "      <td>-118.379768</td>\n",
       "      <td>NaN</td>\n",
       "      <td>$0</td>\n",
       "      <td>0.0</td>\n",
       "      <td>0</td>\n",
       "      <td>8536 National Blvd, Suite A</td>\n",
       "      <td>90232</td>\n",
       "      <td>Culver City</td>\n",
       "    </tr>\n",
       "    <tr>\n",
       "      <th>3</th>\n",
       "      <td>52cdef7c4bab8bd675297d91</td>\n",
       "      <td>Geni</td>\n",
       "      <td>web</td>\n",
       "      <td>Geneology social network site</td>\n",
       "      <td>34.090368</td>\n",
       "      <td>-118.393064</td>\n",
       "      <td>2006.0</td>\n",
       "      <td>$16.5M</td>\n",
       "      <td>16500000.0</td>\n",
       "      <td>USD</td>\n",
       "      <td>9229 W. Sunset Blvd.</td>\n",
       "      <td>90069</td>\n",
       "      <td>West Hollywood</td>\n",
       "    </tr>\n",
       "    <tr>\n",
       "      <th>4</th>\n",
       "      <td>52cdef7c4bab8bd675297d93</td>\n",
       "      <td>Fox Interactive Media</td>\n",
       "      <td>web</td>\n",
       "      <td></td>\n",
       "      <td>34.076179</td>\n",
       "      <td>-118.394170</td>\n",
       "      <td>1979.0</td>\n",
       "      <td>$0</td>\n",
       "      <td>0.0</td>\n",
       "      <td>0</td>\n",
       "      <td>407 N Maple Dr</td>\n",
       "      <td>90210</td>\n",
       "      <td>Beverly Hills</td>\n",
       "    </tr>\n",
       "    <tr>\n",
       "      <th>...</th>\n",
       "      <td>...</td>\n",
       "      <td>...</td>\n",
       "      <td>...</td>\n",
       "      <td>...</td>\n",
       "      <td>...</td>\n",
       "      <td>...</td>\n",
       "      <td>...</td>\n",
       "      <td>...</td>\n",
       "      <td>...</td>\n",
       "      <td>...</td>\n",
       "      <td>...</td>\n",
       "      <td>...</td>\n",
       "      <td>...</td>\n",
       "    </tr>\n",
       "    <tr>\n",
       "      <th>15843</th>\n",
       "      <td>52cdef7f4bab8bd67529c6f5</td>\n",
       "      <td>Oriact</td>\n",
       "      <td>software</td>\n",
       "      <td>Solutions for software development</td>\n",
       "      <td>47.088219</td>\n",
       "      <td>8.437163</td>\n",
       "      <td>2009.0</td>\n",
       "      <td>$0</td>\n",
       "      <td>0.0</td>\n",
       "      <td>0</td>\n",
       "      <td>LÃ¤rchenweg 7</td>\n",
       "      <td>6403</td>\n",
       "      <td>KÃ¼ssnacht</td>\n",
       "    </tr>\n",
       "    <tr>\n",
       "      <th>15844</th>\n",
       "      <td>52cdef7f4bab8bd67529c6f6</td>\n",
       "      <td>Adhunk</td>\n",
       "      <td>advertising</td>\n",
       "      <td>Online Admanager</td>\n",
       "      <td>NaN</td>\n",
       "      <td>NaN</td>\n",
       "      <td>2009.0</td>\n",
       "      <td>$0</td>\n",
       "      <td>0.0</td>\n",
       "      <td>0</td>\n",
       "      <td>Near Tube Well(south)</td>\n",
       "      <td>334003</td>\n",
       "      <td>Bikaner</td>\n",
       "    </tr>\n",
       "    <tr>\n",
       "      <th>15845</th>\n",
       "      <td>52cdef7f4bab8bd67529c6f7</td>\n",
       "      <td>AfterLogic</td>\n",
       "      <td>software</td>\n",
       "      <td>.NET Email Components and Webmail</td>\n",
       "      <td>40.793024</td>\n",
       "      <td>-74.323554</td>\n",
       "      <td>2002.0</td>\n",
       "      <td>$0</td>\n",
       "      <td>0.0</td>\n",
       "      <td>0</td>\n",
       "      <td>P.O. Box 2096</td>\n",
       "      <td>07039</td>\n",
       "      <td>Livingston</td>\n",
       "    </tr>\n",
       "    <tr>\n",
       "      <th>15846</th>\n",
       "      <td>52cdef7f4bab8bd67529c6f9</td>\n",
       "      <td>EnteGreat Solutions</td>\n",
       "      <td>software</td>\n",
       "      <td></td>\n",
       "      <td>33.518885</td>\n",
       "      <td>-86.816068</td>\n",
       "      <td>NaN</td>\n",
       "      <td>$0</td>\n",
       "      <td>0.0</td>\n",
       "      <td>0</td>\n",
       "      <td></td>\n",
       "      <td></td>\n",
       "      <td>Birmingham</td>\n",
       "    </tr>\n",
       "    <tr>\n",
       "      <th>15847</th>\n",
       "      <td>52cdef7f4bab8bd67529c6fa</td>\n",
       "      <td>EnteGreat</td>\n",
       "      <td>enterprise</td>\n",
       "      <td></td>\n",
       "      <td>33.407786</td>\n",
       "      <td>-86.761302</td>\n",
       "      <td>2000.0</td>\n",
       "      <td>$0</td>\n",
       "      <td>0.0</td>\n",
       "      <td>None</td>\n",
       "      <td>1900 International Park Drive</td>\n",
       "      <td>35243-4204</td>\n",
       "      <td>Birmingham</td>\n",
       "    </tr>\n",
       "  </tbody>\n",
       "</table>\n",
       "<p>15848 rows × 13 columns</p>\n",
       "</div>"
      ],
      "text/plain": [
       "                            _id                   Name     Category  \\\n",
       "0      52cdef7c4bab8bd675297d8d                   Digg         news   \n",
       "1      52cdef7c4bab8bd675297d90                Postini          web   \n",
       "2      52cdef7c4bab8bd675297d92                Flektor  games_video   \n",
       "3      52cdef7c4bab8bd675297d91                   Geni          web   \n",
       "4      52cdef7c4bab8bd675297d93  Fox Interactive Media          web   \n",
       "...                         ...                    ...          ...   \n",
       "15843  52cdef7f4bab8bd67529c6f5                 Oriact     software   \n",
       "15844  52cdef7f4bab8bd67529c6f6                 Adhunk  advertising   \n",
       "15845  52cdef7f4bab8bd67529c6f7             AfterLogic     software   \n",
       "15846  52cdef7f4bab8bd67529c6f9    EnteGreat Solutions     software   \n",
       "15847  52cdef7f4bab8bd67529c6fa              EnteGreat   enterprise   \n",
       "\n",
       "                              Description   Latitude   Longitude  \\\n",
       "0      user driven social content website  37.764726 -122.394523   \n",
       "1                                    None  37.506885 -122.247573   \n",
       "2                                    None  34.025958 -118.379768   \n",
       "3           Geneology social network site  34.090368 -118.393064   \n",
       "4                                          34.076179 -118.394170   \n",
       "...                                   ...        ...         ...   \n",
       "15843  Solutions for software development  47.088219    8.437163   \n",
       "15844                    Online Admanager        NaN         NaN   \n",
       "15845   .NET Email Components and Webmail  40.793024  -74.323554   \n",
       "15846                                      33.518885  -86.816068   \n",
       "15847                                      33.407786  -86.761302   \n",
       "\n",
       "       Founded Year Total Money Raised  Raised Amount Currency  \\\n",
       "0            2004.0               $45M     45000000.0      USD   \n",
       "1            1999.0                 $0            0.0        0   \n",
       "2               NaN                 $0            0.0        0   \n",
       "3            2006.0             $16.5M     16500000.0      USD   \n",
       "4            1979.0                 $0            0.0        0   \n",
       "...             ...                ...            ...      ...   \n",
       "15843        2009.0                 $0            0.0        0   \n",
       "15844        2009.0                 $0            0.0        0   \n",
       "15845        2002.0                 $0            0.0        0   \n",
       "15846           NaN                 $0            0.0        0   \n",
       "15847        2000.0                 $0            0.0     None   \n",
       "\n",
       "                             Address    Zip code            City  \n",
       "0                 135 Mississippi St       94107   San Francisco  \n",
       "1         959 Skyway Road, Suite 200       94070      San Carlos  \n",
       "2        8536 National Blvd, Suite A       90232     Culver City  \n",
       "3               9229 W. Sunset Blvd.       90069  West Hollywood  \n",
       "4                     407 N Maple Dr       90210   Beverly Hills  \n",
       "...                              ...         ...             ...  \n",
       "15843                  LÃ¤rchenweg 7        6403      KÃ¼ssnacht  \n",
       "15844          Near Tube Well(south)      334003         Bikaner  \n",
       "15845                  P.O. Box 2096       07039      Livingston  \n",
       "15846                                                 Birmingham  \n",
       "15847  1900 International Park Drive  35243-4204      Birmingham  \n",
       "\n",
       "[15848 rows x 13 columns]"
      ]
     },
     "execution_count": 21,
     "metadata": {},
     "output_type": "execute_result"
    }
   ],
   "source": [
    "df"
   ]
  },
  {
   "cell_type": "code",
   "execution_count": 22,
   "metadata": {},
   "outputs": [
    {
     "data": {
      "text/plain": [
       "{0, 'CAD', 'EUR', 'GBP', 'JPY', None, 'SEK', 'USD'}"
      ]
     },
     "execution_count": 22,
     "metadata": {},
     "output_type": "execute_result"
    }
   ],
   "source": [
    "(set(df['Currency']))"
   ]
  },
  {
   "cell_type": "code",
   "execution_count": 30,
   "metadata": {},
   "outputs": [],
   "source": [
    "df_1M=df[(df['Raised Amount']>=1000000)]\n",
    "df_FY=df[(df['Founded Year']>=2009)]\n",
    "df_FY_1M=df_1M[(df_1M['Founded Year']>=2009)]"
   ]
  },
  {
   "cell_type": "code",
   "execution_count": 34,
   "metadata": {},
   "outputs": [
    {
     "name": "stdout",
     "output_type": "stream",
     "text": [
      "(4823, 13)\n",
      "(568, 13)\n",
      "(159, 13)\n"
     ]
    }
   ],
   "source": [
    "print(df_1M.shape)\n",
    "print(df_FY.shape)\n",
    "print(df_FY_1M.shape)"
   ]
  },
  {
   "cell_type": "code",
   "execution_count": 37,
   "metadata": {},
   "outputs": [],
   "source": [
    "df_1M.to_csv('./output/1M.csv')\n",
    "df_FY.to_csv('./output/FY.csv')\n",
    "df_FY_1M.to_csv('./output/FY_1M.csv')"
   ]
  },
  {
   "cell_type": "code",
   "execution_count": null,
   "metadata": {},
   "outputs": [],
   "source": []
  }
 ],
 "metadata": {
  "kernelspec": {
   "display_name": "Python 3",
   "language": "python",
   "name": "python3"
  },
  "language_info": {
   "codemirror_mode": {
    "name": "ipython",
    "version": 3
   },
   "file_extension": ".py",
   "mimetype": "text/x-python",
   "name": "python",
   "nbconvert_exporter": "python",
   "pygments_lexer": "ipython3",
   "version": "3.7.4"
  }
 },
 "nbformat": 4,
 "nbformat_minor": 2
}
