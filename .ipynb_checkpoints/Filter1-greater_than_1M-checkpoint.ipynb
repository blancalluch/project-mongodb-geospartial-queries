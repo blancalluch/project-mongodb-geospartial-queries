{
 "cells": [
  {
   "cell_type": "markdown",
   "metadata": {},
   "source": [
    "## First MongoDB Companies Filter"
   ]
  },
  {
   "cell_type": "code",
   "execution_count": 119,
   "metadata": {},
   "outputs": [],
   "source": [
    "from pymongo import MongoClient\n",
    "import pandas as pd\n",
    "import re\n",
    "import getpass\n",
    "import json\n",
    "import os\n",
    "import requests\n",
    "from dotenv import load_dotenv\n",
    "load_dotenv()\n",
    "import numpy as np"
   ]
  },
  {
   "cell_type": "markdown",
   "metadata": {},
   "source": [
    "- Connecting with mongoslient to read database:"
   ]
  },
  {
   "cell_type": "code",
   "execution_count": 2,
   "metadata": {},
   "outputs": [],
   "source": [
    "def connectCollection(database, collection):\n",
    "    client = MongoClient()\n",
    "    db = client[database]\n",
    "    coll = db[collection]\n",
    "    return db, coll"
   ]
  },
  {
   "cell_type": "markdown",
   "metadata": {},
   "source": [
    "- Reading companies database:"
   ]
  },
  {
   "cell_type": "code",
   "execution_count": 3,
   "metadata": {},
   "outputs": [],
   "source": [
    "db, coll = connectCollection('companies','companies')"
   ]
  },
  {
   "cell_type": "markdown",
   "metadata": {},
   "source": [
    "- Filtering by: no deadpooled year and at least one office:"
   ]
  },
  {
   "cell_type": "code",
   "execution_count": 4,
   "metadata": {},
   "outputs": [],
   "source": [
    "companies = list(coll.find({\"$and\": [{\"deadpooled_year\":None},{\"$where\":\"this.offices.length >= 1\"}]}))\n",
    "#company2 = list(coll.find({\"$and\": [{\"deadpooled_year\":None},{\"$where\":\"this.offices.length >= 1\"},{\"$or\":[{\"$where\":\"this.funding_rounds.length >= 1\"},{\"total_money_raised\":{\"$exists\":True}}]}]}))\n"
   ]
  },
  {
   "cell_type": "code",
   "execution_count": 66,
   "metadata": {},
   "outputs": [
    {
     "data": {
      "text/plain": [
       "12957"
      ]
     },
     "execution_count": 66,
     "metadata": {},
     "output_type": "execute_result"
    }
   ],
   "source": [
    "len(companies)"
   ]
  },
  {
   "cell_type": "markdown",
   "metadata": {},
   "source": [
    "- Creating a list of dictionaries with the information of each company and the latitude and longitude of each office of each company:"
   ]
  },
  {
   "cell_type": "code",
   "execution_count": 67,
   "metadata": {},
   "outputs": [],
   "source": [
    "merged_offices = []\n",
    "\n",
    "for c in companies:\n",
    "    offices = c.get('offices',[])\n",
    "    for office in offices:\n",
    "        merged_office = dict()\n",
    "        raised_amount=0\n",
    "        merged_office[\"ref\"] = str(c.get('_id',0))\n",
    "        merged_office[\"Name\"]=c.get('name',0)\n",
    "        merged_office[\"Category\"]=c.get('category_code',0)\n",
    "        merged_office[\"Description\"]=c.get('description',0)\n",
    "        merged_office[\"Latitude\"]=office.get('latitude',0)\n",
    "        merged_office[\"Longitude\"]=office.get('longitude',0)\n",
    "        merged_office[\"Founded Year\"]=c.get('founded_year',0)\n",
    "        merged_office[\"Total Money Raised\"]=c.get('total_money_raised',0)\n",
    "        for rounds in range(len(c.get('funding_rounds'))):\n",
    "            r=c.get('funding_rounds')[rounds].get('raised_amount',0)\n",
    "            if r !=None:\n",
    "                raised_amount+=r\n",
    "        merged_office[\"Raised Amount\"]=raised_amount\n",
    "        if len(c.get('funding_rounds'))>0:\n",
    "            merged_office[\"Currency\"]=c.get('funding_rounds')[0].get('raised_currency_code',0)\n",
    "        else:\n",
    "            merged_office[\"Currency\"]=0\n",
    "        merged_offices.append(merged_office)\n",
    "        merged_office[\"Address\"]=office.get('address1',0)\n",
    "        merged_office[\"Zip code\"]=office.get('zip_code',0)\n",
    "        merged_office[\"City\"]=office.get('city',0)\n",
    "        \n"
   ]
  },
  {
   "cell_type": "markdown",
   "metadata": {},
   "source": [
    "- Creating dataframe with the information:"
   ]
  },
  {
   "cell_type": "code",
   "execution_count": 68,
   "metadata": {},
   "outputs": [
    {
     "data": {
      "text/html": [
       "<div>\n",
       "<style scoped>\n",
       "    .dataframe tbody tr th:only-of-type {\n",
       "        vertical-align: middle;\n",
       "    }\n",
       "\n",
       "    .dataframe tbody tr th {\n",
       "        vertical-align: top;\n",
       "    }\n",
       "\n",
       "    .dataframe thead th {\n",
       "        text-align: right;\n",
       "    }\n",
       "</style>\n",
       "<table border=\"1\" class=\"dataframe\">\n",
       "  <thead>\n",
       "    <tr style=\"text-align: right;\">\n",
       "      <th></th>\n",
       "      <th>ref</th>\n",
       "      <th>Name</th>\n",
       "      <th>Category</th>\n",
       "      <th>Description</th>\n",
       "      <th>Latitude</th>\n",
       "      <th>Longitude</th>\n",
       "      <th>Founded Year</th>\n",
       "      <th>Total Money Raised</th>\n",
       "      <th>Raised Amount</th>\n",
       "      <th>Currency</th>\n",
       "      <th>Address</th>\n",
       "      <th>Zip code</th>\n",
       "      <th>City</th>\n",
       "    </tr>\n",
       "  </thead>\n",
       "  <tbody>\n",
       "    <tr>\n",
       "      <th>0</th>\n",
       "      <td>52cdef7c4bab8bd675297d8d</td>\n",
       "      <td>Digg</td>\n",
       "      <td>news</td>\n",
       "      <td>user driven social content website</td>\n",
       "      <td>37.764726</td>\n",
       "      <td>-122.394523</td>\n",
       "      <td>2004.0</td>\n",
       "      <td>$45M</td>\n",
       "      <td>45000000.0</td>\n",
       "      <td>USD</td>\n",
       "      <td>135 Mississippi St</td>\n",
       "      <td>94107</td>\n",
       "      <td>San Francisco</td>\n",
       "    </tr>\n",
       "    <tr>\n",
       "      <th>1</th>\n",
       "      <td>52cdef7c4bab8bd675297d90</td>\n",
       "      <td>Postini</td>\n",
       "      <td>web</td>\n",
       "      <td>None</td>\n",
       "      <td>37.506885</td>\n",
       "      <td>-122.247573</td>\n",
       "      <td>1999.0</td>\n",
       "      <td>$0</td>\n",
       "      <td>0.0</td>\n",
       "      <td>0</td>\n",
       "      <td>959 Skyway Road, Suite 200</td>\n",
       "      <td>94070</td>\n",
       "      <td>San Carlos</td>\n",
       "    </tr>\n",
       "    <tr>\n",
       "      <th>2</th>\n",
       "      <td>52cdef7c4bab8bd675297d92</td>\n",
       "      <td>Flektor</td>\n",
       "      <td>games_video</td>\n",
       "      <td>None</td>\n",
       "      <td>34.025958</td>\n",
       "      <td>-118.379768</td>\n",
       "      <td>NaN</td>\n",
       "      <td>$0</td>\n",
       "      <td>0.0</td>\n",
       "      <td>0</td>\n",
       "      <td>8536 National Blvd, Suite A</td>\n",
       "      <td>90232</td>\n",
       "      <td>Culver City</td>\n",
       "    </tr>\n",
       "    <tr>\n",
       "      <th>3</th>\n",
       "      <td>52cdef7c4bab8bd675297d91</td>\n",
       "      <td>Geni</td>\n",
       "      <td>web</td>\n",
       "      <td>Geneology social network site</td>\n",
       "      <td>34.090368</td>\n",
       "      <td>-118.393064</td>\n",
       "      <td>2006.0</td>\n",
       "      <td>$16.5M</td>\n",
       "      <td>16500000.0</td>\n",
       "      <td>USD</td>\n",
       "      <td>9229 W. Sunset Blvd.</td>\n",
       "      <td>90069</td>\n",
       "      <td>West Hollywood</td>\n",
       "    </tr>\n",
       "    <tr>\n",
       "      <th>4</th>\n",
       "      <td>52cdef7c4bab8bd675297d93</td>\n",
       "      <td>Fox Interactive Media</td>\n",
       "      <td>web</td>\n",
       "      <td></td>\n",
       "      <td>34.076179</td>\n",
       "      <td>-118.394170</td>\n",
       "      <td>1979.0</td>\n",
       "      <td>$0</td>\n",
       "      <td>0.0</td>\n",
       "      <td>0</td>\n",
       "      <td>407 N Maple Dr</td>\n",
       "      <td>90210</td>\n",
       "      <td>Beverly Hills</td>\n",
       "    </tr>\n",
       "  </tbody>\n",
       "</table>\n",
       "</div>"
      ],
      "text/plain": [
       "                        ref                   Name     Category  \\\n",
       "0  52cdef7c4bab8bd675297d8d                   Digg         news   \n",
       "1  52cdef7c4bab8bd675297d90                Postini          web   \n",
       "2  52cdef7c4bab8bd675297d92                Flektor  games_video   \n",
       "3  52cdef7c4bab8bd675297d91                   Geni          web   \n",
       "4  52cdef7c4bab8bd675297d93  Fox Interactive Media          web   \n",
       "\n",
       "                          Description   Latitude   Longitude  Founded Year  \\\n",
       "0  user driven social content website  37.764726 -122.394523        2004.0   \n",
       "1                                None  37.506885 -122.247573        1999.0   \n",
       "2                                None  34.025958 -118.379768           NaN   \n",
       "3       Geneology social network site  34.090368 -118.393064        2006.0   \n",
       "4                                      34.076179 -118.394170        1979.0   \n",
       "\n",
       "  Total Money Raised  Raised Amount Currency                      Address  \\\n",
       "0               $45M     45000000.0      USD           135 Mississippi St   \n",
       "1                 $0            0.0        0   959 Skyway Road, Suite 200   \n",
       "2                 $0            0.0        0  8536 National Blvd, Suite A   \n",
       "3             $16.5M     16500000.0      USD         9229 W. Sunset Blvd.   \n",
       "4                 $0            0.0        0               407 N Maple Dr   \n",
       "\n",
       "  Zip code            City  \n",
       "0    94107   San Francisco  \n",
       "1    94070      San Carlos  \n",
       "2    90232     Culver City  \n",
       "3    90069  West Hollywood  \n",
       "4    90210   Beverly Hills  "
      ]
     },
     "execution_count": 68,
     "metadata": {},
     "output_type": "execute_result"
    }
   ],
   "source": [
    "df=pd.DataFrame(merged_offices)\n",
    "df.head()"
   ]
  },
  {
   "cell_type": "code",
   "execution_count": 130,
   "metadata": {},
   "outputs": [
    {
     "data": {
      "text/plain": [
       "(15848, 13)"
      ]
     },
     "execution_count": 130,
     "metadata": {},
     "output_type": "execute_result"
    }
   ],
   "source": [
    "df.shape"
   ]
  },
  {
   "cell_type": "markdown",
   "metadata": {},
   "source": [
    "- Requesting the Google API for the empty longitudes and latitudes in the dataframe:"
   ]
  },
  {
   "cell_type": "code",
   "execution_count": 131,
   "metadata": {},
   "outputs": [],
   "source": [
    "def googleRequestAuthorized(address):\n",
    "    authToken = os.getenv(\"API_KEY\")\n",
    "    if not authToken:\n",
    "        raise ValueError(\"NECESITAS UN TOKEN\")\n",
    "    else:\n",
    "        print(\"We have a github token: \", authToken[0:4])\n",
    "    url = f\"https://maps.googleapis.com/maps/api/geocode/json?address={address}&key={authToken}\"\n",
    "    res = requests.get(url)\n",
    "    #print(\"Requesting authorized {}\".format(res.url))\n",
    "\n",
    "    return res"
   ]
  },
  {
   "cell_type": "code",
   "execution_count": 132,
   "metadata": {},
   "outputs": [],
   "source": [
    "def apicompanies(ad):\n",
    "    loc_comp = googleRequestAuthorized(ad).json()\n",
    "    return loc_comp"
   ]
  },
  {
   "cell_type": "code",
   "execution_count": 48,
   "metadata": {},
   "outputs": [],
   "source": [
    "empty_long=df[(df['Longitude'].isnull() & df['Latitude'].isnull())]"
   ]
  },
  {
   "cell_type": "code",
   "execution_count": 97,
   "metadata": {},
   "outputs": [
    {
     "data": {
      "text/plain": [
       "(5683, 13)"
      ]
     },
     "execution_count": 97,
     "metadata": {},
     "output_type": "execute_result"
    }
   ],
   "source": [
    "empty_long.shape"
   ]
  },
  {
   "cell_type": "code",
   "execution_count": 49,
   "metadata": {},
   "outputs": [
    {
     "name": "stdout",
     "output_type": "stream",
     "text": [
      "We have a github token:  AIza\n"
     ]
    }
   ],
   "source": [
    "loc=apicompanies(ad)"
   ]
  },
  {
   "cell_type": "code",
   "execution_count": null,
   "metadata": {},
   "outputs": [],
   "source": [
    "df.loc[(df['Address']==ad),'Longitude']=\n",
    "df.loc[(df['Address']==ad),'Latitude']="
   ]
  },
  {
   "cell_type": "code",
   "execution_count": 129,
   "metadata": {},
   "outputs": [
    {
     "ename": "AttributeError",
     "evalue": "'str' object has no attribute 'isnull'",
     "output_type": "error",
     "traceback": [
      "\u001b[0;31m---------------------------------------------------------------------------\u001b[0m",
      "\u001b[0;31mAttributeError\u001b[0m                            Traceback (most recent call last)",
      "\u001b[0;32m<ipython-input-129-307bdadd12db>\u001b[0m in \u001b[0;36m<module>\u001b[0;34m\u001b[0m\n\u001b[0;32m----> 1\u001b[0;31m \u001b[0mdf\u001b[0m\u001b[0;34m[\u001b[0m\u001b[0;34m'Address'\u001b[0m\u001b[0;34m]\u001b[0m\u001b[0;34m[\u001b[0m\u001b[0;36m15844\u001b[0m\u001b[0;34m]\u001b[0m\u001b[0;34m.\u001b[0m\u001b[0misnull\u001b[0m\u001b[0;34m(\u001b[0m\u001b[0;34m)\u001b[0m\u001b[0;34m\u001b[0m\u001b[0;34m\u001b[0m\u001b[0m\n\u001b[0m",
      "\u001b[0;31mAttributeError\u001b[0m: 'str' object has no attribute 'isnull'"
     ]
    }
   ],
   "source": [
    "df['Address'][15844].isnull()"
   ]
  },
  {
   "cell_type": "code",
   "execution_count": 93,
   "metadata": {},
   "outputs": [
    {
     "name": "stdout",
     "output_type": "stream",
     "text": [
      "False\n"
     ]
    }
   ],
   "source": [
    "for _,row in df.iterrows():\n",
    "    print(row['Latitude'] is None)\n",
    "    break"
   ]
  },
  {
   "cell_type": "code",
   "execution_count": 167,
   "metadata": {},
   "outputs": [
    {
     "name": "stdout",
     "output_type": "stream",
     "text": [
      "Wethered House, Pound Lane\n",
      "We have a github token:  AIza\n",
      "Tower C, Level 9\n",
      "We have a github token:  AIza\n",
      "BLOCK A, Fourth Floor\n",
      "We have a github token:  AIza\n",
      "6F Cerulean Tower\n",
      "We have a github token:  AIza\n",
      "First Floor, Building No 17\n",
      "We have a github token:  AIza\n",
      "Lim Kwang B/D, 257\n",
      "We have a github token:  AIza\n",
      "Kwiqq, Sussex Innovation Centre, U. of Sussex\n",
      "We have a github token:  AIza\n",
      "StadthausbrÃ¼cke\n",
      "We have a github token:  AIza\n",
      "14 Robinson Road #13-00 Far East Finance Buil\n",
      "We have a github token:  AIza\n",
      "D00 BUILDING - P14-L11\n",
      "We have a github token:  AIza\n",
      "TacuarÃ­ 237, Piso 7\n",
      "We have a github token:  AIza\n",
      "1121 Corniche El Nile St.\n",
      "We have a github token:  AIza\n",
      "10 Anson Road, #32-11 International Plaza\n",
      "We have a github token:  AIza\n",
      "6/F Chuangye Mansion, East Software Park\n",
      "We have a github token:  AIza\n",
      "Ark Yagi Hills 10F, 1-8-7\n",
      "We have a github token:  AIza\n",
      "4th Floor, Victoria Central\n",
      "We have a github token:  AIza\n",
      "Ariel Sharon 3\n",
      "We have a github token:  AIza\n",
      "Hauptstraße 1\n",
      "We have a github token:  AIza\n",
      "P.O. Box 8999\n",
      "We have a github token:  AIza\n",
      "548 s spring street #312\n",
      "We have a github token:  AIza\n",
      "606 Artistic Place\n",
      "We have a github token:  AIza\n",
      "59/8 Moo 9 Soi Sukee\n",
      "We have a github token:  AIza\n",
      "Collingham House 10-12 Gladstone Road\n",
      "We have a github token:  AIza\n",
      "6/F Chuangye Mansion, East Software Park\n",
      "We have a github token:  AIza\n",
      "6/F Chuangye Mansion, East Software Park\n",
      "We have a github token:  AIza\n",
      "273 SOUTH RAILROAD AVENUE\n",
      "We have a github token:  AIza\n",
      "6/F Chuangye Mansion, East Software Park\n",
      "We have a github token:  AIza\n",
      "Level 7, Plunket House,\n",
      "We have a github token:  AIza\n",
      "Brosh Building, 1st Floor\n",
      "We have a github token:  AIza\n",
      "PMB #331\n",
      "We have a github token:  AIza\n",
      "9F Tosei Building\n",
      "We have a github token:  AIza\n",
      "199 Archbishop Makarios III Avenue\n",
      "We have a github token:  AIza\n",
      "P.O.Box 5856\n",
      "We have a github token:  AIza\n",
      "OFC Level 40\n",
      "We have a github token:  AIza\n",
      "Gran Capitan 2-4\n",
      "We have a github token:  AIza\n",
      "333 North Bridge Rd. #05-00\n",
      "We have a github token:  AIza\n",
      "Str I.L.Caragiale 4/51\n",
      "We have a github token:  AIza\n",
      "8 Oholiav ST\n",
      "We have a github token:  AIza\n",
      "1011 W 5th Street #300\n",
      "We have a github token:  AIza\n",
      "Triangle House 20th Floor\n",
      "We have a github token:  AIza\n",
      "Cecilio Metelo, 5\n",
      "We have a github token:  AIza\n",
      "736-54 LS Building 3F\n",
      "We have a github token:  AIza\n",
      "3001 112th Avenue NHE #206\n",
      "We have a github token:  AIza\n",
      "Citadel International Suite 340\n",
      "We have a github token:  AIza\n",
      "2853 Ontario Road #501\n",
      "We have a github token:  AIza\n",
      "Suite 519, City Air Terminal, 159-6\n",
      "We have a github token:  AIza\n",
      "3rd Floor, Tower F\n",
      "We have a github token:  AIza\n",
      "ITU, 5te\n",
      "We have a github token:  AIza\n",
      "915 Broadway\n",
      "We have a github token:  AIza\n",
      "Sanblue Enterprises Pvt. Ltd\n",
      "We have a github token:  AIza\n",
      "1st Floor, Mercury (2B) Block\n",
      "We have a github token:  AIza\n",
      "Academician Silin street 7, office 45\n",
      "We have a github token:  AIza\n",
      "PBOX 9657\n",
      "We have a github token:  AIza\n",
      "Ground Floor, Wing B, (Incubation Centre)\n",
      "We have a github token:  AIza\n",
      "View Point H.No.8-2-293/82/L/208/A\n",
      "We have a github token:  AIza\n",
      "B-208, Pavan Plaza, Opp Lifecare Hospital\n",
      "We have a github token:  AIza\n",
      "Zoolium GmbH\n",
      "We have a github token:  AIza\n",
      "apt. 707, no.42 waiguan street\n",
      "We have a github token:  AIza\n",
      "4 Hacharash Street\n",
      "We have a github token:  AIza\n",
      "11 Dov Klein\n",
      "We have a github token:  AIza\n",
      "434 Massachusetts Avenue, #2\n",
      "We have a github token:  AIza\n",
      "6 Wilson Site\n",
      "We have a github token:  AIza\n",
      "Humboldt 2495\n",
      "We have a github token:  AIza\n",
      "Archangelskij per, 6 stroenie 2\n",
      "We have a github token:  AIza\n",
      "Suite 1.06, Enterprise House\n",
      "We have a github token:  AIza\n",
      "86d Bozhenko St.\n",
      "We have a github token:  AIza\n",
      "7th Floor, Habib Towers\n",
      "We have a github token:  AIza\n",
      "11250 Old St. Augustine Rd. #15-164\n",
      "We have a github token:  AIza\n",
      "7-1, Shiba 5-chome\n",
      "We have a github token:  AIza\n",
      "Erdbergasse 10/38\n",
      "We have a github token:  AIza\n",
      "1st Floor/The Werks\n",
      "We have a github token:  AIza\n",
      "3GNet GmbH\n",
      "We have a github token:  AIza\n",
      "Laurent Féral-Pierssens\n",
      "We have a github token:  AIza\n",
      "deskNET SA\n",
      "We have a github token:  AIza\n",
      "#206 - 9650 - 20 Avenue T6N 1G1\n",
      "We have a github token:  AIza\n",
      "2404 Cortez Court\n",
      "We have a github token:  AIza\n",
      "1555, boul. de l'Avenir\n",
      "We have a github token:  AIza\n",
      "6-8-10 Roppongi\n",
      "We have a github token:  AIza\n",
      "h i v e 01\n",
      "We have a github token:  AIza\n",
      "3111 Coronado Drive\n",
      "We have a github token:  AIza\n",
      "1035 Pearl St.\n",
      "We have a github token:  AIza\n",
      "156a Reade St\n",
      "We have a github token:  AIza\n",
      "c/o NWP\n",
      "We have a github token:  AIza\n",
      "66 Mint St.\n",
      "We have a github token:  AIza\n",
      "1400 Van Buren St NE Ste 200\n",
      "We have a github token:  AIza\n",
      "44 West 28th Street\n",
      "We have a github token:  AIza\n",
      "GPO Box 1115\n",
      "We have a github token:  AIza\n",
      "Tencent Building, Kejizhongyi Avenue\n",
      "We have a github token:  AIza\n",
      "Dower house\n",
      "We have a github token:  AIza\n",
      "135 West 20th Street\n",
      "We have a github token:  AIza\n",
      "19, avenue des Volontaires\n",
      "We have a github token:  AIza\n",
      "283-288 High Holborn\n",
      "We have a github token:  AIza\n",
      "VelÃ¡zquez 12, 7-8 planta\n",
      "We have a github token:  AIza\n",
      "ABC-StraÃŸe 19\n",
      "We have a github token:  AIza\n",
      "1497, Wazir Nagar\n",
      "We have a github token:  AIza\n",
      "Bressenden Place\n",
      "We have a github token:  AIza\n",
      "24 Duxton Road\n",
      "We have a github token:  AIza\n",
      "Musy Jalilya 11\n",
      "We have a github token:  AIza\n",
      "147891 Memorial Drive, #1813\n",
      "We have a github token:  AIza\n",
      "500 Sansome Street\n",
      "We have a github token:  AIza\n",
      "11 Murray Street\n",
      "We have a github token:  AIza\n",
      "Unit 13, The Seapoint Building\n",
      "We have a github token:  AIza\n",
      "Calea Plevnei nr.53, etaj 4\n",
      "We have a github token:  AIza\n",
      "8200 Decarie\n",
      "We have a github token:  AIza\n",
      "20545 Center Ridge Rd. Ste 202\n",
      "We have a github token:  AIza\n",
      "41 East 60th Street, 6th Fl.\n",
      "We have a github token:  AIza\n",
      "Digital Egg\n",
      "We have a github token:  AIza\n",
      "Programming Centre\n",
      "We have a github token:  AIza\n",
      "no.169\n",
      "We have a github token:  AIza\n",
      "Gemini House\n",
      "We have a github token:  AIza\n",
      "West Melton\n",
      "We have a github token:  AIza\n",
      "625 Massachusetts Avenue\n",
      "We have a github token:  AIza\n",
      "2000 Sierra Point Parkway\n",
      "We have a github token:  AIza\n",
      "601 Townsend St\n",
      "We have a github token:  AIza\n",
      "345 Park Ave\n",
      "We have a github token:  AIza\n",
      "United States Patent and Trademark Office\n",
      "We have a github token:  AIza\n",
      "C-Block, 1st floor, Bharathiar Complex\n",
      "We have a github token:  AIza\n",
      "1800 JFK Blvd.\n",
      "We have a github token:  AIza\n",
      "4 Hagavish St., Entry A, Second Floor\n",
      "We have a github token:  AIza\n",
      "Flinger Strasse 36\n",
      "We have a github token:  AIza\n",
      "Olympic Office Centre\n",
      "We have a github token:  AIza\n",
      "3150 Sabre Dr.\n",
      "We have a github token:  AIza\n",
      "164 South Park Street\n",
      "We have a github token:  AIza\n",
      "Royal Free Medical School\n",
      "We have a github token:  AIza\n",
      "Lavrentjeva Ave, 6 - 201\n",
      "We have a github token:  AIza\n",
      "901 N Pitt str Suite 325\n",
      "We have a github token:  AIza\n",
      "30 Maiden Lane, 6th Floor\n",
      "We have a github token:  AIza\n",
      "120 Theory Drive\n",
      "We have a github token:  AIza\n",
      "300 The East Mall\n",
      "We have a github token:  AIza\n",
      "6th Floor Centre Gate\n",
      "We have a github token:  AIza\n",
      "1221 State Street\n",
      "We have a github token:  AIza\n",
      "1115 Broadway\n",
      "We have a github token:  AIza\n",
      "Anchor House\n",
      "We have a github token:  AIza\n",
      "3 Waters Park Dr.\n",
      "We have a github token:  AIza\n",
      "27 West 24th St.\n",
      "We have a github token:  AIza\n",
      "No. 58 North-West 4th Ring Road\n",
      "We have a github token:  AIza\n",
      "326 Cambridge Science Park\n",
      "We have a github token:  AIza\n",
      "8911 Capital of Texas Hwy\n",
      "We have a github token:  AIza\n",
      "1 lyric square\n",
      "We have a github token:  AIza\n",
      "1114 Avenue of the Americas\n",
      "We have a github token:  AIza\n",
      "The Lightbox\n",
      "We have a github token:  AIza\n",
      "Østergade 3-5\n",
      "We have a github token:  AIza\n",
      "27th Floor Prudential Tower\n",
      "We have a github token:  AIza\n",
      "Gencler Cad. Ozdes Apt. 36/5 Bakirkoy\n",
      "We have a github token:  AIza\n",
      "5th floor, Church Square House\n",
      "We have a github token:  AIza\n",
      "2 Yodfat Street, Global Park\n",
      "We have a github token:  AIza\n",
      "244 First Avenue North\n",
      "We have a github token:  AIza\n",
      "1402 Third Avenue\n",
      "We have a github token:  AIza\n",
      "215 Lexington Ave\n",
      "We have a github token:  AIza\n",
      "Soane Point\n",
      "We have a github token:  AIza\n",
      "1007 Pearl St.\n",
      "We have a github token:  AIza\n",
      "Rua da Mouraria, 50\n",
      "We have a github token:  AIza\n",
      "31-33 Bondway\n",
      "We have a github token:  AIza\n",
      "3800 Bridge Parkway\n",
      "We have a github token:  AIza\n",
      "1 HSN Drive\n",
      "We have a github token:  AIza\n",
      "7 Haarad St.\n",
      "We have a github token:  AIza\n",
      "146 Bishopsgate\n",
      "We have a github token:  AIza\n"
     ]
    },
    {
     "name": "stdout",
     "output_type": "stream",
     "text": [
      "215 Second Street, 2nd Floor\n",
      "We have a github token:  AIza\n",
      "2-14-5 Akasaka Minato-ku\n",
      "We have a github token:  AIza\n",
      "1716 Locust Street\n",
      "We have a github token:  AIza\n",
      "774 Walker Road 2nd Floor\n",
      "We have a github token:  AIza\n",
      "14th Floor, East Software Park, 90 Wensan Road\n",
      "We have a github token:  AIza\n",
      "First Floor\n",
      "We have a github token:  AIza\n",
      "Manor Coach House\n",
      "We have a github token:  AIza\n",
      "530 West 6th St\n",
      "We have a github token:  AIza\n",
      "5-7 Cranwood Street\n",
      "We have a github token:  AIza\n",
      "4852 Parkhurst Place\n",
      "We have a github token:  AIza\n",
      "2345 Crystal Drive\n",
      "We have a github token:  AIza\n",
      "Alek Manukyan 9\n",
      "We have a github token:  AIza\n",
      "8 City Road\n",
      "We have a github token:  AIza\n",
      "500 Macara Avenue\n",
      "We have a github token:  AIza\n",
      "87 North Raymond Avenue\n",
      "We have a github token:  AIza\n",
      "Peter Benenson House\n",
      "We have a github token:  AIza\n",
      "27 Rochester Square\n",
      "We have a github token:  AIza\n",
      "Vasco de Quiroga 2000 Santa Fe\n",
      "We have a github token:  AIza\n",
      "MONUSINE SAS\n",
      "We have a github token:  AIza\n",
      "2-4, Rambla de Catalunya\n",
      "We have a github token:  AIza\n",
      "Loakan Rd.\n",
      "We have a github token:  AIza\n",
      "London Road\n",
      "We have a github token:  AIza\n",
      "A BWE Inc. / IAC Company\n",
      "We have a github token:  AIza\n",
      "205 Hudson Street\n",
      "We have a github token:  AIza\n",
      "2 Executive Drive\n",
      "We have a github token:  AIza\n",
      "1270 Lansdowne Court\n",
      "We have a github token:  AIza\n",
      "512 Means Street NW\n",
      "We have a github token:  AIza\n",
      "Alvear 1670 - Floors 8 & 10\n",
      "We have a github token:  AIza\n",
      "Humberto Primo 630, 3th floo\n",
      "We have a github token:  AIza\n",
      "Ã…rstaÃ¤ngsvÃ¤gen 1 a\n",
      "We have a github token:  AIza\n",
      "71B Grosvenor Street\n",
      "We have a github token:  AIza\n",
      "304 W Weaver St\n",
      "We have a github token:  AIza\n",
      "445 Upper Edward Street\n",
      "We have a github token:  AIza\n",
      "2180 Bryant Street\n",
      "We have a github token:  AIza\n",
      "Shalom Alychem 7\n",
      "We have a github token:  AIza\n",
      "Restaurant Breeze, Inc.\n",
      "We have a github token:  AIza\n",
      "5250 Lankershim Blvd., Ste 720\n",
      "We have a github token:  AIza\n",
      "Pebble Beach, Ground Floor, Embassy Golf Link Business Park,\n",
      "We have a github token:  AIza\n",
      "One Heddon Street\n",
      "We have a github token:  AIza\n",
      "Fuji Building 7F 701-B\n",
      "We have a github token:  AIza\n",
      "Afria Palazzo Towers West,Corner of William\n",
      "We have a github token:  AIza\n",
      "#3720, ASEM Building 159-1\n",
      "We have a github token:  AIza\n",
      "#3720, ASEM Building 159-1\n",
      "We have a github token:  AIza\n",
      "100 Sylvan Road\n",
      "We have a github token:  AIza\n",
      "Unit: 317-217, Building No: 2,Sector: 1, Millennium Business Park Mahape,\n",
      "We have a github token:  AIza\n",
      "14 Robinson Road #13-00\n",
      "We have a github token:  AIza\n",
      "800 Connecticut Avenue\n",
      "We have a github token:  AIza\n",
      "MustamÃ¤e Street 4\n",
      "We have a github token:  AIza\n",
      "Sec 4, Bade Rd,\n",
      "We have a github token:  AIza\n",
      "VipulVihar Soc\n",
      "We have a github token:  AIza\n",
      "6440 South Millrock Drive\n",
      "We have a github token:  AIza\n",
      "78 New Oxford Street\n",
      "We have a github token:  AIza\n",
      "80 Cooper Street\n",
      "We have a github token:  AIza\n",
      "1 Newburgh Street\n",
      "We have a github token:  AIza\n",
      "EdifÃ­cio Amoreiras Square, Rua Carlos Alberto Mota Pinto, nÂº17 - 6B 1070-313 Lisboa - Portugal\n",
      "We have a github token:  AIza\n",
      "12 1/2 East Hargett St\n",
      "We have a github token:  AIza\n",
      "2nd Floor, 36-37 Featherstone Street\n",
      "We have a github token:  AIza\n",
      "Office #306 - Maharana Pratap Complex\n",
      "We have a github token:  AIza\n",
      "Mõisa 4\n",
      "We have a github token:  AIza\n",
      "D â€“ 101, S.I.T.E., Near ARY Studio,\n",
      "We have a github token:  AIza\n",
      "8300 Greensb0ro Drive # 800\n",
      "We have a github token:  AIza\n",
      "2000 Powell Street, Suite 1500\n",
      "We have a github token:  AIza\n",
      "466 8th St\n",
      "We have a github token:  AIza\n",
      "Shibuya Place 8F\n",
      "We have a github token:  AIza\n",
      "St.-Martin-Strasse 61\n",
      "We have a github token:  AIza\n",
      "Soler 3982\n",
      "We have a github token:  AIza\n",
      "2560 Orchard Parkway\n",
      "We have a github token:  AIza\n"
     ]
    },
    {
     "ename": "KeyboardInterrupt",
     "evalue": "",
     "output_type": "error",
     "traceback": [
      "\u001b[0;31m---------------------------------------------------------------------------\u001b[0m",
      "\u001b[0;31mKeyboardInterrupt\u001b[0m                         Traceback (most recent call last)",
      "\u001b[0;32m<ipython-input-167-664aa91ba664>\u001b[0m in \u001b[0;36m<module>\u001b[0;34m\u001b[0m\n\u001b[1;32m      4\u001b[0m             \u001b[0mad\u001b[0m\u001b[0;34m=\u001b[0m\u001b[0mrow\u001b[0m\u001b[0;34m[\u001b[0m\u001b[0;34m'Address'\u001b[0m\u001b[0;34m]\u001b[0m\u001b[0;34m\u001b[0m\u001b[0;34m\u001b[0m\u001b[0m\n\u001b[1;32m      5\u001b[0m             \u001b[0mprint\u001b[0m\u001b[0;34m(\u001b[0m\u001b[0mad\u001b[0m\u001b[0;34m)\u001b[0m\u001b[0;34m\u001b[0m\u001b[0;34m\u001b[0m\u001b[0m\n\u001b[0;32m----> 6\u001b[0;31m             \u001b[0mloc\u001b[0m\u001b[0;34m=\u001b[0m\u001b[0mapicompanies\u001b[0m\u001b[0;34m(\u001b[0m\u001b[0mad\u001b[0m\u001b[0;34m)\u001b[0m\u001b[0;34m\u001b[0m\u001b[0;34m\u001b[0m\u001b[0m\n\u001b[0m\u001b[1;32m      7\u001b[0m             \u001b[0;32mif\u001b[0m \u001b[0mloc\u001b[0m\u001b[0;34m[\u001b[0m\u001b[0;34m'status'\u001b[0m\u001b[0;34m]\u001b[0m\u001b[0;34m!=\u001b[0m\u001b[0;34m'ZERO_RESULTS'\u001b[0m\u001b[0;34m:\u001b[0m\u001b[0;34m\u001b[0m\u001b[0;34m\u001b[0m\u001b[0m\n\u001b[1;32m      8\u001b[0m                 \u001b[0;32mif\u001b[0m \u001b[0mloc\u001b[0m\u001b[0;34m[\u001b[0m\u001b[0;34m'status'\u001b[0m\u001b[0;34m]\u001b[0m\u001b[0;34m!=\u001b[0m\u001b[0;34m'REQUEST_DENIED'\u001b[0m\u001b[0;34m:\u001b[0m\u001b[0;34m\u001b[0m\u001b[0;34m\u001b[0m\u001b[0m\n",
      "\u001b[0;32m<ipython-input-132-27b3acb451b6>\u001b[0m in \u001b[0;36mapicompanies\u001b[0;34m(ad)\u001b[0m\n\u001b[1;32m      1\u001b[0m \u001b[0;32mdef\u001b[0m \u001b[0mapicompanies\u001b[0m\u001b[0;34m(\u001b[0m\u001b[0mad\u001b[0m\u001b[0;34m)\u001b[0m\u001b[0;34m:\u001b[0m\u001b[0;34m\u001b[0m\u001b[0;34m\u001b[0m\u001b[0m\n\u001b[0;32m----> 2\u001b[0;31m     \u001b[0mloc_comp\u001b[0m \u001b[0;34m=\u001b[0m \u001b[0mgoogleRequestAuthorized\u001b[0m\u001b[0;34m(\u001b[0m\u001b[0mad\u001b[0m\u001b[0;34m)\u001b[0m\u001b[0;34m.\u001b[0m\u001b[0mjson\u001b[0m\u001b[0;34m(\u001b[0m\u001b[0;34m)\u001b[0m\u001b[0;34m\u001b[0m\u001b[0;34m\u001b[0m\u001b[0m\n\u001b[0m\u001b[1;32m      3\u001b[0m     \u001b[0;32mreturn\u001b[0m \u001b[0mloc_comp\u001b[0m\u001b[0;34m\u001b[0m\u001b[0;34m\u001b[0m\u001b[0m\n",
      "\u001b[0;32m<ipython-input-131-61a2e5283265>\u001b[0m in \u001b[0;36mgoogleRequestAuthorized\u001b[0;34m(address)\u001b[0m\n\u001b[1;32m      6\u001b[0m         \u001b[0mprint\u001b[0m\u001b[0;34m(\u001b[0m\u001b[0;34m\"We have a github token: \"\u001b[0m\u001b[0;34m,\u001b[0m \u001b[0mauthToken\u001b[0m\u001b[0;34m[\u001b[0m\u001b[0;36m0\u001b[0m\u001b[0;34m:\u001b[0m\u001b[0;36m4\u001b[0m\u001b[0;34m]\u001b[0m\u001b[0;34m)\u001b[0m\u001b[0;34m\u001b[0m\u001b[0;34m\u001b[0m\u001b[0m\n\u001b[1;32m      7\u001b[0m     \u001b[0murl\u001b[0m \u001b[0;34m=\u001b[0m \u001b[0;34mf\"https://maps.googleapis.com/maps/api/geocode/json?address={address}&key={authToken}\"\u001b[0m\u001b[0;34m\u001b[0m\u001b[0;34m\u001b[0m\u001b[0m\n\u001b[0;32m----> 8\u001b[0;31m     \u001b[0mres\u001b[0m \u001b[0;34m=\u001b[0m \u001b[0mrequests\u001b[0m\u001b[0;34m.\u001b[0m\u001b[0mget\u001b[0m\u001b[0;34m(\u001b[0m\u001b[0murl\u001b[0m\u001b[0;34m)\u001b[0m\u001b[0;34m\u001b[0m\u001b[0;34m\u001b[0m\u001b[0m\n\u001b[0m\u001b[1;32m      9\u001b[0m     \u001b[0;31m#print(\"Requesting authorized {}\".format(res.url))\u001b[0m\u001b[0;34m\u001b[0m\u001b[0;34m\u001b[0m\u001b[0;34m\u001b[0m\u001b[0m\n\u001b[1;32m     10\u001b[0m \u001b[0;34m\u001b[0m\u001b[0m\n",
      "\u001b[0;32m/usr/local/lib/python3.7/site-packages/requests/api.py\u001b[0m in \u001b[0;36mget\u001b[0;34m(url, params, **kwargs)\u001b[0m\n\u001b[1;32m     73\u001b[0m \u001b[0;34m\u001b[0m\u001b[0m\n\u001b[1;32m     74\u001b[0m     \u001b[0mkwargs\u001b[0m\u001b[0;34m.\u001b[0m\u001b[0msetdefault\u001b[0m\u001b[0;34m(\u001b[0m\u001b[0;34m'allow_redirects'\u001b[0m\u001b[0;34m,\u001b[0m \u001b[0;32mTrue\u001b[0m\u001b[0;34m)\u001b[0m\u001b[0;34m\u001b[0m\u001b[0;34m\u001b[0m\u001b[0m\n\u001b[0;32m---> 75\u001b[0;31m     \u001b[0;32mreturn\u001b[0m \u001b[0mrequest\u001b[0m\u001b[0;34m(\u001b[0m\u001b[0;34m'get'\u001b[0m\u001b[0;34m,\u001b[0m \u001b[0murl\u001b[0m\u001b[0;34m,\u001b[0m \u001b[0mparams\u001b[0m\u001b[0;34m=\u001b[0m\u001b[0mparams\u001b[0m\u001b[0;34m,\u001b[0m \u001b[0;34m**\u001b[0m\u001b[0mkwargs\u001b[0m\u001b[0;34m)\u001b[0m\u001b[0;34m\u001b[0m\u001b[0;34m\u001b[0m\u001b[0m\n\u001b[0m\u001b[1;32m     76\u001b[0m \u001b[0;34m\u001b[0m\u001b[0m\n\u001b[1;32m     77\u001b[0m \u001b[0;34m\u001b[0m\u001b[0m\n",
      "\u001b[0;32m/usr/local/lib/python3.7/site-packages/requests/api.py\u001b[0m in \u001b[0;36mrequest\u001b[0;34m(method, url, **kwargs)\u001b[0m\n\u001b[1;32m     58\u001b[0m     \u001b[0;31m# cases, and look like a memory leak in others.\u001b[0m\u001b[0;34m\u001b[0m\u001b[0;34m\u001b[0m\u001b[0;34m\u001b[0m\u001b[0m\n\u001b[1;32m     59\u001b[0m     \u001b[0;32mwith\u001b[0m \u001b[0msessions\u001b[0m\u001b[0;34m.\u001b[0m\u001b[0mSession\u001b[0m\u001b[0;34m(\u001b[0m\u001b[0;34m)\u001b[0m \u001b[0;32mas\u001b[0m \u001b[0msession\u001b[0m\u001b[0;34m:\u001b[0m\u001b[0;34m\u001b[0m\u001b[0;34m\u001b[0m\u001b[0m\n\u001b[0;32m---> 60\u001b[0;31m         \u001b[0;32mreturn\u001b[0m \u001b[0msession\u001b[0m\u001b[0;34m.\u001b[0m\u001b[0mrequest\u001b[0m\u001b[0;34m(\u001b[0m\u001b[0mmethod\u001b[0m\u001b[0;34m=\u001b[0m\u001b[0mmethod\u001b[0m\u001b[0;34m,\u001b[0m \u001b[0murl\u001b[0m\u001b[0;34m=\u001b[0m\u001b[0murl\u001b[0m\u001b[0;34m,\u001b[0m \u001b[0;34m**\u001b[0m\u001b[0mkwargs\u001b[0m\u001b[0;34m)\u001b[0m\u001b[0;34m\u001b[0m\u001b[0;34m\u001b[0m\u001b[0m\n\u001b[0m\u001b[1;32m     61\u001b[0m \u001b[0;34m\u001b[0m\u001b[0m\n\u001b[1;32m     62\u001b[0m \u001b[0;34m\u001b[0m\u001b[0m\n",
      "\u001b[0;32m/usr/local/lib/python3.7/site-packages/requests/sessions.py\u001b[0m in \u001b[0;36mrequest\u001b[0;34m(self, method, url, params, data, headers, cookies, files, auth, timeout, allow_redirects, proxies, hooks, stream, verify, cert, json)\u001b[0m\n\u001b[1;32m    531\u001b[0m         }\n\u001b[1;32m    532\u001b[0m         \u001b[0msend_kwargs\u001b[0m\u001b[0;34m.\u001b[0m\u001b[0mupdate\u001b[0m\u001b[0;34m(\u001b[0m\u001b[0msettings\u001b[0m\u001b[0;34m)\u001b[0m\u001b[0;34m\u001b[0m\u001b[0;34m\u001b[0m\u001b[0m\n\u001b[0;32m--> 533\u001b[0;31m         \u001b[0mresp\u001b[0m \u001b[0;34m=\u001b[0m \u001b[0mself\u001b[0m\u001b[0;34m.\u001b[0m\u001b[0msend\u001b[0m\u001b[0;34m(\u001b[0m\u001b[0mprep\u001b[0m\u001b[0;34m,\u001b[0m \u001b[0;34m**\u001b[0m\u001b[0msend_kwargs\u001b[0m\u001b[0;34m)\u001b[0m\u001b[0;34m\u001b[0m\u001b[0;34m\u001b[0m\u001b[0m\n\u001b[0m\u001b[1;32m    534\u001b[0m \u001b[0;34m\u001b[0m\u001b[0m\n\u001b[1;32m    535\u001b[0m         \u001b[0;32mreturn\u001b[0m \u001b[0mresp\u001b[0m\u001b[0;34m\u001b[0m\u001b[0;34m\u001b[0m\u001b[0m\n",
      "\u001b[0;32m/usr/local/lib/python3.7/site-packages/requests/sessions.py\u001b[0m in \u001b[0;36msend\u001b[0;34m(self, request, **kwargs)\u001b[0m\n\u001b[1;32m    644\u001b[0m \u001b[0;34m\u001b[0m\u001b[0m\n\u001b[1;32m    645\u001b[0m         \u001b[0;31m# Send the request\u001b[0m\u001b[0;34m\u001b[0m\u001b[0;34m\u001b[0m\u001b[0;34m\u001b[0m\u001b[0m\n\u001b[0;32m--> 646\u001b[0;31m         \u001b[0mr\u001b[0m \u001b[0;34m=\u001b[0m \u001b[0madapter\u001b[0m\u001b[0;34m.\u001b[0m\u001b[0msend\u001b[0m\u001b[0;34m(\u001b[0m\u001b[0mrequest\u001b[0m\u001b[0;34m,\u001b[0m \u001b[0;34m**\u001b[0m\u001b[0mkwargs\u001b[0m\u001b[0;34m)\u001b[0m\u001b[0;34m\u001b[0m\u001b[0;34m\u001b[0m\u001b[0m\n\u001b[0m\u001b[1;32m    647\u001b[0m \u001b[0;34m\u001b[0m\u001b[0m\n\u001b[1;32m    648\u001b[0m         \u001b[0;31m# Total elapsed time of the request (approximately)\u001b[0m\u001b[0;34m\u001b[0m\u001b[0;34m\u001b[0m\u001b[0;34m\u001b[0m\u001b[0m\n",
      "\u001b[0;32m/usr/local/lib/python3.7/site-packages/requests/adapters.py\u001b[0m in \u001b[0;36msend\u001b[0;34m(self, request, stream, timeout, verify, cert, proxies)\u001b[0m\n\u001b[1;32m    447\u001b[0m                     \u001b[0mdecode_content\u001b[0m\u001b[0;34m=\u001b[0m\u001b[0;32mFalse\u001b[0m\u001b[0;34m,\u001b[0m\u001b[0;34m\u001b[0m\u001b[0;34m\u001b[0m\u001b[0m\n\u001b[1;32m    448\u001b[0m                     \u001b[0mretries\u001b[0m\u001b[0;34m=\u001b[0m\u001b[0mself\u001b[0m\u001b[0;34m.\u001b[0m\u001b[0mmax_retries\u001b[0m\u001b[0;34m,\u001b[0m\u001b[0;34m\u001b[0m\u001b[0;34m\u001b[0m\u001b[0m\n\u001b[0;32m--> 449\u001b[0;31m                     \u001b[0mtimeout\u001b[0m\u001b[0;34m=\u001b[0m\u001b[0mtimeout\u001b[0m\u001b[0;34m\u001b[0m\u001b[0;34m\u001b[0m\u001b[0m\n\u001b[0m\u001b[1;32m    450\u001b[0m                 )\n\u001b[1;32m    451\u001b[0m \u001b[0;34m\u001b[0m\u001b[0m\n",
      "\u001b[0;32m/usr/local/lib/python3.7/site-packages/urllib3/connectionpool.py\u001b[0m in \u001b[0;36murlopen\u001b[0;34m(self, method, url, body, headers, retries, redirect, assert_same_host, timeout, pool_timeout, release_conn, chunked, body_pos, **response_kw)\u001b[0m\n\u001b[1;32m    670\u001b[0m                 \u001b[0mbody\u001b[0m\u001b[0;34m=\u001b[0m\u001b[0mbody\u001b[0m\u001b[0;34m,\u001b[0m\u001b[0;34m\u001b[0m\u001b[0;34m\u001b[0m\u001b[0m\n\u001b[1;32m    671\u001b[0m                 \u001b[0mheaders\u001b[0m\u001b[0;34m=\u001b[0m\u001b[0mheaders\u001b[0m\u001b[0;34m,\u001b[0m\u001b[0;34m\u001b[0m\u001b[0;34m\u001b[0m\u001b[0m\n\u001b[0;32m--> 672\u001b[0;31m                 \u001b[0mchunked\u001b[0m\u001b[0;34m=\u001b[0m\u001b[0mchunked\u001b[0m\u001b[0;34m,\u001b[0m\u001b[0;34m\u001b[0m\u001b[0;34m\u001b[0m\u001b[0m\n\u001b[0m\u001b[1;32m    673\u001b[0m             )\n\u001b[1;32m    674\u001b[0m \u001b[0;34m\u001b[0m\u001b[0m\n",
      "\u001b[0;32m/usr/local/lib/python3.7/site-packages/urllib3/connectionpool.py\u001b[0m in \u001b[0;36m_make_request\u001b[0;34m(self, conn, method, url, timeout, chunked, **httplib_request_kw)\u001b[0m\n\u001b[1;32m    419\u001b[0m                     \u001b[0;31m# Python 3 (including for exceptions like SystemExit).\u001b[0m\u001b[0;34m\u001b[0m\u001b[0;34m\u001b[0m\u001b[0;34m\u001b[0m\u001b[0m\n\u001b[1;32m    420\u001b[0m                     \u001b[0;31m# Otherwise it looks like a bug in the code.\u001b[0m\u001b[0;34m\u001b[0m\u001b[0;34m\u001b[0m\u001b[0;34m\u001b[0m\u001b[0m\n\u001b[0;32m--> 421\u001b[0;31m                     \u001b[0msix\u001b[0m\u001b[0;34m.\u001b[0m\u001b[0mraise_from\u001b[0m\u001b[0;34m(\u001b[0m\u001b[0me\u001b[0m\u001b[0;34m,\u001b[0m \u001b[0;32mNone\u001b[0m\u001b[0;34m)\u001b[0m\u001b[0;34m\u001b[0m\u001b[0;34m\u001b[0m\u001b[0m\n\u001b[0m\u001b[1;32m    422\u001b[0m         \u001b[0;32mexcept\u001b[0m \u001b[0;34m(\u001b[0m\u001b[0mSocketTimeout\u001b[0m\u001b[0;34m,\u001b[0m \u001b[0mBaseSSLError\u001b[0m\u001b[0;34m,\u001b[0m \u001b[0mSocketError\u001b[0m\u001b[0;34m)\u001b[0m \u001b[0;32mas\u001b[0m \u001b[0me\u001b[0m\u001b[0;34m:\u001b[0m\u001b[0;34m\u001b[0m\u001b[0;34m\u001b[0m\u001b[0m\n\u001b[1;32m    423\u001b[0m             \u001b[0mself\u001b[0m\u001b[0;34m.\u001b[0m\u001b[0m_raise_timeout\u001b[0m\u001b[0;34m(\u001b[0m\u001b[0merr\u001b[0m\u001b[0;34m=\u001b[0m\u001b[0me\u001b[0m\u001b[0;34m,\u001b[0m \u001b[0murl\u001b[0m\u001b[0;34m=\u001b[0m\u001b[0murl\u001b[0m\u001b[0;34m,\u001b[0m \u001b[0mtimeout_value\u001b[0m\u001b[0;34m=\u001b[0m\u001b[0mread_timeout\u001b[0m\u001b[0;34m)\u001b[0m\u001b[0;34m\u001b[0m\u001b[0;34m\u001b[0m\u001b[0m\n",
      "\u001b[0;32m/usr/local/lib/python3.7/site-packages/urllib3/packages/six.py\u001b[0m in \u001b[0;36mraise_from\u001b[0;34m(value, from_value)\u001b[0m\n",
      "\u001b[0;32m/usr/local/lib/python3.7/site-packages/urllib3/connectionpool.py\u001b[0m in \u001b[0;36m_make_request\u001b[0;34m(self, conn, method, url, timeout, chunked, **httplib_request_kw)\u001b[0m\n\u001b[1;32m    414\u001b[0m                 \u001b[0;31m# Python 3\u001b[0m\u001b[0;34m\u001b[0m\u001b[0;34m\u001b[0m\u001b[0;34m\u001b[0m\u001b[0m\n\u001b[1;32m    415\u001b[0m                 \u001b[0;32mtry\u001b[0m\u001b[0;34m:\u001b[0m\u001b[0;34m\u001b[0m\u001b[0;34m\u001b[0m\u001b[0m\n\u001b[0;32m--> 416\u001b[0;31m                     \u001b[0mhttplib_response\u001b[0m \u001b[0;34m=\u001b[0m \u001b[0mconn\u001b[0m\u001b[0;34m.\u001b[0m\u001b[0mgetresponse\u001b[0m\u001b[0;34m(\u001b[0m\u001b[0;34m)\u001b[0m\u001b[0;34m\u001b[0m\u001b[0;34m\u001b[0m\u001b[0m\n\u001b[0m\u001b[1;32m    417\u001b[0m                 \u001b[0;32mexcept\u001b[0m \u001b[0mBaseException\u001b[0m \u001b[0;32mas\u001b[0m \u001b[0me\u001b[0m\u001b[0;34m:\u001b[0m\u001b[0;34m\u001b[0m\u001b[0;34m\u001b[0m\u001b[0m\n\u001b[1;32m    418\u001b[0m                     \u001b[0;31m# Remove the TypeError from the exception chain in\u001b[0m\u001b[0;34m\u001b[0m\u001b[0;34m\u001b[0m\u001b[0;34m\u001b[0m\u001b[0m\n",
      "\u001b[0;32m/usr/local/Cellar/python/3.7.4_1/Frameworks/Python.framework/Versions/3.7/lib/python3.7/http/client.py\u001b[0m in \u001b[0;36mgetresponse\u001b[0;34m(self)\u001b[0m\n\u001b[1;32m   1334\u001b[0m         \u001b[0;32mtry\u001b[0m\u001b[0;34m:\u001b[0m\u001b[0;34m\u001b[0m\u001b[0;34m\u001b[0m\u001b[0m\n\u001b[1;32m   1335\u001b[0m             \u001b[0;32mtry\u001b[0m\u001b[0;34m:\u001b[0m\u001b[0;34m\u001b[0m\u001b[0;34m\u001b[0m\u001b[0m\n\u001b[0;32m-> 1336\u001b[0;31m                 \u001b[0mresponse\u001b[0m\u001b[0;34m.\u001b[0m\u001b[0mbegin\u001b[0m\u001b[0;34m(\u001b[0m\u001b[0;34m)\u001b[0m\u001b[0;34m\u001b[0m\u001b[0;34m\u001b[0m\u001b[0m\n\u001b[0m\u001b[1;32m   1337\u001b[0m             \u001b[0;32mexcept\u001b[0m \u001b[0mConnectionError\u001b[0m\u001b[0;34m:\u001b[0m\u001b[0;34m\u001b[0m\u001b[0;34m\u001b[0m\u001b[0m\n\u001b[1;32m   1338\u001b[0m                 \u001b[0mself\u001b[0m\u001b[0;34m.\u001b[0m\u001b[0mclose\u001b[0m\u001b[0;34m(\u001b[0m\u001b[0;34m)\u001b[0m\u001b[0;34m\u001b[0m\u001b[0;34m\u001b[0m\u001b[0m\n",
      "\u001b[0;32m/usr/local/Cellar/python/3.7.4_1/Frameworks/Python.framework/Versions/3.7/lib/python3.7/http/client.py\u001b[0m in \u001b[0;36mbegin\u001b[0;34m(self)\u001b[0m\n\u001b[1;32m    304\u001b[0m         \u001b[0;31m# read until we get a non-100 response\u001b[0m\u001b[0;34m\u001b[0m\u001b[0;34m\u001b[0m\u001b[0;34m\u001b[0m\u001b[0m\n\u001b[1;32m    305\u001b[0m         \u001b[0;32mwhile\u001b[0m \u001b[0;32mTrue\u001b[0m\u001b[0;34m:\u001b[0m\u001b[0;34m\u001b[0m\u001b[0;34m\u001b[0m\u001b[0m\n\u001b[0;32m--> 306\u001b[0;31m             \u001b[0mversion\u001b[0m\u001b[0;34m,\u001b[0m \u001b[0mstatus\u001b[0m\u001b[0;34m,\u001b[0m \u001b[0mreason\u001b[0m \u001b[0;34m=\u001b[0m \u001b[0mself\u001b[0m\u001b[0;34m.\u001b[0m\u001b[0m_read_status\u001b[0m\u001b[0;34m(\u001b[0m\u001b[0;34m)\u001b[0m\u001b[0;34m\u001b[0m\u001b[0;34m\u001b[0m\u001b[0m\n\u001b[0m\u001b[1;32m    307\u001b[0m             \u001b[0;32mif\u001b[0m \u001b[0mstatus\u001b[0m \u001b[0;34m!=\u001b[0m \u001b[0mCONTINUE\u001b[0m\u001b[0;34m:\u001b[0m\u001b[0;34m\u001b[0m\u001b[0;34m\u001b[0m\u001b[0m\n\u001b[1;32m    308\u001b[0m                 \u001b[0;32mbreak\u001b[0m\u001b[0;34m\u001b[0m\u001b[0;34m\u001b[0m\u001b[0m\n",
      "\u001b[0;32m/usr/local/Cellar/python/3.7.4_1/Frameworks/Python.framework/Versions/3.7/lib/python3.7/http/client.py\u001b[0m in \u001b[0;36m_read_status\u001b[0;34m(self)\u001b[0m\n\u001b[1;32m    265\u001b[0m \u001b[0;34m\u001b[0m\u001b[0m\n\u001b[1;32m    266\u001b[0m     \u001b[0;32mdef\u001b[0m \u001b[0m_read_status\u001b[0m\u001b[0;34m(\u001b[0m\u001b[0mself\u001b[0m\u001b[0;34m)\u001b[0m\u001b[0;34m:\u001b[0m\u001b[0;34m\u001b[0m\u001b[0;34m\u001b[0m\u001b[0m\n\u001b[0;32m--> 267\u001b[0;31m         \u001b[0mline\u001b[0m \u001b[0;34m=\u001b[0m \u001b[0mstr\u001b[0m\u001b[0;34m(\u001b[0m\u001b[0mself\u001b[0m\u001b[0;34m.\u001b[0m\u001b[0mfp\u001b[0m\u001b[0;34m.\u001b[0m\u001b[0mreadline\u001b[0m\u001b[0;34m(\u001b[0m\u001b[0m_MAXLINE\u001b[0m \u001b[0;34m+\u001b[0m \u001b[0;36m1\u001b[0m\u001b[0;34m)\u001b[0m\u001b[0;34m,\u001b[0m \u001b[0;34m\"iso-8859-1\"\u001b[0m\u001b[0;34m)\u001b[0m\u001b[0;34m\u001b[0m\u001b[0;34m\u001b[0m\u001b[0m\n\u001b[0m\u001b[1;32m    268\u001b[0m         \u001b[0;32mif\u001b[0m \u001b[0mlen\u001b[0m\u001b[0;34m(\u001b[0m\u001b[0mline\u001b[0m\u001b[0;34m)\u001b[0m \u001b[0;34m>\u001b[0m \u001b[0m_MAXLINE\u001b[0m\u001b[0;34m:\u001b[0m\u001b[0;34m\u001b[0m\u001b[0;34m\u001b[0m\u001b[0m\n\u001b[1;32m    269\u001b[0m             \u001b[0;32mraise\u001b[0m \u001b[0mLineTooLong\u001b[0m\u001b[0;34m(\u001b[0m\u001b[0;34m\"status line\"\u001b[0m\u001b[0;34m)\u001b[0m\u001b[0;34m\u001b[0m\u001b[0;34m\u001b[0m\u001b[0m\n",
      "\u001b[0;32m/usr/local/Cellar/python/3.7.4_1/Frameworks/Python.framework/Versions/3.7/lib/python3.7/socket.py\u001b[0m in \u001b[0;36mreadinto\u001b[0;34m(self, b)\u001b[0m\n\u001b[1;32m    587\u001b[0m         \u001b[0;32mwhile\u001b[0m \u001b[0;32mTrue\u001b[0m\u001b[0;34m:\u001b[0m\u001b[0;34m\u001b[0m\u001b[0;34m\u001b[0m\u001b[0m\n\u001b[1;32m    588\u001b[0m             \u001b[0;32mtry\u001b[0m\u001b[0;34m:\u001b[0m\u001b[0;34m\u001b[0m\u001b[0;34m\u001b[0m\u001b[0m\n\u001b[0;32m--> 589\u001b[0;31m                 \u001b[0;32mreturn\u001b[0m \u001b[0mself\u001b[0m\u001b[0;34m.\u001b[0m\u001b[0m_sock\u001b[0m\u001b[0;34m.\u001b[0m\u001b[0mrecv_into\u001b[0m\u001b[0;34m(\u001b[0m\u001b[0mb\u001b[0m\u001b[0;34m)\u001b[0m\u001b[0;34m\u001b[0m\u001b[0;34m\u001b[0m\u001b[0m\n\u001b[0m\u001b[1;32m    590\u001b[0m             \u001b[0;32mexcept\u001b[0m \u001b[0mtimeout\u001b[0m\u001b[0;34m:\u001b[0m\u001b[0;34m\u001b[0m\u001b[0;34m\u001b[0m\u001b[0m\n\u001b[1;32m    591\u001b[0m                 \u001b[0mself\u001b[0m\u001b[0;34m.\u001b[0m\u001b[0m_timeout_occurred\u001b[0m \u001b[0;34m=\u001b[0m \u001b[0;32mTrue\u001b[0m\u001b[0;34m\u001b[0m\u001b[0;34m\u001b[0m\u001b[0m\n",
      "\u001b[0;32m/usr/local/Cellar/python/3.7.4_1/Frameworks/Python.framework/Versions/3.7/lib/python3.7/ssl.py\u001b[0m in \u001b[0;36mrecv_into\u001b[0;34m(self, buffer, nbytes, flags)\u001b[0m\n\u001b[1;32m   1069\u001b[0m                   \u001b[0;34m\"non-zero flags not allowed in calls to recv_into() on %s\"\u001b[0m \u001b[0;34m%\u001b[0m\u001b[0;34m\u001b[0m\u001b[0;34m\u001b[0m\u001b[0m\n\u001b[1;32m   1070\u001b[0m                   self.__class__)\n\u001b[0;32m-> 1071\u001b[0;31m             \u001b[0;32mreturn\u001b[0m \u001b[0mself\u001b[0m\u001b[0;34m.\u001b[0m\u001b[0mread\u001b[0m\u001b[0;34m(\u001b[0m\u001b[0mnbytes\u001b[0m\u001b[0;34m,\u001b[0m \u001b[0mbuffer\u001b[0m\u001b[0;34m)\u001b[0m\u001b[0;34m\u001b[0m\u001b[0;34m\u001b[0m\u001b[0m\n\u001b[0m\u001b[1;32m   1072\u001b[0m         \u001b[0;32melse\u001b[0m\u001b[0;34m:\u001b[0m\u001b[0;34m\u001b[0m\u001b[0;34m\u001b[0m\u001b[0m\n\u001b[1;32m   1073\u001b[0m             \u001b[0;32mreturn\u001b[0m \u001b[0msuper\u001b[0m\u001b[0;34m(\u001b[0m\u001b[0;34m)\u001b[0m\u001b[0;34m.\u001b[0m\u001b[0mrecv_into\u001b[0m\u001b[0;34m(\u001b[0m\u001b[0mbuffer\u001b[0m\u001b[0;34m,\u001b[0m \u001b[0mnbytes\u001b[0m\u001b[0;34m,\u001b[0m \u001b[0mflags\u001b[0m\u001b[0;34m)\u001b[0m\u001b[0;34m\u001b[0m\u001b[0;34m\u001b[0m\u001b[0m\n",
      "\u001b[0;32m/usr/local/Cellar/python/3.7.4_1/Frameworks/Python.framework/Versions/3.7/lib/python3.7/ssl.py\u001b[0m in \u001b[0;36mread\u001b[0;34m(self, len, buffer)\u001b[0m\n\u001b[1;32m    927\u001b[0m         \u001b[0;32mtry\u001b[0m\u001b[0;34m:\u001b[0m\u001b[0;34m\u001b[0m\u001b[0;34m\u001b[0m\u001b[0m\n\u001b[1;32m    928\u001b[0m             \u001b[0;32mif\u001b[0m \u001b[0mbuffer\u001b[0m \u001b[0;32mis\u001b[0m \u001b[0;32mnot\u001b[0m \u001b[0;32mNone\u001b[0m\u001b[0;34m:\u001b[0m\u001b[0;34m\u001b[0m\u001b[0;34m\u001b[0m\u001b[0m\n\u001b[0;32m--> 929\u001b[0;31m                 \u001b[0;32mreturn\u001b[0m \u001b[0mself\u001b[0m\u001b[0;34m.\u001b[0m\u001b[0m_sslobj\u001b[0m\u001b[0;34m.\u001b[0m\u001b[0mread\u001b[0m\u001b[0;34m(\u001b[0m\u001b[0mlen\u001b[0m\u001b[0;34m,\u001b[0m \u001b[0mbuffer\u001b[0m\u001b[0;34m)\u001b[0m\u001b[0;34m\u001b[0m\u001b[0;34m\u001b[0m\u001b[0m\n\u001b[0m\u001b[1;32m    930\u001b[0m             \u001b[0;32melse\u001b[0m\u001b[0;34m:\u001b[0m\u001b[0;34m\u001b[0m\u001b[0;34m\u001b[0m\u001b[0m\n\u001b[1;32m    931\u001b[0m                 \u001b[0;32mreturn\u001b[0m \u001b[0mself\u001b[0m\u001b[0;34m.\u001b[0m\u001b[0m_sslobj\u001b[0m\u001b[0;34m.\u001b[0m\u001b[0mread\u001b[0m\u001b[0;34m(\u001b[0m\u001b[0mlen\u001b[0m\u001b[0;34m)\u001b[0m\u001b[0;34m\u001b[0m\u001b[0;34m\u001b[0m\u001b[0m\n",
      "\u001b[0;31mKeyboardInterrupt\u001b[0m: "
     ]
    }
   ],
   "source": [
    "for _,row in df.iterrows():\n",
    "    if np.isnan(row['Latitude']):\n",
    "        if (row['Address']):\n",
    "            ad=row['Address']\n",
    "            print(ad)\n",
    "            loc=apicompanies(ad)\n",
    "            if loc['status']!='ZERO_RESULTS':\n",
    "                if loc['status']!='REQUEST_DENIED':\n",
    "                    if loc['status']!='INVALID_REQUEST':\n",
    "                        df.loc[(df['Address']==ad),'Longitude']=loc['results'][0]['geometry']['location']['lng']\n",
    "                        df.loc[(df['Address']==ad),'Latitude']=loc['results'][0]['geometry']['location']['lat']\n"
   ]
  },
  {
   "cell_type": "code",
   "execution_count": 163,
   "metadata": {},
   "outputs": [
    {
     "data": {
      "text/plain": [
       "ref                          52cdef7c4bab8bd675298648\n",
       "Name                                           Zigtag\n",
       "Category                                  advertising\n",
       "Description                                      None\n",
       "Latitude                                          NaN\n",
       "Longitude                                         NaN\n",
       "Founded Year                                     2006\n",
       "Total Money Raised                                 $0\n",
       "Raised Amount                                       0\n",
       "Currency                                            0\n",
       "Address               #206 - 9650 - 20 Avenue T6N 1G1\n",
       "Zip code                                      T6E 6V7\n",
       "City                                         Edmonton\n",
       "Name: 2348, dtype: object"
      ]
     },
     "execution_count": 163,
     "metadata": {},
     "output_type": "execute_result"
    }
   ],
   "source": [
    "row"
   ]
  },
  {
   "cell_type": "code",
   "execution_count": 165,
   "metadata": {},
   "outputs": [
    {
     "data": {
      "text/plain": [
       "'INVALID_REQUEST'"
      ]
     },
     "execution_count": 165,
     "metadata": {},
     "output_type": "execute_result"
    }
   ],
   "source": [
    "loc['status']"
   ]
  },
  {
   "cell_type": "code",
   "execution_count": 168,
   "metadata": {},
   "outputs": [
    {
     "data": {
      "text/plain": [
       "(5042, 13)"
      ]
     },
     "execution_count": 168,
     "metadata": {},
     "output_type": "execute_result"
    }
   ],
   "source": [
    "df[(df['Longitude'].isnull() & df['Latitude'].isnull())].shape"
   ]
  },
  {
   "cell_type": "code",
   "execution_count": 144,
   "metadata": {},
   "outputs": [
    {
     "data": {
      "text/plain": [
       "35.6488097"
      ]
     },
     "execution_count": 144,
     "metadata": {},
     "output_type": "execute_result"
    }
   ],
   "source": [
    "loc['results'][0]['geometry']['location']['lat']\n",
    "#loc['results'][0]['geometry']['bounds']['southwest']['lng']"
   ]
  },
  {
   "cell_type": "code",
   "execution_count": 51,
   "metadata": {},
   "outputs": [
    {
     "data": {
      "text/plain": [
       "'959 Skyway Road, Suite 200'"
      ]
     },
     "execution_count": 51,
     "metadata": {},
     "output_type": "execute_result"
    }
   ],
   "source": [
    "ad"
   ]
  },
  {
   "cell_type": "code",
   "execution_count": 247,
   "metadata": {},
   "outputs": [],
   "source": [
    "#creating geolocation dictionary with correct format\n",
    "def getLocation(long,lat):\n",
    "    loc = {\n",
    "        'type':'Point',\n",
    "        'coordinates':[float(long), float(lat)]\n",
    "    }\n",
    "    return loc"
   ]
  },
  {
   "cell_type": "code",
   "execution_count": 248,
   "metadata": {},
   "outputs": [
    {
     "data": {
      "text/plain": [
       "(15848, 14)"
      ]
     },
     "execution_count": 248,
     "metadata": {},
     "output_type": "execute_result"
    }
   ],
   "source": [
    "#adding geolocation column to the dataframe\n",
    "geolocations=[]\n",
    "for long, lat in df[[\"Longitude\",\"Latitude\"]].values:\n",
    "    geolocations.append(getLocation(long,lat))\n",
    "df['GeoLocations']=geolocations\n",
    "df.shape"
   ]
  },
  {
   "cell_type": "code",
   "execution_count": 255,
   "metadata": {},
   "outputs": [
    {
     "data": {
      "text/html": [
       "<div>\n",
       "<style scoped>\n",
       "    .dataframe tbody tr th:only-of-type {\n",
       "        vertical-align: middle;\n",
       "    }\n",
       "\n",
       "    .dataframe tbody tr th {\n",
       "        vertical-align: top;\n",
       "    }\n",
       "\n",
       "    .dataframe thead th {\n",
       "        text-align: right;\n",
       "    }\n",
       "</style>\n",
       "<table border=\"1\" class=\"dataframe\">\n",
       "  <thead>\n",
       "    <tr style=\"text-align: right;\">\n",
       "      <th></th>\n",
       "      <th>ref</th>\n",
       "      <th>Name</th>\n",
       "      <th>Category</th>\n",
       "      <th>Description</th>\n",
       "      <th>Latitude</th>\n",
       "      <th>Longitude</th>\n",
       "      <th>Founded Year</th>\n",
       "      <th>Total Money Raised</th>\n",
       "      <th>Raised Amount</th>\n",
       "      <th>Currency</th>\n",
       "      <th>Address</th>\n",
       "      <th>Zip code</th>\n",
       "      <th>City</th>\n",
       "      <th>GeoLocations</th>\n",
       "    </tr>\n",
       "  </thead>\n",
       "  <tbody>\n",
       "    <tr>\n",
       "      <th>0</th>\n",
       "      <td>52cdef7c4bab8bd675297d8d</td>\n",
       "      <td>Digg</td>\n",
       "      <td>news</td>\n",
       "      <td>user driven social content website</td>\n",
       "      <td>37.764726</td>\n",
       "      <td>-122.394523</td>\n",
       "      <td>2004.0</td>\n",
       "      <td>$45M</td>\n",
       "      <td>45000000.0</td>\n",
       "      <td>USD</td>\n",
       "      <td>135 Mississippi St</td>\n",
       "      <td>94107</td>\n",
       "      <td>San Francisco</td>\n",
       "      <td>{'type': 'Point', 'coordinates': [-122.394523,...</td>\n",
       "    </tr>\n",
       "    <tr>\n",
       "      <th>1</th>\n",
       "      <td>52cdef7c4bab8bd675297d90</td>\n",
       "      <td>Postini</td>\n",
       "      <td>web</td>\n",
       "      <td>None</td>\n",
       "      <td>37.506885</td>\n",
       "      <td>-122.247573</td>\n",
       "      <td>1999.0</td>\n",
       "      <td>$0</td>\n",
       "      <td>0.0</td>\n",
       "      <td>USD</td>\n",
       "      <td>959 Skyway Road, Suite 200</td>\n",
       "      <td>94070</td>\n",
       "      <td>San Carlos</td>\n",
       "      <td>{'type': 'Point', 'coordinates': [-122.247573,...</td>\n",
       "    </tr>\n",
       "    <tr>\n",
       "      <th>2</th>\n",
       "      <td>52cdef7c4bab8bd675297d92</td>\n",
       "      <td>Flektor</td>\n",
       "      <td>games_video</td>\n",
       "      <td>None</td>\n",
       "      <td>34.025958</td>\n",
       "      <td>-118.379768</td>\n",
       "      <td>NaN</td>\n",
       "      <td>$0</td>\n",
       "      <td>0.0</td>\n",
       "      <td>USD</td>\n",
       "      <td>8536 National Blvd, Suite A</td>\n",
       "      <td>90232</td>\n",
       "      <td>Culver City</td>\n",
       "      <td>{'type': 'Point', 'coordinates': [-118.379768,...</td>\n",
       "    </tr>\n",
       "    <tr>\n",
       "      <th>3</th>\n",
       "      <td>52cdef7c4bab8bd675297d91</td>\n",
       "      <td>Geni</td>\n",
       "      <td>web</td>\n",
       "      <td>Geneology social network site</td>\n",
       "      <td>34.090368</td>\n",
       "      <td>-118.393064</td>\n",
       "      <td>2006.0</td>\n",
       "      <td>$16.5M</td>\n",
       "      <td>16500000.0</td>\n",
       "      <td>USD</td>\n",
       "      <td>9229 W. Sunset Blvd.</td>\n",
       "      <td>90069</td>\n",
       "      <td>West Hollywood</td>\n",
       "      <td>{'type': 'Point', 'coordinates': [-118.393064,...</td>\n",
       "    </tr>\n",
       "    <tr>\n",
       "      <th>4</th>\n",
       "      <td>52cdef7c4bab8bd675297d93</td>\n",
       "      <td>Fox Interactive Media</td>\n",
       "      <td>web</td>\n",
       "      <td></td>\n",
       "      <td>34.076179</td>\n",
       "      <td>-118.394170</td>\n",
       "      <td>1979.0</td>\n",
       "      <td>$0</td>\n",
       "      <td>0.0</td>\n",
       "      <td>USD</td>\n",
       "      <td>407 N Maple Dr</td>\n",
       "      <td>90210</td>\n",
       "      <td>Beverly Hills</td>\n",
       "      <td>{'type': 'Point', 'coordinates': [-118.39417, ...</td>\n",
       "    </tr>\n",
       "    <tr>\n",
       "      <th>...</th>\n",
       "      <td>...</td>\n",
       "      <td>...</td>\n",
       "      <td>...</td>\n",
       "      <td>...</td>\n",
       "      <td>...</td>\n",
       "      <td>...</td>\n",
       "      <td>...</td>\n",
       "      <td>...</td>\n",
       "      <td>...</td>\n",
       "      <td>...</td>\n",
       "      <td>...</td>\n",
       "      <td>...</td>\n",
       "      <td>...</td>\n",
       "      <td>...</td>\n",
       "    </tr>\n",
       "    <tr>\n",
       "      <th>15843</th>\n",
       "      <td>52cdef7f4bab8bd67529c6f5</td>\n",
       "      <td>Oriact</td>\n",
       "      <td>software</td>\n",
       "      <td>Solutions for software development</td>\n",
       "      <td>47.088219</td>\n",
       "      <td>8.437163</td>\n",
       "      <td>2009.0</td>\n",
       "      <td>$0</td>\n",
       "      <td>0.0</td>\n",
       "      <td>USD</td>\n",
       "      <td>LÃ¤rchenweg 7</td>\n",
       "      <td>6403</td>\n",
       "      <td>KÃ¼ssnacht</td>\n",
       "      <td>{'type': 'Point', 'coordinates': [8.4371634, 4...</td>\n",
       "    </tr>\n",
       "    <tr>\n",
       "      <th>15844</th>\n",
       "      <td>52cdef7f4bab8bd67529c6f6</td>\n",
       "      <td>Adhunk</td>\n",
       "      <td>advertising</td>\n",
       "      <td>Online Admanager</td>\n",
       "      <td>NaN</td>\n",
       "      <td>NaN</td>\n",
       "      <td>2009.0</td>\n",
       "      <td>$0</td>\n",
       "      <td>0.0</td>\n",
       "      <td>USD</td>\n",
       "      <td>Near Tube Well(south)</td>\n",
       "      <td>334003</td>\n",
       "      <td>Bikaner</td>\n",
       "      <td>{'type': 'Point', 'coordinates': [nan, nan]}</td>\n",
       "    </tr>\n",
       "    <tr>\n",
       "      <th>15845</th>\n",
       "      <td>52cdef7f4bab8bd67529c6f7</td>\n",
       "      <td>AfterLogic</td>\n",
       "      <td>software</td>\n",
       "      <td>.NET Email Components and Webmail</td>\n",
       "      <td>40.793024</td>\n",
       "      <td>-74.323554</td>\n",
       "      <td>2002.0</td>\n",
       "      <td>$0</td>\n",
       "      <td>0.0</td>\n",
       "      <td>USD</td>\n",
       "      <td>P.O. Box 2096</td>\n",
       "      <td>07039</td>\n",
       "      <td>Livingston</td>\n",
       "      <td>{'type': 'Point', 'coordinates': [-74.3235539,...</td>\n",
       "    </tr>\n",
       "    <tr>\n",
       "      <th>15846</th>\n",
       "      <td>52cdef7f4bab8bd67529c6f9</td>\n",
       "      <td>EnteGreat Solutions</td>\n",
       "      <td>software</td>\n",
       "      <td></td>\n",
       "      <td>33.518885</td>\n",
       "      <td>-86.816068</td>\n",
       "      <td>NaN</td>\n",
       "      <td>$0</td>\n",
       "      <td>0.0</td>\n",
       "      <td>USD</td>\n",
       "      <td></td>\n",
       "      <td></td>\n",
       "      <td>Birmingham</td>\n",
       "      <td>{'type': 'Point', 'coordinates': [-86.816068, ...</td>\n",
       "    </tr>\n",
       "    <tr>\n",
       "      <th>15847</th>\n",
       "      <td>52cdef7f4bab8bd67529c6fa</td>\n",
       "      <td>EnteGreat</td>\n",
       "      <td>enterprise</td>\n",
       "      <td></td>\n",
       "      <td>33.407786</td>\n",
       "      <td>-86.761302</td>\n",
       "      <td>2000.0</td>\n",
       "      <td>$0</td>\n",
       "      <td>0.0</td>\n",
       "      <td>USD</td>\n",
       "      <td>1900 International Park Drive</td>\n",
       "      <td>35243-4204</td>\n",
       "      <td>Birmingham</td>\n",
       "      <td>{'type': 'Point', 'coordinates': [-86.7613019,...</td>\n",
       "    </tr>\n",
       "  </tbody>\n",
       "</table>\n",
       "<p>15848 rows × 14 columns</p>\n",
       "</div>"
      ],
      "text/plain": [
       "                            ref                   Name     Category  \\\n",
       "0      52cdef7c4bab8bd675297d8d                   Digg         news   \n",
       "1      52cdef7c4bab8bd675297d90                Postini          web   \n",
       "2      52cdef7c4bab8bd675297d92                Flektor  games_video   \n",
       "3      52cdef7c4bab8bd675297d91                   Geni          web   \n",
       "4      52cdef7c4bab8bd675297d93  Fox Interactive Media          web   \n",
       "...                         ...                    ...          ...   \n",
       "15843  52cdef7f4bab8bd67529c6f5                 Oriact     software   \n",
       "15844  52cdef7f4bab8bd67529c6f6                 Adhunk  advertising   \n",
       "15845  52cdef7f4bab8bd67529c6f7             AfterLogic     software   \n",
       "15846  52cdef7f4bab8bd67529c6f9    EnteGreat Solutions     software   \n",
       "15847  52cdef7f4bab8bd67529c6fa              EnteGreat   enterprise   \n",
       "\n",
       "                              Description   Latitude   Longitude  \\\n",
       "0      user driven social content website  37.764726 -122.394523   \n",
       "1                                    None  37.506885 -122.247573   \n",
       "2                                    None  34.025958 -118.379768   \n",
       "3           Geneology social network site  34.090368 -118.393064   \n",
       "4                                          34.076179 -118.394170   \n",
       "...                                   ...        ...         ...   \n",
       "15843  Solutions for software development  47.088219    8.437163   \n",
       "15844                    Online Admanager        NaN         NaN   \n",
       "15845   .NET Email Components and Webmail  40.793024  -74.323554   \n",
       "15846                                      33.518885  -86.816068   \n",
       "15847                                      33.407786  -86.761302   \n",
       "\n",
       "       Founded Year Total Money Raised  Raised Amount Currency  \\\n",
       "0            2004.0               $45M     45000000.0      USD   \n",
       "1            1999.0                 $0            0.0      USD   \n",
       "2               NaN                 $0            0.0      USD   \n",
       "3            2006.0             $16.5M     16500000.0      USD   \n",
       "4            1979.0                 $0            0.0      USD   \n",
       "...             ...                ...            ...      ...   \n",
       "15843        2009.0                 $0            0.0      USD   \n",
       "15844        2009.0                 $0            0.0      USD   \n",
       "15845        2002.0                 $0            0.0      USD   \n",
       "15846           NaN                 $0            0.0      USD   \n",
       "15847        2000.0                 $0            0.0      USD   \n",
       "\n",
       "                             Address    Zip code            City  \\\n",
       "0                 135 Mississippi St       94107   San Francisco   \n",
       "1         959 Skyway Road, Suite 200       94070      San Carlos   \n",
       "2        8536 National Blvd, Suite A       90232     Culver City   \n",
       "3               9229 W. Sunset Blvd.       90069  West Hollywood   \n",
       "4                     407 N Maple Dr       90210   Beverly Hills   \n",
       "...                              ...         ...             ...   \n",
       "15843                  LÃ¤rchenweg 7        6403      KÃ¼ssnacht   \n",
       "15844          Near Tube Well(south)      334003         Bikaner   \n",
       "15845                  P.O. Box 2096       07039      Livingston   \n",
       "15846                                                 Birmingham   \n",
       "15847  1900 International Park Drive  35243-4204      Birmingham   \n",
       "\n",
       "                                            GeoLocations  \n",
       "0      {'type': 'Point', 'coordinates': [-122.394523,...  \n",
       "1      {'type': 'Point', 'coordinates': [-122.247573,...  \n",
       "2      {'type': 'Point', 'coordinates': [-118.379768,...  \n",
       "3      {'type': 'Point', 'coordinates': [-118.393064,...  \n",
       "4      {'type': 'Point', 'coordinates': [-118.39417, ...  \n",
       "...                                                  ...  \n",
       "15843  {'type': 'Point', 'coordinates': [8.4371634, 4...  \n",
       "15844       {'type': 'Point', 'coordinates': [nan, nan]}  \n",
       "15845  {'type': 'Point', 'coordinates': [-74.3235539,...  \n",
       "15846  {'type': 'Point', 'coordinates': [-86.816068, ...  \n",
       "15847  {'type': 'Point', 'coordinates': [-86.7613019,...  \n",
       "\n",
       "[15848 rows x 14 columns]"
      ]
     },
     "execution_count": 255,
     "metadata": {},
     "output_type": "execute_result"
    }
   ],
   "source": [
    "\"Adding currency to all the rows in the dataframe\"\n",
    "money={'$': 'USD', 'C$': 'CAD', '€': 'EUR', '£': 'GBP', 'kr': 'SEK', '¥': 'JPY'}\n",
    "for key,value in money.items():\n",
    "    df.loc[(df['Total Money Raised'].str.startswith(key)),'Currency']=value\n",
    "df"
   ]
  },
  {
   "cell_type": "code",
   "execution_count": 256,
   "metadata": {},
   "outputs": [
    {
     "data": {
      "text/plain": [
       "{'CAD', 'EUR', 'GBP', 'JPY', 'SEK', 'USD'}"
      ]
     },
     "execution_count": 256,
     "metadata": {},
     "output_type": "execute_result"
    }
   ],
   "source": [
    "set(df['Currency'])"
   ]
  },
  {
   "cell_type": "markdown",
   "metadata": {},
   "source": [
    "# web scraping si da tiempo/todo a dolares"
   ]
  },
  {
   "cell_type": "code",
   "execution_count": 261,
   "metadata": {},
   "outputs": [
    {
     "data": {
      "text/plain": [
       "(4824, 14)"
      ]
     },
     "execution_count": 261,
     "metadata": {},
     "output_type": "execute_result"
    }
   ],
   "source": [
    "#dataframe with the filter of money raised>1M$\n",
    "#having in mind that there are other coins\n",
    "df_filtered_1M=df[(((df['Raised Amount']>=1000000) & (df['Currency']==\"USD\"))|((df['Raised Amount']>=1320000) & (df['Currency']==\"CAD\"))|((df['Raised Amount']>=900000) & (df['Currency']==\"EUR\"))|((df['Raised Amount']>=770000) & (df['Currency']==\"GBP\"))|((df['Raised Amount']>=108560000) & (df['Currency']==\"JPY\"))|((df['Raised Amount']>=9640000) & (df['Currency']==\"SEK\")))]\n",
    "df_filtered_1M.shape"
   ]
  },
  {
   "cell_type": "code",
   "execution_count": 262,
   "metadata": {},
   "outputs": [],
   "source": [
    "#dataframe with the filter of founded year>=2009\n",
    "df_FY=df[(df['Founded Year']>=2009)]\n",
    "#dataframe with the filter of founded year>=2009 and money raised>1M$\n",
    "df_FY_1M=df_filtered_1M[(df_filtered_1M['Founded Year']>=2009)]"
   ]
  },
  {
   "cell_type": "code",
   "execution_count": 263,
   "metadata": {},
   "outputs": [
    {
     "name": "stdout",
     "output_type": "stream",
     "text": [
      "(4824, 14)\n",
      "(568, 14)\n",
      "(159, 14)\n"
     ]
    }
   ],
   "source": [
    "print(df_filtered_1M.shape)\n",
    "print(df_FY.shape)\n",
    "print(df_FY_1M.shape)"
   ]
  },
  {
   "cell_type": "code",
   "execution_count": 266,
   "metadata": {},
   "outputs": [],
   "source": [
    "#mongoimport --db companies --drop --collection 1MCompanies --jsonArray 1M.json\n",
    "df_filtered_1M.to_json('./output/1M.json', orient=\"records\")\n",
    "df_FY.to_json('./output/FY.json', orient=\"records\")\n",
    "df_FY_1M.to_json('./output/FY_1M.json', orient=\"records\")"
   ]
  },
  {
   "cell_type": "code",
   "execution_count": 268,
   "metadata": {},
   "outputs": [
    {
     "data": {
      "text/plain": [
       "False    3074\n",
       "True     1750\n",
       "Name: Latitude, dtype: int64"
      ]
     },
     "execution_count": 268,
     "metadata": {},
     "output_type": "execute_result"
    }
   ],
   "source": [
    "df_filtered_1M['Latitude'].isnull().value_counts()"
   ]
  },
  {
   "cell_type": "code",
   "execution_count": null,
   "metadata": {},
   "outputs": [],
   "source": []
  }
 ],
 "metadata": {
  "kernelspec": {
   "display_name": "Python 3",
   "language": "python",
   "name": "python3"
  },
  "language_info": {
   "codemirror_mode": {
    "name": "ipython",
    "version": 3
   },
   "file_extension": ".py",
   "mimetype": "text/x-python",
   "name": "python",
   "nbconvert_exporter": "python",
   "pygments_lexer": "ipython3",
   "version": "3.7.4"
  }
 },
 "nbformat": 4,
 "nbformat_minor": 2
}
