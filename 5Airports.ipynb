{
 "cells": [
  {
   "cell_type": "markdown",
   "metadata": {},
   "source": [
    "## Airport Filtering"
   ]
  },
  {
   "cell_type": "code",
   "execution_count": 1,
   "metadata": {},
   "outputs": [],
   "source": [
    "import connectionMongoDB as mongo\n",
    "import json\n",
    "import pandas as pd\n",
    "import getLocation as gl\n",
    "from haversine import haversine, Unit\n",
    "import geoqueryfunction as gq\n",
    "import googleNearBy_API as near\n",
    "from IPython.display import clear_output\n",
    "import getAirportCoords as air\n",
    "import folium\n",
    "import numpy as np"
   ]
  },
  {
   "cell_type": "markdown",
   "metadata": {},
   "source": [
    "- All information from airports.csv from: https://ourairports.com/data/"
   ]
  },
  {
   "cell_type": "code",
   "execution_count": 2,
   "metadata": {},
   "outputs": [],
   "source": [
    "db_airp, coll_airp = mongo.connectCollection('companies','airport')"
   ]
  },
  {
   "cell_type": "code",
   "execution_count": 3,
   "metadata": {},
   "outputs": [],
   "source": [
    "airport_locations = list(coll_airp.find())\n"
   ]
  },
  {
   "cell_type": "markdown",
   "metadata": {},
   "source": [
    "- Adding geolocations to the large airports:"
   ]
  },
  {
   "cell_type": "code",
   "execution_count": 4,
   "metadata": {},
   "outputs": [],
   "source": [
    "for a in airport_locations:\n",
    "    long=a['longitude_deg']\n",
    "    lat=a['latitude_deg']\n",
    "    value = {\"$set\": {'location':gl.getLocation(long,lat)}}\n",
    "    coll_airp.update_one(a,value)"
   ]
  },
  {
   "cell_type": "code",
   "execution_count": 5,
   "metadata": {},
   "outputs": [
    {
     "data": {
      "text/plain": [
       "615"
      ]
     },
     "execution_count": 5,
     "metadata": {},
     "output_type": "execute_result"
    }
   ],
   "source": [
    "len(airport_locations)\n"
   ]
  },
  {
   "cell_type": "markdown",
   "metadata": {},
   "source": [
    "- Exporting json with schools, starbucks and companies with more than 1M$ raised."
   ]
  },
  {
   "cell_type": "code",
   "execution_count": 6,
   "metadata": {},
   "outputs": [],
   "source": [
    "with open('./output/StarbucksSchool_1M.json', 'r') as myfile:\n",
    "    data=myfile.read()\n",
    "obj = json.loads(data)\n",
    "merge3=pd.DataFrame(obj)"
   ]
  },
  {
   "cell_type": "code",
   "execution_count": 7,
   "metadata": {},
   "outputs": [],
   "source": [
    "merge3_df=pd.DataFrame(merge3)"
   ]
  },
  {
   "cell_type": "code",
   "execution_count": 8,
   "metadata": {},
   "outputs": [],
   "source": [
    "airports_df=pd.DataFrame(airport_locations)"
   ]
  },
  {
   "cell_type": "markdown",
   "metadata": {},
   "source": [
    "- Searching with geoquery the nearest airport to each office."
   ]
  },
  {
   "cell_type": "code",
   "execution_count": 9,
   "metadata": {},
   "outputs": [],
   "source": [
    "merge3_df['airports']=merge3_df.apply(lambda a: gq.geoquery(coll_airp,a['Longitude'],a['Latitude'],20000),axis=1)\n"
   ]
  },
  {
   "cell_type": "code",
   "execution_count": 10,
   "metadata": {},
   "outputs": [
    {
     "data": {
      "text/plain": [
       "(727, 21)"
      ]
     },
     "execution_count": 10,
     "metadata": {},
     "output_type": "execute_result"
    }
   ],
   "source": [
    "merge3_df.shape"
   ]
  },
  {
   "cell_type": "markdown",
   "metadata": {},
   "source": [
    "- Removing from dataframe the officess without airports near."
   ]
  },
  {
   "cell_type": "code",
   "execution_count": 11,
   "metadata": {},
   "outputs": [],
   "source": [
    "merge3_df1=merge3_df[merge3_df['airports'].apply(len)!=0]"
   ]
  },
  {
   "cell_type": "code",
   "execution_count": 12,
   "metadata": {},
   "outputs": [
    {
     "data": {
      "text/html": [
       "<div>\n",
       "<style scoped>\n",
       "    .dataframe tbody tr th:only-of-type {\n",
       "        vertical-align: middle;\n",
       "    }\n",
       "\n",
       "    .dataframe tbody tr th {\n",
       "        vertical-align: top;\n",
       "    }\n",
       "\n",
       "    .dataframe thead th {\n",
       "        text-align: right;\n",
       "    }\n",
       "</style>\n",
       "<table border=\"1\" class=\"dataframe\">\n",
       "  <thead>\n",
       "    <tr style=\"text-align: right;\">\n",
       "      <th></th>\n",
       "      <th>ref</th>\n",
       "      <th>latitude_schools</th>\n",
       "      <th>longitude_schools</th>\n",
       "      <th>geoloc_school</th>\n",
       "      <th>Latitude_starbucks</th>\n",
       "      <th>Longitude_starbucks</th>\n",
       "      <th>geoloc_stb</th>\n",
       "      <th>Name</th>\n",
       "      <th>Category</th>\n",
       "      <th>Description</th>\n",
       "      <th>...</th>\n",
       "      <th>Longitude</th>\n",
       "      <th>Founded Year</th>\n",
       "      <th>Total Money Raised</th>\n",
       "      <th>Raised Amount</th>\n",
       "      <th>Currency</th>\n",
       "      <th>Address</th>\n",
       "      <th>Zip code</th>\n",
       "      <th>City</th>\n",
       "      <th>GeoLocations</th>\n",
       "      <th>airports</th>\n",
       "    </tr>\n",
       "  </thead>\n",
       "  <tbody>\n",
       "    <tr>\n",
       "      <th>0</th>\n",
       "      <td>5dd59811fc1c02fda798c75c</td>\n",
       "      <td>37.798463</td>\n",
       "      <td>-122.403093</td>\n",
       "      <td>{'type': 'Point', 'coordinates': [-122.4030926...</td>\n",
       "      <td>37.790070</td>\n",
       "      <td>-122.402083</td>\n",
       "      <td>{'type': 'Point', 'coordinates': [-122.4020826...</td>\n",
       "      <td>Scribd</td>\n",
       "      <td>news</td>\n",
       "      <td>Read Unlimited Books</td>\n",
       "      <td>...</td>\n",
       "      <td>-122.404052</td>\n",
       "      <td>2007.0</td>\n",
       "      <td>$25.8M</td>\n",
       "      <td>25762000.0</td>\n",
       "      <td>USD</td>\n",
       "      <td>539 Bryant Street</td>\n",
       "      <td>94107</td>\n",
       "      <td>San Francisco</td>\n",
       "      <td>{'type': 'Point', 'coordinates': [-122.404052,...</td>\n",
       "      <td>[{'_id': 5dd6b8fcc0882b53f909fd72, 'id': 3744,...</td>\n",
       "    </tr>\n",
       "    <tr>\n",
       "      <th>1</th>\n",
       "      <td>5dd59811fc1c02fda798c75d</td>\n",
       "      <td>37.760581</td>\n",
       "      <td>-122.395844</td>\n",
       "      <td>{'type': 'Point', 'coordinates': [-122.3958437...</td>\n",
       "      <td>37.767287</td>\n",
       "      <td>-122.393926</td>\n",
       "      <td>{'type': 'Point', 'coordinates': [-122.3939261...</td>\n",
       "      <td>Digg</td>\n",
       "      <td>news</td>\n",
       "      <td>user driven social content website</td>\n",
       "      <td>...</td>\n",
       "      <td>-122.394523</td>\n",
       "      <td>2004.0</td>\n",
       "      <td>$45M</td>\n",
       "      <td>45000000.0</td>\n",
       "      <td>USD</td>\n",
       "      <td>135 Mississippi St</td>\n",
       "      <td>94107</td>\n",
       "      <td>San Francisco</td>\n",
       "      <td>{'type': 'Point', 'coordinates': [-122.394523,...</td>\n",
       "      <td>[{'_id': 5dd6b8fcc0882b53f909fd72, 'id': 3744,...</td>\n",
       "    </tr>\n",
       "    <tr>\n",
       "      <th>4</th>\n",
       "      <td>5dd59811fc1c02fda798c760</td>\n",
       "      <td>40.765788</td>\n",
       "      <td>-73.989530</td>\n",
       "      <td>{'type': 'Point', 'coordinates': [-73.9895302,...</td>\n",
       "      <td>40.759393</td>\n",
       "      <td>-73.985288</td>\n",
       "      <td>{'type': 'Point', 'coordinates': [-73.985288, ...</td>\n",
       "      <td>MeetMoi</td>\n",
       "      <td>social</td>\n",
       "      <td>Mobile Dating</td>\n",
       "      <td>...</td>\n",
       "      <td>-73.985506</td>\n",
       "      <td>2007.0</td>\n",
       "      <td>$5.58M</td>\n",
       "      <td>5575000.0</td>\n",
       "      <td>USD</td>\n",
       "      <td></td>\n",
       "      <td></td>\n",
       "      <td>New York City</td>\n",
       "      <td>{'type': 'Point', 'coordinates': [-73.985506, ...</td>\n",
       "      <td>[{'_id': 5dd6b8fcc0882b53f909fb6c, 'id': 3643,...</td>\n",
       "    </tr>\n",
       "    <tr>\n",
       "      <th>5</th>\n",
       "      <td>5dd59811fc1c02fda798c761</td>\n",
       "      <td>37.766440</td>\n",
       "      <td>-122.418942</td>\n",
       "      <td>{'type': 'Point', 'coordinates': [-122.4189417...</td>\n",
       "      <td>37.777090</td>\n",
       "      <td>-122.417298</td>\n",
       "      <td>{'type': 'Point', 'coordinates': [-122.4172976...</td>\n",
       "      <td>StumbleUpon</td>\n",
       "      <td>web</td>\n",
       "      <td>Content discovery service</td>\n",
       "      <td>...</td>\n",
       "      <td>-122.419204</td>\n",
       "      <td>2002.0</td>\n",
       "      <td>$18.5M</td>\n",
       "      <td>18500000.0</td>\n",
       "      <td>USD</td>\n",
       "      <td></td>\n",
       "      <td></td>\n",
       "      <td>San Francisco</td>\n",
       "      <td>{'type': 'Point', 'coordinates': [-122.419204,...</td>\n",
       "      <td>[{'_id': 5dd6b8fcc0882b53f90a03b5, 'id': 3878,...</td>\n",
       "    </tr>\n",
       "    <tr>\n",
       "      <th>6</th>\n",
       "      <td>5dd59811fc1c02fda798c762</td>\n",
       "      <td>40.735622</td>\n",
       "      <td>-73.999307</td>\n",
       "      <td>{'type': 'Point', 'coordinates': [-73.9993065,...</td>\n",
       "      <td>40.741662</td>\n",
       "      <td>-74.005080</td>\n",
       "      <td>{'type': 'Point', 'coordinates': [-74.00507982...</td>\n",
       "      <td>Joost</td>\n",
       "      <td>games_video</td>\n",
       "      <td>None</td>\n",
       "      <td>...</td>\n",
       "      <td>-74.009447</td>\n",
       "      <td>2006.0</td>\n",
       "      <td>$45M</td>\n",
       "      <td>45000000.0</td>\n",
       "      <td>USD</td>\n",
       "      <td>100 5th Ave Fl 6</td>\n",
       "      <td>10011-6903</td>\n",
       "      <td>New York</td>\n",
       "      <td>{'type': 'Point', 'coordinates': [-74.0094471,...</td>\n",
       "      <td>[{'_id': 5dd6b8fcc0882b53f909fb6c, 'id': 3643,...</td>\n",
       "    </tr>\n",
       "  </tbody>\n",
       "</table>\n",
       "<p>5 rows × 21 columns</p>\n",
       "</div>"
      ],
      "text/plain": [
       "                        ref  latitude_schools  longitude_schools  \\\n",
       "0  5dd59811fc1c02fda798c75c         37.798463        -122.403093   \n",
       "1  5dd59811fc1c02fda798c75d         37.760581        -122.395844   \n",
       "4  5dd59811fc1c02fda798c760         40.765788         -73.989530   \n",
       "5  5dd59811fc1c02fda798c761         37.766440        -122.418942   \n",
       "6  5dd59811fc1c02fda798c762         40.735622         -73.999307   \n",
       "\n",
       "                                       geoloc_school  Latitude_starbucks  \\\n",
       "0  {'type': 'Point', 'coordinates': [-122.4030926...           37.790070   \n",
       "1  {'type': 'Point', 'coordinates': [-122.3958437...           37.767287   \n",
       "4  {'type': 'Point', 'coordinates': [-73.9895302,...           40.759393   \n",
       "5  {'type': 'Point', 'coordinates': [-122.4189417...           37.777090   \n",
       "6  {'type': 'Point', 'coordinates': [-73.9993065,...           40.741662   \n",
       "\n",
       "   Longitude_starbucks                                         geoloc_stb  \\\n",
       "0          -122.402083  {'type': 'Point', 'coordinates': [-122.4020826...   \n",
       "1          -122.393926  {'type': 'Point', 'coordinates': [-122.3939261...   \n",
       "4           -73.985288  {'type': 'Point', 'coordinates': [-73.985288, ...   \n",
       "5          -122.417298  {'type': 'Point', 'coordinates': [-122.4172976...   \n",
       "6           -74.005080  {'type': 'Point', 'coordinates': [-74.00507982...   \n",
       "\n",
       "          Name     Category                         Description  ...  \\\n",
       "0       Scribd         news                Read Unlimited Books  ...   \n",
       "1         Digg         news  user driven social content website  ...   \n",
       "4      MeetMoi       social                       Mobile Dating  ...   \n",
       "5  StumbleUpon          web           Content discovery service  ...   \n",
       "6        Joost  games_video                                None  ...   \n",
       "\n",
       "    Longitude  Founded Year  Total Money Raised Raised Amount  Currency  \\\n",
       "0 -122.404052        2007.0              $25.8M    25762000.0       USD   \n",
       "1 -122.394523        2004.0                $45M    45000000.0       USD   \n",
       "4  -73.985506        2007.0              $5.58M     5575000.0       USD   \n",
       "5 -122.419204        2002.0              $18.5M    18500000.0       USD   \n",
       "6  -74.009447        2006.0                $45M    45000000.0       USD   \n",
       "\n",
       "              Address    Zip code           City  \\\n",
       "0   539 Bryant Street       94107  San Francisco   \n",
       "1  135 Mississippi St       94107  San Francisco   \n",
       "4                                  New York City   \n",
       "5                                  San Francisco   \n",
       "6    100 5th Ave Fl 6  10011-6903       New York   \n",
       "\n",
       "                                        GeoLocations  \\\n",
       "0  {'type': 'Point', 'coordinates': [-122.404052,...   \n",
       "1  {'type': 'Point', 'coordinates': [-122.394523,...   \n",
       "4  {'type': 'Point', 'coordinates': [-73.985506, ...   \n",
       "5  {'type': 'Point', 'coordinates': [-122.419204,...   \n",
       "6  {'type': 'Point', 'coordinates': [-74.0094471,...   \n",
       "\n",
       "                                            airports  \n",
       "0  [{'_id': 5dd6b8fcc0882b53f909fd72, 'id': 3744,...  \n",
       "1  [{'_id': 5dd6b8fcc0882b53f909fd72, 'id': 3744,...  \n",
       "4  [{'_id': 5dd6b8fcc0882b53f909fb6c, 'id': 3643,...  \n",
       "5  [{'_id': 5dd6b8fcc0882b53f90a03b5, 'id': 3878,...  \n",
       "6  [{'_id': 5dd6b8fcc0882b53f909fb6c, 'id': 3643,...  \n",
       "\n",
       "[5 rows x 21 columns]"
      ]
     },
     "execution_count": 12,
     "metadata": {},
     "output_type": "execute_result"
    }
   ],
   "source": [
    "merge3_df1.head()"
   ]
  },
  {
   "cell_type": "code",
   "execution_count": 13,
   "metadata": {},
   "outputs": [],
   "source": [
    "with open(\"./output/airport_sch_stb_1M.json\", \"w+\") as file:\n",
    "    file.write(str(merge3_df1))"
   ]
  },
  {
   "cell_type": "markdown",
   "metadata": {},
   "source": [
    "## Filtering by vegan "
   ]
  },
  {
   "cell_type": "markdown",
   "metadata": {},
   "source": [
    "- Removing companies with founded year < 2009, and keeping the ones with no information about founded year and >2009."
   ]
  },
  {
   "cell_type": "code",
   "execution_count": 16,
   "metadata": {},
   "outputs": [],
   "source": [
    "filter_2009=(merge3_df1['Founded Year']>=2009)\n",
    "filter_found_null= (np.isnan(merge3_df1['Founded Year']))\n",
    "\n",
    "merge3_df1=merge3_df1[filter_2009 | filter_found_null]\n",
    "#set(total_df1['Founded Year'])"
   ]
  },
  {
   "cell_type": "markdown",
   "metadata": {},
   "source": [
    "### NOTA: 37 requests a google places API"
   ]
  },
  {
   "cell_type": "markdown",
   "metadata": {},
   "source": [
    "- Searching for vegan places 600m next to the office"
   ]
  },
  {
   "cell_type": "code",
   "execution_count": 17,
   "metadata": {},
   "outputs": [
    {
     "name": "stdout",
     "output_type": "stream",
     "text": [
      "37\n"
     ]
    }
   ],
   "source": [
    "import time\n",
    "count=0\n",
    "vegan_rest=[]\n",
    "for _,row in merge3_df1.iterrows():\n",
    "    clear_output()\n",
    "    count+=1\n",
    "    print(count)\n",
    "    v=dict()\n",
    "    lat=row['Latitude']\n",
    "    long=row['Longitude']\n",
    "    dat=near.placesearch(lat,long,600,\"vegan restaurant\")\n",
    "    if dat['status']!='ZERO_RESULTS' and dat['status']!='REQUEST_DENIED'and dat['status']!='INVALID_REQUEST':\n",
    "        lt=dat['results'][0]['geometry']['location']['lat']\n",
    "        lg=dat['results'][0]['geometry']['location']['lng']\n",
    "        v['ref']=row['ref']\n",
    "        v['latitude_veg']=lt\n",
    "        v['longitude_veg']=lg\n",
    "        v['geoloc_veg']=gl.getLocation(lg,lt)\n",
    "        vegan_rest.append(v) \n",
    "    time.sleep(1)"
   ]
  },
  {
   "cell_type": "code",
   "execution_count": 18,
   "metadata": {},
   "outputs": [],
   "source": [
    "vegan_df=pd.DataFrame(vegan_rest)"
   ]
  },
  {
   "cell_type": "markdown",
   "metadata": {},
   "source": [
    "- Merging to have companies with schools, starbucks, airports and vegan places near."
   ]
  },
  {
   "cell_type": "code",
   "execution_count": 19,
   "metadata": {},
   "outputs": [],
   "source": [
    "total_df=pd.merge(vegan_df,merge3_df1,how=\"inner\",on='ref')"
   ]
  },
  {
   "cell_type": "code",
   "execution_count": 20,
   "metadata": {},
   "outputs": [],
   "source": [
    "with open(\"./output/todo_conVegan.json\", \"w+\") as file:\n",
    "    file.write(str(total_df))"
   ]
  },
  {
   "cell_type": "markdown",
   "metadata": {},
   "source": [
    "## Evaluating distances to each place from the office"
   ]
  },
  {
   "cell_type": "code",
   "execution_count": 22,
   "metadata": {},
   "outputs": [
    {
     "data": {
      "text/plain": [
       "Index(['ref', 'latitude_veg', 'longitude_veg', 'geoloc_veg',\n",
       "       'latitude_schools', 'longitude_schools', 'geoloc_school',\n",
       "       'Latitude_starbucks', 'Longitude_starbucks', 'geoloc_stb', 'Name',\n",
       "       'Category', 'Description', 'Latitude', 'Longitude', 'Founded Year',\n",
       "       'Total Money Raised', 'Raised Amount', 'Currency', 'Address',\n",
       "       'Zip code', 'City', 'GeoLocations', 'airports'],\n",
       "      dtype='object')"
      ]
     },
     "execution_count": 22,
     "metadata": {},
     "output_type": "execute_result"
    }
   ],
   "source": [
    "total_df.columns"
   ]
  },
  {
   "cell_type": "markdown",
   "metadata": {},
   "source": [
    "- With haversine calculating the distance from the office to each place."
   ]
  },
  {
   "cell_type": "code",
   "execution_count": 23,
   "metadata": {},
   "outputs": [],
   "source": [
    "total_df['stb']=total_df.apply(lambda a: haversine((a['Latitude'],a['Longitude']),(a['Latitude_starbucks'],a['Longitude_starbucks'])),axis=1)\n",
    "total_df['school']=total_df.apply(lambda a: haversine((a['Latitude'],a['Longitude']),(a['latitude_schools'],a['longitude_schools'])),axis=1)\n",
    "total_df['vegan']=total_df.apply(lambda a: haversine((a['Latitude'],a['Longitude']),(a['latitude_veg'],a['longitude_veg'])),axis=1)\n",
    "total_df['airp']=total_df.apply(lambda a: haversine((a['Latitude'],a['Longitude']),(air.getLatAirport(a),air.getLongAirport(a))),axis=1)\n"
   ]
  },
  {
   "cell_type": "code",
   "execution_count": 24,
   "metadata": {},
   "outputs": [],
   "source": [
    "total_df['Total_sum']=total_df.apply(lambda s: s['stb']+s['school']+s['vegan']+s['airp'],axis=1)"
   ]
  },
  {
   "cell_type": "code",
   "execution_count": 29,
   "metadata": {},
   "outputs": [
    {
     "data": {
      "text/plain": [
       "(36, 29)"
      ]
     },
     "execution_count": 29,
     "metadata": {},
     "output_type": "execute_result"
    }
   ],
   "source": [
    "total_df.shape"
   ]
  },
  {
   "cell_type": "markdown",
   "metadata": {},
   "source": [
    "- Sorting by the minimum sum of distances to all the places from each office."
   ]
  },
  {
   "cell_type": "code",
   "execution_count": 30,
   "metadata": {},
   "outputs": [],
   "source": [
    "total_df=total_df.sort_values(by=['Total_sum'])"
   ]
  },
  {
   "cell_type": "code",
   "execution_count": 31,
   "metadata": {},
   "outputs": [
    {
     "data": {
      "text/html": [
       "<div>\n",
       "<style scoped>\n",
       "    .dataframe tbody tr th:only-of-type {\n",
       "        vertical-align: middle;\n",
       "    }\n",
       "\n",
       "    .dataframe tbody tr th {\n",
       "        vertical-align: top;\n",
       "    }\n",
       "\n",
       "    .dataframe thead th {\n",
       "        text-align: right;\n",
       "    }\n",
       "</style>\n",
       "<table border=\"1\" class=\"dataframe\">\n",
       "  <thead>\n",
       "    <tr style=\"text-align: right;\">\n",
       "      <th></th>\n",
       "      <th>ref</th>\n",
       "      <th>latitude_veg</th>\n",
       "      <th>longitude_veg</th>\n",
       "      <th>geoloc_veg</th>\n",
       "      <th>latitude_schools</th>\n",
       "      <th>longitude_schools</th>\n",
       "      <th>geoloc_school</th>\n",
       "      <th>Latitude_starbucks</th>\n",
       "      <th>Longitude_starbucks</th>\n",
       "      <th>geoloc_stb</th>\n",
       "      <th>...</th>\n",
       "      <th>Address</th>\n",
       "      <th>Zip code</th>\n",
       "      <th>City</th>\n",
       "      <th>GeoLocations</th>\n",
       "      <th>airports</th>\n",
       "      <th>stb</th>\n",
       "      <th>school</th>\n",
       "      <th>vegan</th>\n",
       "      <th>airp</th>\n",
       "      <th>Total_sum</th>\n",
       "    </tr>\n",
       "  </thead>\n",
       "  <tbody>\n",
       "    <tr>\n",
       "      <th>27</th>\n",
       "      <td>5dd59811fc1c02fda798ca24</td>\n",
       "      <td>36.104413</td>\n",
       "      <td>-115.136742</td>\n",
       "      <td>{'type': 'Point', 'coordinates': [-115.1367421...</td>\n",
       "      <td>36.111716</td>\n",
       "      <td>-115.144953</td>\n",
       "      <td>{'type': 'Point', 'coordinates': [-115.1449531...</td>\n",
       "      <td>36.102983</td>\n",
       "      <td>-115.136809</td>\n",
       "      <td>{'type': 'Point', 'coordinates': [-115.1368086...</td>\n",
       "      <td>...</td>\n",
       "      <td>None</td>\n",
       "      <td>89173</td>\n",
       "      <td>Las Vegas</td>\n",
       "      <td>{'type': 'Point', 'coordinates': [-115.1374, 3...</td>\n",
       "      <td>[{'_id': 5dd6b8fcc0882b53f909fb52, 'id': 3631,...</td>\n",
       "      <td>0.361593</td>\n",
       "      <td>0.914673</td>\n",
       "      <td>0.207267</td>\n",
       "      <td>3.184822</td>\n",
       "      <td>4.668355</td>\n",
       "    </tr>\n",
       "    <tr>\n",
       "      <th>26</th>\n",
       "      <td>5dd59811fc1c02fda798ca1d</td>\n",
       "      <td>37.335400</td>\n",
       "      <td>-121.890238</td>\n",
       "      <td>{'type': 'Point', 'coordinates': [-121.8902383...</td>\n",
       "      <td>37.339597</td>\n",
       "      <td>-121.885251</td>\n",
       "      <td>{'type': 'Point', 'coordinates': [-121.885251,...</td>\n",
       "      <td>37.337341</td>\n",
       "      <td>-121.888437</td>\n",
       "      <td>{'type': 'Point', 'coordinates': [-121.8884366...</td>\n",
       "      <td>...</td>\n",
       "      <td>97 S. 2nd Street</td>\n",
       "      <td>95113</td>\n",
       "      <td>San Jose</td>\n",
       "      <td>{'type': 'Point', 'coordinates': [-121.8884451...</td>\n",
       "      <td>[{'_id': 5dd6b8fcc0882b53f90a03cb, 'id': 3883,...</td>\n",
       "      <td>0.277888</td>\n",
       "      <td>0.599456</td>\n",
       "      <td>0.170240</td>\n",
       "      <td>4.730491</td>\n",
       "      <td>5.778076</td>\n",
       "    </tr>\n",
       "    <tr>\n",
       "      <th>17</th>\n",
       "      <td>5dd59811fc1c02fda798c935</td>\n",
       "      <td>42.353888</td>\n",
       "      <td>-71.058466</td>\n",
       "      <td>{'type': 'Point', 'coordinates': [-71.05846629...</td>\n",
       "      <td>42.366190</td>\n",
       "      <td>-71.053404</td>\n",
       "      <td>{'type': 'Point', 'coordinates': [-71.0534044,...</td>\n",
       "      <td>42.359142</td>\n",
       "      <td>-71.055548</td>\n",
       "      <td>{'type': 'Point', 'coordinates': [-71.05554804...</td>\n",
       "      <td>...</td>\n",
       "      <td>None</td>\n",
       "      <td>None</td>\n",
       "      <td>Boston</td>\n",
       "      <td>{'type': 'Point', 'coordinates': [-71.05682, 4...</td>\n",
       "      <td>[{'_id': 5dd6b8fbc0882b53f909f554, 'id': 3422,...</td>\n",
       "      <td>0.108483</td>\n",
       "      <td>0.859937</td>\n",
       "      <td>0.571364</td>\n",
       "      <td>4.283584</td>\n",
       "      <td>5.823369</td>\n",
       "    </tr>\n",
       "    <tr>\n",
       "      <th>1</th>\n",
       "      <td>5dd59811fc1c02fda798c826</td>\n",
       "      <td>42.351445</td>\n",
       "      <td>-71.062707</td>\n",
       "      <td>{'type': 'Point', 'coordinates': [-71.0627071,...</td>\n",
       "      <td>42.366190</td>\n",
       "      <td>-71.053404</td>\n",
       "      <td>{'type': 'Point', 'coordinates': [-71.0534044,...</td>\n",
       "      <td>42.357727</td>\n",
       "      <td>-71.059220</td>\n",
       "      <td>{'type': 'Point', 'coordinates': [-71.05922, 4...</td>\n",
       "      <td>...</td>\n",
       "      <td>8 Winter St.</td>\n",
       "      <td>02108</td>\n",
       "      <td>Boston</td>\n",
       "      <td>{'type': 'Point', 'coordinates': [-71.060864, ...</td>\n",
       "      <td>[{'_id': 5dd6b8fbc0882b53f909f554, 'id': 3422,...</td>\n",
       "      <td>0.265449</td>\n",
       "      <td>1.320438</td>\n",
       "      <td>0.493852</td>\n",
       "      <td>4.672903</td>\n",
       "      <td>6.752642</td>\n",
       "    </tr>\n",
       "    <tr>\n",
       "      <th>28</th>\n",
       "      <td>5dd59811fc1c02fda798ca26</td>\n",
       "      <td>42.339797</td>\n",
       "      <td>-71.064981</td>\n",
       "      <td>{'type': 'Point', 'coordinates': [-71.0649806,...</td>\n",
       "      <td>42.344259</td>\n",
       "      <td>-71.073494</td>\n",
       "      <td>{'type': 'Point', 'coordinates': [-71.0734936,...</td>\n",
       "      <td>42.342508</td>\n",
       "      <td>-71.074696</td>\n",
       "      <td>{'type': 'Point', 'coordinates': [-71.07469644...</td>\n",
       "      <td>...</td>\n",
       "      <td>500 Harrison Ave</td>\n",
       "      <td>02118</td>\n",
       "      <td>Boston</td>\n",
       "      <td>{'type': 'Point', 'coordinates': [-71.065924, ...</td>\n",
       "      <td>[{'_id': 5dd6b8fbc0882b53f909f554, 'id': 3422,...</td>\n",
       "      <td>0.724163</td>\n",
       "      <td>0.675226</td>\n",
       "      <td>0.246289</td>\n",
       "      <td>5.576836</td>\n",
       "      <td>7.222515</td>\n",
       "    </tr>\n",
       "  </tbody>\n",
       "</table>\n",
       "<p>5 rows × 29 columns</p>\n",
       "</div>"
      ],
      "text/plain": [
       "                         ref  latitude_veg  longitude_veg  \\\n",
       "27  5dd59811fc1c02fda798ca24     36.104413    -115.136742   \n",
       "26  5dd59811fc1c02fda798ca1d     37.335400    -121.890238   \n",
       "17  5dd59811fc1c02fda798c935     42.353888     -71.058466   \n",
       "1   5dd59811fc1c02fda798c826     42.351445     -71.062707   \n",
       "28  5dd59811fc1c02fda798ca26     42.339797     -71.064981   \n",
       "\n",
       "                                           geoloc_veg  latitude_schools  \\\n",
       "27  {'type': 'Point', 'coordinates': [-115.1367421...         36.111716   \n",
       "26  {'type': 'Point', 'coordinates': [-121.8902383...         37.339597   \n",
       "17  {'type': 'Point', 'coordinates': [-71.05846629...         42.366190   \n",
       "1   {'type': 'Point', 'coordinates': [-71.0627071,...         42.366190   \n",
       "28  {'type': 'Point', 'coordinates': [-71.0649806,...         42.344259   \n",
       "\n",
       "    longitude_schools                                      geoloc_school  \\\n",
       "27        -115.144953  {'type': 'Point', 'coordinates': [-115.1449531...   \n",
       "26        -121.885251  {'type': 'Point', 'coordinates': [-121.885251,...   \n",
       "17         -71.053404  {'type': 'Point', 'coordinates': [-71.0534044,...   \n",
       "1          -71.053404  {'type': 'Point', 'coordinates': [-71.0534044,...   \n",
       "28         -71.073494  {'type': 'Point', 'coordinates': [-71.0734936,...   \n",
       "\n",
       "    Latitude_starbucks  Longitude_starbucks  \\\n",
       "27           36.102983          -115.136809   \n",
       "26           37.337341          -121.888437   \n",
       "17           42.359142           -71.055548   \n",
       "1            42.357727           -71.059220   \n",
       "28           42.342508           -71.074696   \n",
       "\n",
       "                                           geoloc_stb  ...           Address  \\\n",
       "27  {'type': 'Point', 'coordinates': [-115.1368086...  ...              None   \n",
       "26  {'type': 'Point', 'coordinates': [-121.8884366...  ...  97 S. 2nd Street   \n",
       "17  {'type': 'Point', 'coordinates': [-71.05554804...  ...              None   \n",
       "1   {'type': 'Point', 'coordinates': [-71.05922, 4...  ...      8 Winter St.   \n",
       "28  {'type': 'Point', 'coordinates': [-71.07469644...  ...  500 Harrison Ave   \n",
       "\n",
       "   Zip code       City                                       GeoLocations  \\\n",
       "27    89173  Las Vegas  {'type': 'Point', 'coordinates': [-115.1374, 3...   \n",
       "26    95113   San Jose  {'type': 'Point', 'coordinates': [-121.8884451...   \n",
       "17     None     Boston  {'type': 'Point', 'coordinates': [-71.05682, 4...   \n",
       "1     02108     Boston  {'type': 'Point', 'coordinates': [-71.060864, ...   \n",
       "28    02118     Boston  {'type': 'Point', 'coordinates': [-71.065924, ...   \n",
       "\n",
       "                                             airports       stb    school  \\\n",
       "27  [{'_id': 5dd6b8fcc0882b53f909fb52, 'id': 3631,...  0.361593  0.914673   \n",
       "26  [{'_id': 5dd6b8fcc0882b53f90a03cb, 'id': 3883,...  0.277888  0.599456   \n",
       "17  [{'_id': 5dd6b8fbc0882b53f909f554, 'id': 3422,...  0.108483  0.859937   \n",
       "1   [{'_id': 5dd6b8fbc0882b53f909f554, 'id': 3422,...  0.265449  1.320438   \n",
       "28  [{'_id': 5dd6b8fbc0882b53f909f554, 'id': 3422,...  0.724163  0.675226   \n",
       "\n",
       "       vegan      airp Total_sum  \n",
       "27  0.207267  3.184822  4.668355  \n",
       "26  0.170240  4.730491  5.778076  \n",
       "17  0.571364  4.283584  5.823369  \n",
       "1   0.493852  4.672903  6.752642  \n",
       "28  0.246289  5.576836  7.222515  \n",
       "\n",
       "[5 rows x 29 columns]"
      ]
     },
     "execution_count": 31,
     "metadata": {},
     "output_type": "execute_result"
    }
   ],
   "source": [
    "total_df.head()"
   ]
  },
  {
   "cell_type": "markdown",
   "metadata": {},
   "source": [
    "- Using folium to map the best office in terms of the locations of a starbucks, a school, and an airport. "
   ]
  },
  {
   "cell_type": "code",
   "execution_count": 84,
   "metadata": {},
   "outputs": [
    {
     "data": {
      "text/plain": [
       "<folium.map.Marker at 0x11d200810>"
      ]
     },
     "execution_count": 84,
     "metadata": {},
     "output_type": "execute_result"
    }
   ],
   "source": [
    "map_city=folium.Map(total_df.iloc[0]['GeoLocations']['coordinates'][::-1], zoom_start=12)\n",
    "\n",
    "cols={\"GeoLocations\":[\"usd\",\"blue\"],\"geoloc_veg\":[\"cutlery\",\"green\"],\"geoloc_school\":[\"book\",\"red\"],\"geoloc_stb\":[\"coffee\",\"orange\"]}\n",
    "\n",
    "for k,v in cols.items():\n",
    "    folium.Marker(total_df[k].iloc[0]['coordinates'][::-1],\n",
    "                    radius=2,\n",
    "                    icon=folium.Icon(prefix=\"fa\",icon=v[0],color=v[1]), \n",
    "                   ).add_to(map_city)\n",
    "    \n",
    "folium.Marker(air.getCoordAirport(total_df.iloc[0])[::-1],\n",
    "             radius=2,\n",
    "                icon=folium.Icon(icon=\"plane\",color=\"black\")).add_to(map_city)\n"
   ]
  },
  {
   "cell_type": "code",
   "execution_count": 85,
   "metadata": {},
   "outputs": [
    {
     "data": {
      "text/html": [
       "<div style=\"width:100%;\"><div style=\"position:relative;width:100%;height:0;padding-bottom:60%;\"><iframe src=\"data:text/html;charset=utf-8;base64,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\" style=\"position:absolute;width:100%;height:100%;left:0;top:0;border:none !important;\" allowfullscreen webkitallowfullscreen mozallowfullscreen></iframe></div></div>"
      ],
      "text/plain": [
       "<folium.folium.Map at 0x11d1d3f50>"
      ]
     },
     "execution_count": 85,
     "metadata": {},
     "output_type": "execute_result"
    }
   ],
   "source": [
    "map_city"
   ]
  },
  {
   "cell_type": "code",
   "execution_count": 86,
   "metadata": {},
   "outputs": [
    {
     "data": {
      "text/plain": [
       "[-115.1374, 36.1062]"
      ]
     },
     "execution_count": 86,
     "metadata": {},
     "output_type": "execute_result"
    }
   ],
   "source": [
    "total_df.iloc[0]['GeoLocations']['coordinates']"
   ]
  },
  {
   "cell_type": "code",
   "execution_count": null,
   "metadata": {},
   "outputs": [],
   "source": []
  }
 ],
 "metadata": {
  "kernelspec": {
   "display_name": "Python 3",
   "language": "python",
   "name": "python3"
  },
  "language_info": {
   "codemirror_mode": {
    "name": "ipython",
    "version": 3
   },
   "file_extension": ".py",
   "mimetype": "text/x-python",
   "name": "python",
   "nbconvert_exporter": "python",
   "pygments_lexer": "ipython3",
   "version": "3.7.4"
  }
 },
 "nbformat": 4,
 "nbformat_minor": 2
}
