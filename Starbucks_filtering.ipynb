{
 "cells": [
  {
   "cell_type": "code",
   "execution_count": 97,
   "metadata": {},
   "outputs": [],
   "source": [
    "from pymongo import MongoClient\n",
    "import pandas as pd\n",
    "import re\n",
    "import getpass\n",
    "import json\n",
    "import os\n",
    "import requests\n",
    "from dotenv import load_dotenv\n",
    "load_dotenv()\n",
    "import numpy as np\n",
    "import functions as f"
   ]
  },
  {
   "cell_type": "code",
   "execution_count": 3,
   "metadata": {},
   "outputs": [],
   "source": [
    "def connectCollection(database, collection):\n",
    "    client = MongoClient()\n",
    "    db = client[database]\n",
    "    coll = db[collection]\n",
    "    return db, coll"
   ]
  },
  {
   "cell_type": "code",
   "execution_count": 4,
   "metadata": {},
   "outputs": [],
   "source": [
    "db, coll = connectCollection('companies','1MCompanies')"
   ]
  },
  {
   "cell_type": "code",
   "execution_count": 98,
   "metadata": {},
   "outputs": [
    {
     "data": {
      "text/plain": [
       "4499"
      ]
     },
     "execution_count": 98,
     "metadata": {},
     "output_type": "execute_result"
    }
   ],
   "source": [
    "company_locations = list(coll.find({},{\"Latitude\":1,\"Longitude\":1}))\n",
    "len(company_locations)"
   ]
  },
  {
   "cell_type": "code",
   "execution_count": 91,
   "metadata": {},
   "outputs": [],
   "source": [
    "def starbucksRequestAuthorized(params):\n",
    "    authToken1 = os.getenv(\"CLIENT_ID\")\n",
    "    authToken2 = os.getenv(\"CLIENT_SECRET\")\n",
    "    if not authToken1 or not authToken2:\n",
    "        raise ValueError(\"NECESITAS UN TOKEN\")\n",
    "    else:\n",
    "        print(\"We have a github token: \", authToken1[0:4])\n",
    "    params[\"client_id\"] = authToken1\n",
    "    params[\"client_secret\"] = authToken2\n",
    "    url = 'https://api.foursquare.com/v2/venues/explore'\n",
    "    res = requests.get(url, params=params)\n",
    "    \n",
    "    return res"
   ]
  },
  {
   "cell_type": "code",
   "execution_count": 92,
   "metadata": {},
   "outputs": [],
   "source": [
    "def apistarbucks(long,lat):\n",
    "    location = {\"v\":\"20180323\",\n",
    "               \"ll\":f'{long},{lat}',\n",
    "               \"query\":\"Starbucks\",\n",
    "               \"limit\":1,\n",
    "               \"radius\":500}\n",
    "    data = json.loads(starbucksRequestAuthorized(location).text)\n",
    "    return data"
   ]
  },
  {
   "cell_type": "code",
   "execution_count": 35,
   "metadata": {},
   "outputs": [
    {
     "name": "stdout",
     "output_type": "stream",
     "text": [
      "We have a github token:  31FM\n"
     ]
    }
   ],
   "source": [
    "all_starbucks=[]\n",
    "for company in company_locations:\n",
    "    starbucks=dict()\n",
    "    comp_lat=company['Latitude']\n",
    "    comp_long=company['Longitude']\n",
    "    dat=apistarbucks(comp_long,comp_lat)\n",
    "    resp=dat['response']\n",
    "    if resp.notnull():\n",
    "        lt=stb['venue']['location']['lat']\n",
    "        lg=stb['venue']['location']['lng']\n",
    "        starbucks['refcomp']=company['_id']\n",
    "        starbucks['latitude']=lt\n",
    "        starbucks['longitude']=lg\n",
    "        starbucks['geoloc_stb']=f.getLocation(lg,lt)\n",
    "        all_starbucks.append(starbucks)\n",
    "    break"
   ]
  },
  {
   "cell_type": "code",
   "execution_count": 82,
   "metadata": {},
   "outputs": [
    {
     "name": "stdout",
     "output_type": "stream",
     "text": [
      "40.72689\n"
     ]
    },
    {
     "data": {
      "text/plain": [
       "-74.00026"
      ]
     },
     "execution_count": 82,
     "metadata": {},
     "output_type": "execute_result"
    }
   ],
   "source": [
    "print(dat['response']['groups'][0]['items'][1]['venue']['location']['lat'])\n",
    "dat['response']['groups'][0]['items'][1]['venue']['location']['lng']"
   ]
  },
  {
   "cell_type": "code",
   "execution_count": 58,
   "metadata": {},
   "outputs": [
    {
     "data": {
      "text/plain": [
       "4"
      ]
     },
     "execution_count": 58,
     "metadata": {},
     "output_type": "execute_result"
    }
   ],
   "source": [
    "len(dat['response']['groups'][0]['items'])"
   ]
  },
  {
   "cell_type": "code",
   "execution_count": null,
   "metadata": {},
   "outputs": [],
   "source": []
  }
 ],
 "metadata": {
  "kernelspec": {
   "display_name": "Python 3",
   "language": "python",
   "name": "python3"
  },
  "language_info": {
   "codemirror_mode": {
    "name": "ipython",
    "version": 3
   },
   "file_extension": ".py",
   "mimetype": "text/x-python",
   "name": "python",
   "nbconvert_exporter": "python",
   "pygments_lexer": "ipython3",
   "version": "3.7.4"
  }
 },
 "nbformat": 4,
 "nbformat_minor": 2
}
