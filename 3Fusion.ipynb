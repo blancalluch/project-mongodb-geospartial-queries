{
 "cells": [
  {
   "cell_type": "markdown",
   "metadata": {},
   "source": [
    "## Joining Starbucks and 1M Companies"
   ]
  },
  {
   "cell_type": "code",
   "execution_count": 1,
   "metadata": {},
   "outputs": [],
   "source": [
    "import json\n",
    "import pandas as pd\n",
    "import connectionMongoDB as mongo\n"
   ]
  },
  {
   "cell_type": "markdown",
   "metadata": {},
   "source": [
    "- Connecting with 1MCompanies database in mongoDB."
   ]
  },
  {
   "cell_type": "code",
   "execution_count": 2,
   "metadata": {},
   "outputs": [],
   "source": [
    "dbcomp, collcomp = mongo.connectCollection('companies','1MCompanies')"
   ]
  },
  {
   "cell_type": "code",
   "execution_count": 3,
   "metadata": {},
   "outputs": [],
   "source": [
    "with open('./output/starbucks.json', 'r') as myfile:\n",
    "    data=myfile.read()\n",
    "obj = json.loads(data)\n",
    "starbucks=pd.DataFrame(obj)"
   ]
  },
  {
   "cell_type": "code",
   "execution_count": 4,
   "metadata": {},
   "outputs": [],
   "source": [
    "starbucks=starbucks.rename(columns={\"latitude\":\"Latitude_starbucks\",\"longitude\":\"Longitude_starbucks\",\"refcomp\":\"ref\"})"
   ]
  },
  {
   "cell_type": "markdown",
   "metadata": {},
   "source": [
    "- Changing the objectId of companies to string, and adding the column ref to use it after to compare both dataframes."
   ]
  },
  {
   "cell_type": "code",
   "execution_count": 15,
   "metadata": {},
   "outputs": [],
   "source": [
    "ref_strb=list(starbucks['ref'])"
   ]
  },
  {
   "cell_type": "code",
   "execution_count": 6,
   "metadata": {},
   "outputs": [],
   "source": [
    "companies = list(collcomp.find())"
   ]
  },
  {
   "cell_type": "code",
   "execution_count": 16,
   "metadata": {},
   "outputs": [],
   "source": [
    "refid=[]\n",
    "for c in companies:\n",
    "    refid.append(str(c[\"_id\"]))"
   ]
  },
  {
   "cell_type": "code",
   "execution_count": 20,
   "metadata": {},
   "outputs": [],
   "source": [
    "companies_df=pd.DataFrame(companies)"
   ]
  },
  {
   "cell_type": "code",
   "execution_count": 21,
   "metadata": {},
   "outputs": [],
   "source": [
    "companies_df['ref']=refid"
   ]
  },
  {
   "cell_type": "markdown",
   "metadata": {},
   "source": [
    "- Now we can relate the companies with more than 1M$ raised and the ones that have starbucks near."
   ]
  },
  {
   "cell_type": "code",
   "execution_count": 31,
   "metadata": {},
   "outputs": [
    {
     "data": {
      "text/html": [
       "<div>\n",
       "<style scoped>\n",
       "    .dataframe tbody tr th:only-of-type {\n",
       "        vertical-align: middle;\n",
       "    }\n",
       "\n",
       "    .dataframe tbody tr th {\n",
       "        vertical-align: top;\n",
       "    }\n",
       "\n",
       "    .dataframe thead th {\n",
       "        text-align: right;\n",
       "    }\n",
       "</style>\n",
       "<table border=\"1\" class=\"dataframe\">\n",
       "  <thead>\n",
       "    <tr style=\"text-align: right;\">\n",
       "      <th></th>\n",
       "      <th>ref</th>\n",
       "      <th>Name</th>\n",
       "      <th>Category</th>\n",
       "      <th>Description</th>\n",
       "      <th>Latitude</th>\n",
       "      <th>Longitude</th>\n",
       "      <th>Founded Year</th>\n",
       "      <th>Total Money Raised</th>\n",
       "      <th>Raised Amount</th>\n",
       "      <th>Currency</th>\n",
       "      <th>Address</th>\n",
       "      <th>Zip code</th>\n",
       "      <th>City</th>\n",
       "      <th>GeoLocations</th>\n",
       "    </tr>\n",
       "  </thead>\n",
       "  <tbody>\n",
       "    <tr>\n",
       "      <th>0</th>\n",
       "      <td>5dd59811fc1c02fda798c75c</td>\n",
       "      <td>Scribd</td>\n",
       "      <td>news</td>\n",
       "      <td>Read Unlimited Books</td>\n",
       "      <td>37.789634</td>\n",
       "      <td>-122.404052</td>\n",
       "      <td>2007.0</td>\n",
       "      <td>$25.8M</td>\n",
       "      <td>25762000.0</td>\n",
       "      <td>USD</td>\n",
       "      <td>539 Bryant Street</td>\n",
       "      <td>94107</td>\n",
       "      <td>San Francisco</td>\n",
       "      <td>{'type': 'Point', 'coordinates': [-122.404052,...</td>\n",
       "    </tr>\n",
       "    <tr>\n",
       "      <th>1</th>\n",
       "      <td>5dd59811fc1c02fda798c75d</td>\n",
       "      <td>Digg</td>\n",
       "      <td>news</td>\n",
       "      <td>user driven social content website</td>\n",
       "      <td>37.764726</td>\n",
       "      <td>-122.394523</td>\n",
       "      <td>2004.0</td>\n",
       "      <td>$45M</td>\n",
       "      <td>45000000.0</td>\n",
       "      <td>USD</td>\n",
       "      <td>135 Mississippi St</td>\n",
       "      <td>94107</td>\n",
       "      <td>San Francisco</td>\n",
       "      <td>{'type': 'Point', 'coordinates': [-122.394523,...</td>\n",
       "    </tr>\n",
       "    <tr>\n",
       "      <th>2</th>\n",
       "      <td>5dd59811fc1c02fda798c75e</td>\n",
       "      <td>Lala</td>\n",
       "      <td>games_video</td>\n",
       "      <td>hub for online music discovery</td>\n",
       "      <td>37.451151</td>\n",
       "      <td>-122.154369</td>\n",
       "      <td>NaN</td>\n",
       "      <td>$44.2M</td>\n",
       "      <td>44150000.0</td>\n",
       "      <td>USD</td>\n",
       "      <td>209 Hamilton Ave</td>\n",
       "      <td>94301</td>\n",
       "      <td>Palo Alto</td>\n",
       "      <td>{'type': 'Point', 'coordinates': [-122.154369,...</td>\n",
       "    </tr>\n",
       "    <tr>\n",
       "      <th>3</th>\n",
       "      <td>5dd59811fc1c02fda798c75f</td>\n",
       "      <td>Slacker</td>\n",
       "      <td>music</td>\n",
       "      <td>Music Personalization Suite</td>\n",
       "      <td>33.022176</td>\n",
       "      <td>-117.081406</td>\n",
       "      <td>2006.0</td>\n",
       "      <td>$73.1M</td>\n",
       "      <td>73100000.0</td>\n",
       "      <td>USD</td>\n",
       "      <td>16935 W. Bernardo Dr. Suite 101</td>\n",
       "      <td>92127</td>\n",
       "      <td>San Diego</td>\n",
       "      <td>{'type': 'Point', 'coordinates': [-117.081406,...</td>\n",
       "    </tr>\n",
       "    <tr>\n",
       "      <th>4</th>\n",
       "      <td>5dd59811fc1c02fda798c760</td>\n",
       "      <td>MeetMoi</td>\n",
       "      <td>social</td>\n",
       "      <td>Mobile Dating</td>\n",
       "      <td>40.757929</td>\n",
       "      <td>-73.985506</td>\n",
       "      <td>2007.0</td>\n",
       "      <td>$5.58M</td>\n",
       "      <td>5575000.0</td>\n",
       "      <td>USD</td>\n",
       "      <td></td>\n",
       "      <td></td>\n",
       "      <td>New York City</td>\n",
       "      <td>{'type': 'Point', 'coordinates': [-73.985506, ...</td>\n",
       "    </tr>\n",
       "  </tbody>\n",
       "</table>\n",
       "</div>"
      ],
      "text/plain": [
       "                        ref     Name     Category  \\\n",
       "0  5dd59811fc1c02fda798c75c   Scribd         news   \n",
       "1  5dd59811fc1c02fda798c75d     Digg         news   \n",
       "2  5dd59811fc1c02fda798c75e     Lala  games_video   \n",
       "3  5dd59811fc1c02fda798c75f  Slacker        music   \n",
       "4  5dd59811fc1c02fda798c760  MeetMoi       social   \n",
       "\n",
       "                          Description   Latitude   Longitude  Founded Year  \\\n",
       "0                Read Unlimited Books  37.789634 -122.404052        2007.0   \n",
       "1  user driven social content website  37.764726 -122.394523        2004.0   \n",
       "2      hub for online music discovery  37.451151 -122.154369           NaN   \n",
       "3         Music Personalization Suite  33.022176 -117.081406        2006.0   \n",
       "4                       Mobile Dating  40.757929  -73.985506        2007.0   \n",
       "\n",
       "  Total Money Raised  Raised Amount Currency                          Address  \\\n",
       "0             $25.8M     25762000.0      USD                539 Bryant Street   \n",
       "1               $45M     45000000.0      USD               135 Mississippi St   \n",
       "2             $44.2M     44150000.0      USD                 209 Hamilton Ave   \n",
       "3             $73.1M     73100000.0      USD  16935 W. Bernardo Dr. Suite 101   \n",
       "4             $5.58M      5575000.0      USD                                    \n",
       "\n",
       "  Zip code           City                                       GeoLocations  \n",
       "0    94107  San Francisco  {'type': 'Point', 'coordinates': [-122.404052,...  \n",
       "1    94107  San Francisco  {'type': 'Point', 'coordinates': [-122.394523,...  \n",
       "2    94301      Palo Alto  {'type': 'Point', 'coordinates': [-122.154369,...  \n",
       "3    92127      San Diego  {'type': 'Point', 'coordinates': [-117.081406,...  \n",
       "4           New York City  {'type': 'Point', 'coordinates': [-73.985506, ...  "
      ]
     },
     "execution_count": 31,
     "metadata": {},
     "output_type": "execute_result"
    }
   ],
   "source": [
    "companies_df.head()"
   ]
  },
  {
   "cell_type": "markdown",
   "metadata": {},
   "source": [
    "- Droping the _id column."
   ]
  },
  {
   "cell_type": "code",
   "execution_count": 26,
   "metadata": {},
   "outputs": [],
   "source": [
    "companies_df=companies_df.drop('_id',axis=1)"
   ]
  },
  {
   "cell_type": "code",
   "execution_count": 28,
   "metadata": {},
   "outputs": [],
   "source": [
    "merge=pd.merge(starbucks,companies_df,how=\"inner\",on='ref')"
   ]
  },
  {
   "cell_type": "code",
   "execution_count": 30,
   "metadata": {},
   "outputs": [],
   "source": [
    "merge.to_json('./output/merge_stb_1M.json', orient=\"records\")"
   ]
  }
 ],
 "metadata": {
  "kernelspec": {
   "display_name": "Python 3",
   "language": "python",
   "name": "python3"
  },
  "language_info": {
   "codemirror_mode": {
    "name": "ipython",
    "version": 3
   },
   "file_extension": ".py",
   "mimetype": "text/x-python",
   "name": "python",
   "nbconvert_exporter": "python",
   "pygments_lexer": "ipython3",
   "version": "3.7.4"
  }
 },
 "nbformat": 4,
 "nbformat_minor": 2
}
