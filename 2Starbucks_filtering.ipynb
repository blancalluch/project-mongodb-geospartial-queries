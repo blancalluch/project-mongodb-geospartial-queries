{
 "cells": [
  {
   "cell_type": "markdown",
   "metadata": {},
   "source": [
    "## Starbucks Filtering"
   ]
  },
  {
   "cell_type": "code",
   "execution_count": 163,
   "metadata": {},
   "outputs": [],
   "source": [
    "import pandas as pd\n",
    "import re\n",
    "import getpass\n",
    "import json\n",
    "import numpy as np\n",
    "import connectionMongoDB as mongo\n",
    "import getLocation as gl\n",
    "import foursquare_API as foursq"
   ]
  },
  {
   "cell_type": "markdown",
   "metadata": {},
   "source": [
    "- Connecting with 1M companies (the mongodb imported with only companies that have raised more tha 1M$"
   ]
  },
  {
   "cell_type": "code",
   "execution_count": 4,
   "metadata": {},
   "outputs": [],
   "source": [
    "db, coll = mongo.connectCollection('companies','1MCompanies')"
   ]
  },
  {
   "cell_type": "code",
   "execution_count": 98,
   "metadata": {},
   "outputs": [
    {
     "data": {
      "text/plain": [
       "4499"
      ]
     },
     "execution_count": 98,
     "metadata": {},
     "output_type": "execute_result"
    }
   ],
   "source": [
    "company_locations = list(coll.find({},{\"Latitude\":1,\"Longitude\":1}))\n",
    "len(company_locations)"
   ]
  },
  {
   "cell_type": "markdown",
   "metadata": {},
   "source": [
    "- Using foursquare API to find the nearest starbucks in a radius of 500m for each company office and creating a list of dictionaries with the _id of each office and the lat and long of the nearest starbucks."
   ]
  },
  {
   "cell_type": "code",
   "execution_count": 126,
   "metadata": {},
   "outputs": [],
   "source": [
    "all_starbucks=[]\n",
    "for company in company_locations:\n",
    "    starbucks=dict()\n",
    "    comp_lat=company['Latitude']\n",
    "    comp_long=company['Longitude']\n",
    "    dat=foursq.apifoursquare(comp_long,comp_lat,\"Starbucks\",1,500)\n",
    "    resp=dat['response']\n",
    "    if resp!={} and resp['totalResults']>0:\n",
    "        lt=dat['response']['groups'][0]['items'][0]['venue']['location']['lat']\n",
    "        lg=dat['response']['groups'][0]['items'][0]['venue']['location']['lng']\n",
    "        starbucks['refcomp']=str(company['_id'])\n",
    "        starbucks['latitude']=lt\n",
    "        starbucks['longitude']=lg\n",
    "        starbucks['geoloc_stb']=gl.getLocation(lg,lt)\n",
    "        all_starbucks.append(starbucks)"
   ]
  },
  {
   "cell_type": "code",
   "execution_count": 153,
   "metadata": {},
   "outputs": [],
   "source": [
    "starbucks_df=pd.DataFrame(all_starbucks)"
   ]
  },
  {
   "cell_type": "markdown",
   "metadata": {},
   "source": [
    "- Exporting Starbucks data to output directory."
   ]
  },
  {
   "cell_type": "code",
   "execution_count": 161,
   "metadata": {},
   "outputs": [],
   "source": [
    "# Felipe es genial\n",
    "with open(\"starbucks.json\", \"w+\") as file:\n",
    "    file.write(str(all_starbucks))\n",
    "#como es string no puedo importarlo a mongo entonces lo edito en code y quito objectid"
   ]
  }
 ],
 "metadata": {
  "kernelspec": {
   "display_name": "Python 3",
   "language": "python",
   "name": "python3"
  },
  "language_info": {
   "codemirror_mode": {
    "name": "ipython",
    "version": 3
   },
   "file_extension": ".py",
   "mimetype": "text/x-python",
   "name": "python",
   "nbconvert_exporter": "python",
   "pygments_lexer": "ipython3",
   "version": "3.7.4"
  }
 },
 "nbformat": 4,
 "nbformat_minor": 2
}
