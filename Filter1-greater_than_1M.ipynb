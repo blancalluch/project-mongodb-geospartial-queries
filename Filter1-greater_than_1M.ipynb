{
 "cells": [
  {
   "cell_type": "markdown",
   "metadata": {},
   "source": [
    "## First MongoDB Companies Filter"
   ]
  },
  {
   "cell_type": "code",
   "execution_count": 6,
   "metadata": {},
   "outputs": [],
   "source": [
    "from pymongo import MongoClient\n",
    "import pandas as pd\n",
    "import re\n",
    "import getpass\n",
    "import json\n",
    "import os\n",
    "import requests\n",
    "from dotenv import load_dotenv\n",
    "load_dotenv()\n",
    "import numpy as np\n",
    "import functions as func"
   ]
  },
  {
   "cell_type": "markdown",
   "metadata": {},
   "source": [
    "- Connecting with mongoclient to read database:"
   ]
  },
  {
   "cell_type": "code",
   "execution_count": 2,
   "metadata": {},
   "outputs": [],
   "source": [
    "def connectCollection(database, collection):\n",
    "    client = MongoClient()\n",
    "    db = client[database]\n",
    "    coll = db[collection]\n",
    "    return db, coll"
   ]
  },
  {
   "cell_type": "markdown",
   "metadata": {},
   "source": [
    "- Reading companies database:"
   ]
  },
  {
   "cell_type": "code",
   "execution_count": 3,
   "metadata": {},
   "outputs": [],
   "source": [
    "db, coll = connectCollection('companies','companies')"
   ]
  },
  {
   "cell_type": "markdown",
   "metadata": {},
   "source": [
    "- Filtering by: no deadpooled year and at least one office:"
   ]
  },
  {
   "cell_type": "code",
   "execution_count": 4,
   "metadata": {},
   "outputs": [],
   "source": [
    "companies = list(coll.find({\"$and\": [{\"deadpooled_year\":None},{\"$where\":\"this.offices.length >= 1\"}]}))\n",
    "#company2 = list(coll.find({\"$and\": [{\"deadpooled_year\":None},{\"$where\":\"this.offices.length >= 1\"},{\"$or\":[{\"$where\":\"this.funding_rounds.length >= 1\"},{\"total_money_raised\":{\"$exists\":True}}]}]}))\n"
   ]
  },
  {
   "cell_type": "code",
   "execution_count": 5,
   "metadata": {},
   "outputs": [
    {
     "data": {
      "text/plain": [
       "12957"
      ]
     },
     "execution_count": 5,
     "metadata": {},
     "output_type": "execute_result"
    }
   ],
   "source": [
    "len(companies)"
   ]
  },
  {
   "cell_type": "markdown",
   "metadata": {},
   "source": [
    "- Creating a list of dictionaries with the information of each company and the latitude and longitude of each office of each company:"
   ]
  },
  {
   "cell_type": "code",
   "execution_count": 6,
   "metadata": {},
   "outputs": [],
   "source": [
    "merged_offices = []\n",
    "\n",
    "for c in companies:\n",
    "    offices = c.get('offices',[])\n",
    "    for office in offices:\n",
    "        merged_office = dict()\n",
    "        raised_amount=0\n",
    "        merged_office[\"ref\"] = str(c.get('_id',0))\n",
    "        merged_office[\"Name\"]=c.get('name',0)\n",
    "        merged_office[\"Category\"]=c.get('category_code',0)\n",
    "        merged_office[\"Description\"]=c.get('description',0)\n",
    "        merged_office[\"Latitude\"]=office.get('latitude',0)\n",
    "        merged_office[\"Longitude\"]=office.get('longitude',0)\n",
    "        merged_office[\"Founded Year\"]=c.get('founded_year',0)\n",
    "        merged_office[\"Total Money Raised\"]=c.get('total_money_raised',0)\n",
    "        for rounds in range(len(c.get('funding_rounds'))):\n",
    "            r=c.get('funding_rounds')[rounds].get('raised_amount',0)\n",
    "            if r !=None:\n",
    "                raised_amount+=r\n",
    "        merged_office[\"Raised Amount\"]=raised_amount\n",
    "        if len(c.get('funding_rounds'))>0:\n",
    "            merged_office[\"Currency\"]=c.get('funding_rounds')[0].get('raised_currency_code',0)\n",
    "        else:\n",
    "            merged_office[\"Currency\"]=0\n",
    "        merged_offices.append(merged_office)\n",
    "        merged_office[\"Address\"]=office.get('address1',0)\n",
    "        merged_office[\"Zip code\"]=office.get('zip_code',0)\n",
    "        merged_office[\"City\"]=office.get('city',0)\n",
    "        \n"
   ]
  },
  {
   "cell_type": "markdown",
   "metadata": {},
   "source": [
    "- Creating dataframe with the information:"
   ]
  },
  {
   "cell_type": "code",
   "execution_count": 7,
   "metadata": {},
   "outputs": [
    {
     "data": {
      "text/html": [
       "<div>\n",
       "<style scoped>\n",
       "    .dataframe tbody tr th:only-of-type {\n",
       "        vertical-align: middle;\n",
       "    }\n",
       "\n",
       "    .dataframe tbody tr th {\n",
       "        vertical-align: top;\n",
       "    }\n",
       "\n",
       "    .dataframe thead th {\n",
       "        text-align: right;\n",
       "    }\n",
       "</style>\n",
       "<table border=\"1\" class=\"dataframe\">\n",
       "  <thead>\n",
       "    <tr style=\"text-align: right;\">\n",
       "      <th></th>\n",
       "      <th>ref</th>\n",
       "      <th>Name</th>\n",
       "      <th>Category</th>\n",
       "      <th>Description</th>\n",
       "      <th>Latitude</th>\n",
       "      <th>Longitude</th>\n",
       "      <th>Founded Year</th>\n",
       "      <th>Total Money Raised</th>\n",
       "      <th>Raised Amount</th>\n",
       "      <th>Currency</th>\n",
       "      <th>Address</th>\n",
       "      <th>Zip code</th>\n",
       "      <th>City</th>\n",
       "    </tr>\n",
       "  </thead>\n",
       "  <tbody>\n",
       "    <tr>\n",
       "      <th>0</th>\n",
       "      <td>52cdef7c4bab8bd675297d8d</td>\n",
       "      <td>Digg</td>\n",
       "      <td>news</td>\n",
       "      <td>user driven social content website</td>\n",
       "      <td>37.764726</td>\n",
       "      <td>-122.394523</td>\n",
       "      <td>2004.0</td>\n",
       "      <td>$45M</td>\n",
       "      <td>45000000.0</td>\n",
       "      <td>USD</td>\n",
       "      <td>135 Mississippi St</td>\n",
       "      <td>94107</td>\n",
       "      <td>San Francisco</td>\n",
       "    </tr>\n",
       "    <tr>\n",
       "      <th>1</th>\n",
       "      <td>52cdef7c4bab8bd675297d90</td>\n",
       "      <td>Postini</td>\n",
       "      <td>web</td>\n",
       "      <td>None</td>\n",
       "      <td>37.506885</td>\n",
       "      <td>-122.247573</td>\n",
       "      <td>1999.0</td>\n",
       "      <td>$0</td>\n",
       "      <td>0.0</td>\n",
       "      <td>0</td>\n",
       "      <td>959 Skyway Road, Suite 200</td>\n",
       "      <td>94070</td>\n",
       "      <td>San Carlos</td>\n",
       "    </tr>\n",
       "    <tr>\n",
       "      <th>2</th>\n",
       "      <td>52cdef7c4bab8bd675297d92</td>\n",
       "      <td>Flektor</td>\n",
       "      <td>games_video</td>\n",
       "      <td>None</td>\n",
       "      <td>34.025958</td>\n",
       "      <td>-118.379768</td>\n",
       "      <td>NaN</td>\n",
       "      <td>$0</td>\n",
       "      <td>0.0</td>\n",
       "      <td>0</td>\n",
       "      <td>8536 National Blvd, Suite A</td>\n",
       "      <td>90232</td>\n",
       "      <td>Culver City</td>\n",
       "    </tr>\n",
       "    <tr>\n",
       "      <th>3</th>\n",
       "      <td>52cdef7c4bab8bd675297d91</td>\n",
       "      <td>Geni</td>\n",
       "      <td>web</td>\n",
       "      <td>Geneology social network site</td>\n",
       "      <td>34.090368</td>\n",
       "      <td>-118.393064</td>\n",
       "      <td>2006.0</td>\n",
       "      <td>$16.5M</td>\n",
       "      <td>16500000.0</td>\n",
       "      <td>USD</td>\n",
       "      <td>9229 W. Sunset Blvd.</td>\n",
       "      <td>90069</td>\n",
       "      <td>West Hollywood</td>\n",
       "    </tr>\n",
       "    <tr>\n",
       "      <th>4</th>\n",
       "      <td>52cdef7c4bab8bd675297d93</td>\n",
       "      <td>Fox Interactive Media</td>\n",
       "      <td>web</td>\n",
       "      <td></td>\n",
       "      <td>34.076179</td>\n",
       "      <td>-118.394170</td>\n",
       "      <td>1979.0</td>\n",
       "      <td>$0</td>\n",
       "      <td>0.0</td>\n",
       "      <td>0</td>\n",
       "      <td>407 N Maple Dr</td>\n",
       "      <td>90210</td>\n",
       "      <td>Beverly Hills</td>\n",
       "    </tr>\n",
       "  </tbody>\n",
       "</table>\n",
       "</div>"
      ],
      "text/plain": [
       "                        ref                   Name     Category  \\\n",
       "0  52cdef7c4bab8bd675297d8d                   Digg         news   \n",
       "1  52cdef7c4bab8bd675297d90                Postini          web   \n",
       "2  52cdef7c4bab8bd675297d92                Flektor  games_video   \n",
       "3  52cdef7c4bab8bd675297d91                   Geni          web   \n",
       "4  52cdef7c4bab8bd675297d93  Fox Interactive Media          web   \n",
       "\n",
       "                          Description   Latitude   Longitude  Founded Year  \\\n",
       "0  user driven social content website  37.764726 -122.394523        2004.0   \n",
       "1                                None  37.506885 -122.247573        1999.0   \n",
       "2                                None  34.025958 -118.379768           NaN   \n",
       "3       Geneology social network site  34.090368 -118.393064        2006.0   \n",
       "4                                      34.076179 -118.394170        1979.0   \n",
       "\n",
       "  Total Money Raised  Raised Amount Currency                      Address  \\\n",
       "0               $45M     45000000.0      USD           135 Mississippi St   \n",
       "1                 $0            0.0        0   959 Skyway Road, Suite 200   \n",
       "2                 $0            0.0        0  8536 National Blvd, Suite A   \n",
       "3             $16.5M     16500000.0      USD         9229 W. Sunset Blvd.   \n",
       "4                 $0            0.0        0               407 N Maple Dr   \n",
       "\n",
       "  Zip code            City  \n",
       "0    94107   San Francisco  \n",
       "1    94070      San Carlos  \n",
       "2    90232     Culver City  \n",
       "3    90069  West Hollywood  \n",
       "4    90210   Beverly Hills  "
      ]
     },
     "execution_count": 7,
     "metadata": {},
     "output_type": "execute_result"
    }
   ],
   "source": [
    "df=pd.DataFrame(merged_offices)\n",
    "df.head()"
   ]
  },
  {
   "cell_type": "code",
   "execution_count": 8,
   "metadata": {},
   "outputs": [
    {
     "name": "stdout",
     "output_type": "stream",
     "text": [
      "{0, 'JPY', 'USD', 'EUR', 'SEK', None, 'GBP', 'CAD'}\n"
     ]
    },
    {
     "data": {
      "text/plain": [
       "(15848, 13)"
      ]
     },
     "execution_count": 8,
     "metadata": {},
     "output_type": "execute_result"
    }
   ],
   "source": [
    "print(set(df['Currency']))\n",
    "df.shape"
   ]
  },
  {
   "cell_type": "markdown",
   "metadata": {},
   "source": [
    "- Adding currency to all the rows in the dataframe:"
   ]
  },
  {
   "cell_type": "code",
   "execution_count": 10,
   "metadata": {},
   "outputs": [
    {
     "data": {
      "text/html": [
       "<div>\n",
       "<style scoped>\n",
       "    .dataframe tbody tr th:only-of-type {\n",
       "        vertical-align: middle;\n",
       "    }\n",
       "\n",
       "    .dataframe tbody tr th {\n",
       "        vertical-align: top;\n",
       "    }\n",
       "\n",
       "    .dataframe thead th {\n",
       "        text-align: right;\n",
       "    }\n",
       "</style>\n",
       "<table border=\"1\" class=\"dataframe\">\n",
       "  <thead>\n",
       "    <tr style=\"text-align: right;\">\n",
       "      <th></th>\n",
       "      <th>ref</th>\n",
       "      <th>Name</th>\n",
       "      <th>Category</th>\n",
       "      <th>Description</th>\n",
       "      <th>Latitude</th>\n",
       "      <th>Longitude</th>\n",
       "      <th>Founded Year</th>\n",
       "      <th>Total Money Raised</th>\n",
       "      <th>Raised Amount</th>\n",
       "      <th>Currency</th>\n",
       "      <th>Address</th>\n",
       "      <th>Zip code</th>\n",
       "      <th>City</th>\n",
       "    </tr>\n",
       "  </thead>\n",
       "  <tbody>\n",
       "    <tr>\n",
       "      <th>0</th>\n",
       "      <td>52cdef7c4bab8bd675297d8d</td>\n",
       "      <td>Digg</td>\n",
       "      <td>news</td>\n",
       "      <td>user driven social content website</td>\n",
       "      <td>37.764726</td>\n",
       "      <td>-122.394523</td>\n",
       "      <td>2004.0</td>\n",
       "      <td>$45M</td>\n",
       "      <td>45000000.0</td>\n",
       "      <td>USD</td>\n",
       "      <td>135 Mississippi St</td>\n",
       "      <td>94107</td>\n",
       "      <td>San Francisco</td>\n",
       "    </tr>\n",
       "    <tr>\n",
       "      <th>1</th>\n",
       "      <td>52cdef7c4bab8bd675297d90</td>\n",
       "      <td>Postini</td>\n",
       "      <td>web</td>\n",
       "      <td>None</td>\n",
       "      <td>37.506885</td>\n",
       "      <td>-122.247573</td>\n",
       "      <td>1999.0</td>\n",
       "      <td>$0</td>\n",
       "      <td>0.0</td>\n",
       "      <td>USD</td>\n",
       "      <td>959 Skyway Road, Suite 200</td>\n",
       "      <td>94070</td>\n",
       "      <td>San Carlos</td>\n",
       "    </tr>\n",
       "    <tr>\n",
       "      <th>2</th>\n",
       "      <td>52cdef7c4bab8bd675297d92</td>\n",
       "      <td>Flektor</td>\n",
       "      <td>games_video</td>\n",
       "      <td>None</td>\n",
       "      <td>34.025958</td>\n",
       "      <td>-118.379768</td>\n",
       "      <td>NaN</td>\n",
       "      <td>$0</td>\n",
       "      <td>0.0</td>\n",
       "      <td>USD</td>\n",
       "      <td>8536 National Blvd, Suite A</td>\n",
       "      <td>90232</td>\n",
       "      <td>Culver City</td>\n",
       "    </tr>\n",
       "    <tr>\n",
       "      <th>3</th>\n",
       "      <td>52cdef7c4bab8bd675297d91</td>\n",
       "      <td>Geni</td>\n",
       "      <td>web</td>\n",
       "      <td>Geneology social network site</td>\n",
       "      <td>34.090368</td>\n",
       "      <td>-118.393064</td>\n",
       "      <td>2006.0</td>\n",
       "      <td>$16.5M</td>\n",
       "      <td>16500000.0</td>\n",
       "      <td>USD</td>\n",
       "      <td>9229 W. Sunset Blvd.</td>\n",
       "      <td>90069</td>\n",
       "      <td>West Hollywood</td>\n",
       "    </tr>\n",
       "    <tr>\n",
       "      <th>4</th>\n",
       "      <td>52cdef7c4bab8bd675297d93</td>\n",
       "      <td>Fox Interactive Media</td>\n",
       "      <td>web</td>\n",
       "      <td></td>\n",
       "      <td>34.076179</td>\n",
       "      <td>-118.394170</td>\n",
       "      <td>1979.0</td>\n",
       "      <td>$0</td>\n",
       "      <td>0.0</td>\n",
       "      <td>USD</td>\n",
       "      <td>407 N Maple Dr</td>\n",
       "      <td>90210</td>\n",
       "      <td>Beverly Hills</td>\n",
       "    </tr>\n",
       "  </tbody>\n",
       "</table>\n",
       "</div>"
      ],
      "text/plain": [
       "                        ref                   Name     Category  \\\n",
       "0  52cdef7c4bab8bd675297d8d                   Digg         news   \n",
       "1  52cdef7c4bab8bd675297d90                Postini          web   \n",
       "2  52cdef7c4bab8bd675297d92                Flektor  games_video   \n",
       "3  52cdef7c4bab8bd675297d91                   Geni          web   \n",
       "4  52cdef7c4bab8bd675297d93  Fox Interactive Media          web   \n",
       "\n",
       "                          Description   Latitude   Longitude  Founded Year  \\\n",
       "0  user driven social content website  37.764726 -122.394523        2004.0   \n",
       "1                                None  37.506885 -122.247573        1999.0   \n",
       "2                                None  34.025958 -118.379768           NaN   \n",
       "3       Geneology social network site  34.090368 -118.393064        2006.0   \n",
       "4                                      34.076179 -118.394170        1979.0   \n",
       "\n",
       "  Total Money Raised  Raised Amount Currency                      Address  \\\n",
       "0               $45M     45000000.0      USD           135 Mississippi St   \n",
       "1                 $0            0.0      USD   959 Skyway Road, Suite 200   \n",
       "2                 $0            0.0      USD  8536 National Blvd, Suite A   \n",
       "3             $16.5M     16500000.0      USD         9229 W. Sunset Blvd.   \n",
       "4                 $0            0.0      USD               407 N Maple Dr   \n",
       "\n",
       "  Zip code            City  \n",
       "0    94107   San Francisco  \n",
       "1    94070      San Carlos  \n",
       "2    90232     Culver City  \n",
       "3    90069  West Hollywood  \n",
       "4    90210   Beverly Hills  "
      ]
     },
     "execution_count": 10,
     "metadata": {},
     "output_type": "execute_result"
    }
   ],
   "source": [
    "money={'$': 'USD', 'C$': 'CAD', '€': 'EUR', '£': 'GBP', 'kr': 'SEK', '¥': 'JPY'}\n",
    "for key,value in money.items():\n",
    "    df.loc[(df['Total Money Raised'].str.startswith(key)),'Currency']=value\n",
    "df.head()"
   ]
  },
  {
   "cell_type": "code",
   "execution_count": 11,
   "metadata": {},
   "outputs": [
    {
     "data": {
      "text/plain": [
       "{'CAD', 'EUR', 'GBP', 'JPY', 'SEK', 'USD'}"
      ]
     },
     "execution_count": 11,
     "metadata": {},
     "output_type": "execute_result"
    }
   ],
   "source": [
    "set(df['Currency'])"
   ]
  },
  {
   "cell_type": "markdown",
   "metadata": {},
   "source": [
    "- Creating geolocation dictionary with correct format"
   ]
  },
  {
   "cell_type": "code",
   "execution_count": 5,
   "metadata": {},
   "outputs": [],
   "source": [
    "def getLocation(long,lat):\n",
    "    loc = {\n",
    "        'type':'Point',\n",
    "        'coordinates':[float(long), float(lat)]\n",
    "    }\n",
    "    return loc"
   ]
  },
  {
   "cell_type": "markdown",
   "metadata": {},
   "source": [
    "- Requesting the Google API for the empty longitudes and latitudes in the dataframe:"
   ]
  },
  {
   "cell_type": "code",
   "execution_count": 17,
   "metadata": {},
   "outputs": [],
   "source": [
    "def googleRequestAuthorized(address):\n",
    "    authToken = os.getenv(\"API_KEY\")\n",
    "    if not authToken:\n",
    "        raise ValueError(\"NECESITAS UN TOKEN\")\n",
    "    else:\n",
    "        url = f\"https://maps.googleapis.com/maps/api/geocode/json?address={address}&key={authToken}\"\n",
    "        res = requests.get(url)\n",
    "\n",
    "    return res"
   ]
  },
  {
   "cell_type": "code",
   "execution_count": 18,
   "metadata": {},
   "outputs": [],
   "source": [
    "def apicompanies(ad):\n",
    "    loc_comp = googleRequestAuthorized(ad).json()\n",
    "    return loc_comp"
   ]
  },
  {
   "cell_type": "markdown",
   "metadata": {},
   "source": [
    "- Dataframe with the filter of money raised>1M USD having in mind that there are different coins."
   ]
  },
  {
   "cell_type": "code",
   "execution_count": 15,
   "metadata": {},
   "outputs": [
    {
     "data": {
      "text/plain": [
       "(4824, 13)"
      ]
     },
     "execution_count": 15,
     "metadata": {},
     "output_type": "execute_result"
    }
   ],
   "source": [
    "df_1M=df[(((df['Raised Amount']>=1000000) & (df['Currency']==\"USD\"))|((df['Raised Amount']>=1320000) & (df['Currency']==\"CAD\"))|((df['Raised Amount']>=900000) & (df['Currency']==\"EUR\"))|((df['Raised Amount']>=770000) & (df['Currency']==\"GBP\"))|((df['Raised Amount']>=108560000) & (df['Currency']==\"JPY\"))|((df['Raised Amount']>=9640000) & (df['Currency']==\"SEK\")))]\n",
    "df_1M.shape"
   ]
  },
  {
   "cell_type": "code",
   "execution_count": 23,
   "metadata": {},
   "outputs": [],
   "source": [
    "for _,row in df_1M.iterrows():\n",
    "    if np.isnan(row['Latitude']):\n",
    "        if (row['Address']):\n",
    "            ad=row['Address']\n",
    "            loc=apicompanies(ad)\n",
    "            if loc['status']!='ZERO_RESULTS' and loc['status']!='REQUEST_DENIED'and loc['status']!='INVALID_REQUEST':\n",
    "                df_1M.loc[(df_1M['Address']==ad),'Longitude']=loc['results'][0]['geometry']['location']['lng']\n",
    "                df_1M.loc[(df_1M['Address']==ad),'Latitude']=loc['results'][0]['geometry']['location']['lat']\n"
   ]
  },
  {
   "cell_type": "code",
   "execution_count": 25,
   "metadata": {},
   "outputs": [
    {
     "data": {
      "text/plain": [
       "(325, 13)"
      ]
     },
     "execution_count": 25,
     "metadata": {},
     "output_type": "execute_result"
    }
   ],
   "source": [
    "df_1M[(df_1M['Longitude'].isnull() & df_1M['Latitude'].isnull())].shape"
   ]
  },
  {
   "cell_type": "markdown",
   "metadata": {},
   "source": [
    "- Removing rows with no latitude or longitude:"
   ]
  },
  {
   "cell_type": "code",
   "execution_count": 36,
   "metadata": {},
   "outputs": [],
   "source": [
    "df_1M_notnull=df_1M[(df_1M['Longitude'].notnull() & df_1M['Latitude'].notnull())]"
   ]
  },
  {
   "cell_type": "code",
   "execution_count": 37,
   "metadata": {},
   "outputs": [
    {
     "data": {
      "text/plain": [
       "(4499, 14)"
      ]
     },
     "execution_count": 37,
     "metadata": {},
     "output_type": "execute_result"
    }
   ],
   "source": [
    "df_1M_notnull.shape"
   ]
  },
  {
   "cell_type": "markdown",
   "metadata": {},
   "source": [
    "- Adding geolocation column to the dataframe"
   ]
  },
  {
   "cell_type": "code",
   "execution_count": 38,
   "metadata": {},
   "outputs": [
    {
     "name": "stderr",
     "output_type": "stream",
     "text": [
      "/usr/local/Cellar/ipython/7.8.0/libexec/vendor/lib/python3.7/site-packages/ipykernel_launcher.py:4: SettingWithCopyWarning: \n",
      "A value is trying to be set on a copy of a slice from a DataFrame.\n",
      "Try using .loc[row_indexer,col_indexer] = value instead\n",
      "\n",
      "See the caveats in the documentation: http://pandas.pydata.org/pandas-docs/stable/user_guide/indexing.html#returning-a-view-versus-a-copy\n",
      "  after removing the cwd from sys.path.\n"
     ]
    },
    {
     "data": {
      "text/plain": [
       "(4499, 14)"
      ]
     },
     "execution_count": 38,
     "metadata": {},
     "output_type": "execute_result"
    }
   ],
   "source": [
    "geolocations=[]\n",
    "for long, lat in df_1M_notnull[[\"Longitude\",\"Latitude\"]].values:\n",
    "    geolocations.append(func.getLocation(long,lat))\n",
    "df_1M_notnull['GeoLocations']=geolocations\n",
    "df_1M_notnull.shape"
   ]
  },
  {
   "cell_type": "markdown",
   "metadata": {},
   "source": [
    "- Importing dataframe filtered with 1M, lat, long and geolocations"
   ]
  },
  {
   "cell_type": "code",
   "execution_count": 42,
   "metadata": {},
   "outputs": [
    {
     "data": {
      "text/plain": [
       "(4499, 14)"
      ]
     },
     "execution_count": 42,
     "metadata": {},
     "output_type": "execute_result"
    }
   ],
   "source": [
    "df_1M_notnull.to_json('./output/1M_company_officess.json', orient=\"records\")\n",
    "df_1M_notnull.shape"
   ]
  },
  {
   "cell_type": "markdown",
   "metadata": {},
   "source": [
    "- Dataframe with the filter of founded year>=2009 and money raised>1M$"
   ]
  },
  {
   "cell_type": "code",
   "execution_count": 40,
   "metadata": {},
   "outputs": [
    {
     "data": {
      "text/plain": [
       "(141, 14)"
      ]
     },
     "execution_count": 40,
     "metadata": {},
     "output_type": "execute_result"
    }
   ],
   "source": [
    "df_FY_1M=df_1M_notnull[(df_1M_notnull['Founded Year']>=2009)]\n",
    "df_FY_1M.shape"
   ]
  },
  {
   "cell_type": "markdown",
   "metadata": {},
   "source": [
    "- Importing dataframe filtered with 1M, lat, long, geolocations and founded year>=2009"
   ]
  },
  {
   "cell_type": "code",
   "execution_count": 41,
   "metadata": {},
   "outputs": [],
   "source": [
    "#mongoimport --db companies --drop --collection 1MCompanies --jsonArray 1M.json\n",
    "df_FY_1M.to_json('./output/FY_1M.json', orient=\"records\")"
   ]
  }
 ],
 "metadata": {
  "kernelspec": {
   "display_name": "Python 3",
   "language": "python",
   "name": "python3"
  },
  "language_info": {
   "codemirror_mode": {
    "name": "ipython",
    "version": 3
   },
   "file_extension": ".py",
   "mimetype": "text/x-python",
   "name": "python",
   "nbconvert_exporter": "python",
   "pygments_lexer": "ipython3",
   "version": "3.7.4"
  }
 },
 "nbformat": 4,
 "nbformat_minor": 2
}
