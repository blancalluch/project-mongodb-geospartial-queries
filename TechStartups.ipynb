{
 "cells": [
  {
   "cell_type": "code",
   "execution_count": 27,
   "metadata": {},
   "outputs": [],
   "source": [
    "from pymongo import MongoClient"
   ]
  },
  {
   "cell_type": "code",
   "execution_count": 28,
   "metadata": {},
   "outputs": [],
   "source": [
    "def connectCollection(database, collection):\n",
    "    client = MongoClient()\n",
    "    db = client[database]\n",
    "    coll = db[collection]\n",
    "    return db, coll"
   ]
  },
  {
   "cell_type": "code",
   "execution_count": 29,
   "metadata": {},
   "outputs": [],
   "source": [
    "db, coll = connectCollection('companies','companies')"
   ]
  },
  {
   "cell_type": "code",
   "execution_count": 36,
   "metadata": {},
   "outputs": [],
   "source": [
    "company = list(coll.find({\"$and\": [{\"deadpooled_year\":None},{\"founded_year\":{\"$gte\":2000}},{\"$where\":\"this.offices.length >= 1\"}]}))\n",
    "\n",
    "\n"
   ]
  },
  {
   "cell_type": "code",
   "execution_count": 37,
   "metadata": {},
   "outputs": [
    {
     "data": {
      "text/plain": [
       "8417"
      ]
     },
     "execution_count": 37,
     "metadata": {},
     "output_type": "execute_result"
    }
   ],
   "source": [
    "len(company)"
   ]
  },
  {
   "cell_type": "code",
   "execution_count": 68,
   "metadata": {
    "scrolled": false
   },
   "outputs": [],
   "source": [
    "#company[0]"
   ]
  },
  {
   "cell_type": "code",
   "execution_count": 67,
   "metadata": {},
   "outputs": [
    {
     "data": {
      "text/plain": [
       "{'price_amount': 500000,\n",
       " 'price_currency_code': 'USD',\n",
       " 'term_code': None,\n",
       " 'source_url': 'http://techcrunch.com/2012/07/12/betaworks-acquires-digg/',\n",
       " 'source_description': 'Betaworks Acquires Digg (TechCrunch)',\n",
       " 'acquired_year': 2012,\n",
       " 'acquired_month': 7,\n",
       " 'acquired_day': 12,\n",
       " 'acquiring_company': {'name': 'betaworks', 'permalink': 'betaworks'}}"
      ]
     },
     "execution_count": 67,
     "metadata": {},
     "output_type": "execute_result"
    }
   ],
   "source": [
    "company[0].get('_id',0)\n",
    "company[0].get('name',0)\n",
    "company[0].get('category_code',0)\n",
    "company[0].get('description',0)\n",
    "company[0].get('offices',0)\n",
    "company[0].get('founded_year',0)\n",
    "company[0].get('acquisition.price_amount',0)\n",
    "company[0].get('acquisition.price_currency_code',0)"
   ]
  },
  {
   "cell_type": "code",
   "execution_count": 51,
   "metadata": {},
   "outputs": [
    {
     "data": {
      "text/plain": [
       "'user driven social content website'"
      ]
     },
     "execution_count": 51,
     "metadata": {},
     "output_type": "execute_result"
    }
   ],
   "source": [
    "company[0].get('description')"
   ]
  },
  {
   "cell_type": "code",
   "execution_count": 94,
   "metadata": {},
   "outputs": [
    {
     "data": {
      "text/plain": [
       "37.775196"
      ]
     },
     "execution_count": 94,
     "metadata": {},
     "output_type": "execute_result"
    }
   ],
   "source": [
    "company[5].get('offices',0)[0].get('latitude')"
   ]
  },
  {
   "cell_type": "code",
   "execution_count": 77,
   "metadata": {},
   "outputs": [],
   "source": [
    "idi=[]\n",
    "name=[]\n",
    "category=[]\n",
    "desc=[]\n",
    "of_lat=[]\n",
    "of_long=[]\n",
    "foun_y=[]\n",
    "price=[]\n",
    "price_code=[]\n",
    "for comp in range(len(company)):\n",
    "    for office in range(len(company[comp].get('offices',0))):\n",
    "        idi.append(company[comp].get('_id',0))\n",
    "        name.append(company[comp].get('name',0))\n",
    "        category.append(company[comp].get('category_code',0))\n",
    "        desc.append(company[comp].get('description',0))\n",
    "        of_lat.append(company[comp].get('offices',0)[office].get('latitude'))\n",
    "        of_long.append(company[comp].get('offices',0)[office].get('longitude'))\n",
    "        foun_y.append(company[comp].get('founded_year',0))\n",
    "        price.append(company[comp].get('acquisition.price_amount',0))\n",
    "        price_code.append(company[comp].get('acquisition.price_currency_code',0))\n",
    "        "
   ]
  },
  {
   "cell_type": "code",
   "execution_count": 80,
   "metadata": {},
   "outputs": [],
   "source": [
    "import pandas as pd"
   ]
  },
  {
   "cell_type": "code",
   "execution_count": 82,
   "metadata": {},
   "outputs": [],
   "source": [
    "dic={\"idi\":idi,\"name\":name, \"category\":category,\"desc\":desc,\"lat\":of_lat,\"long\":of_long,\"found_y\":foun_y,\"price\":price,\n",
    "\"price_code\":price_code}\n",
    "#df=pd.DataFrame()"
   ]
  },
  {
   "cell_type": "code",
   "execution_count": 83,
   "metadata": {},
   "outputs": [],
   "source": [
    "df=pd.DataFrame(dic)"
   ]
  },
  {
   "cell_type": "code",
   "execution_count": 87,
   "metadata": {},
   "outputs": [
    {
     "data": {
      "text/html": [
       "<div>\n",
       "<style scoped>\n",
       "    .dataframe tbody tr th:only-of-type {\n",
       "        vertical-align: middle;\n",
       "    }\n",
       "\n",
       "    .dataframe tbody tr th {\n",
       "        vertical-align: top;\n",
       "    }\n",
       "\n",
       "    .dataframe thead th {\n",
       "        text-align: right;\n",
       "    }\n",
       "</style>\n",
       "<table border=\"1\" class=\"dataframe\">\n",
       "  <thead>\n",
       "    <tr style=\"text-align: right;\">\n",
       "      <th></th>\n",
       "      <th>idi</th>\n",
       "      <th>name</th>\n",
       "      <th>category</th>\n",
       "      <th>desc</th>\n",
       "      <th>lat</th>\n",
       "      <th>long</th>\n",
       "      <th>found_y</th>\n",
       "      <th>price</th>\n",
       "      <th>price_code</th>\n",
       "    </tr>\n",
       "  </thead>\n",
       "  <tbody>\n",
       "    <tr>\n",
       "      <th>0</th>\n",
       "      <td>52cdef7c4bab8bd675297d8d</td>\n",
       "      <td>Digg</td>\n",
       "      <td>news</td>\n",
       "      <td>user driven social content website</td>\n",
       "      <td>37.764726</td>\n",
       "      <td>-122.394523</td>\n",
       "      <td>2004</td>\n",
       "      <td>0</td>\n",
       "      <td>0</td>\n",
       "    </tr>\n",
       "    <tr>\n",
       "      <th>1</th>\n",
       "      <td>52cdef7c4bab8bd675297d91</td>\n",
       "      <td>Geni</td>\n",
       "      <td>web</td>\n",
       "      <td>Geneology social network site</td>\n",
       "      <td>34.090368</td>\n",
       "      <td>-118.393064</td>\n",
       "      <td>2006</td>\n",
       "      <td>0</td>\n",
       "      <td>0</td>\n",
       "    </tr>\n",
       "    <tr>\n",
       "      <th>2</th>\n",
       "      <td>52cdef7c4bab8bd675297d96</td>\n",
       "      <td>Gizmoz</td>\n",
       "      <td>web</td>\n",
       "      <td>Photo animation</td>\n",
       "      <td>37.484130</td>\n",
       "      <td>-122.169472</td>\n",
       "      <td>2003</td>\n",
       "      <td>0</td>\n",
       "      <td>0</td>\n",
       "    </tr>\n",
       "    <tr>\n",
       "      <th>3</th>\n",
       "      <td>52cdef7c4bab8bd675297d97</td>\n",
       "      <td>Scribd</td>\n",
       "      <td>news</td>\n",
       "      <td>Read Unlimited Books</td>\n",
       "      <td>37.789634</td>\n",
       "      <td>-122.404052</td>\n",
       "      <td>2007</td>\n",
       "      <td>0</td>\n",
       "      <td>0</td>\n",
       "    </tr>\n",
       "    <tr>\n",
       "      <th>4</th>\n",
       "      <td>52cdef7c4bab8bd675297d98</td>\n",
       "      <td>Slacker</td>\n",
       "      <td>music</td>\n",
       "      <td>Music Personalization Suite</td>\n",
       "      <td>33.022176</td>\n",
       "      <td>-117.081406</td>\n",
       "      <td>2006</td>\n",
       "      <td>0</td>\n",
       "      <td>0</td>\n",
       "    </tr>\n",
       "    <tr>\n",
       "      <th>...</th>\n",
       "      <td>...</td>\n",
       "      <td>...</td>\n",
       "      <td>...</td>\n",
       "      <td>...</td>\n",
       "      <td>...</td>\n",
       "      <td>...</td>\n",
       "      <td>...</td>\n",
       "      <td>...</td>\n",
       "      <td>...</td>\n",
       "    </tr>\n",
       "    <tr>\n",
       "      <th>10197</th>\n",
       "      <td>52cdef7f4bab8bd67529c6eb</td>\n",
       "      <td>DocASAP</td>\n",
       "      <td>web</td>\n",
       "      <td>Online doctor and dentist appointments</td>\n",
       "      <td>NaN</td>\n",
       "      <td>NaN</td>\n",
       "      <td>2012</td>\n",
       "      <td>0</td>\n",
       "      <td>0</td>\n",
       "    </tr>\n",
       "    <tr>\n",
       "      <th>10198</th>\n",
       "      <td>52cdef7f4bab8bd67529c6f5</td>\n",
       "      <td>Oriact</td>\n",
       "      <td>software</td>\n",
       "      <td>Solutions for software development</td>\n",
       "      <td>47.088219</td>\n",
       "      <td>8.437163</td>\n",
       "      <td>2009</td>\n",
       "      <td>0</td>\n",
       "      <td>0</td>\n",
       "    </tr>\n",
       "    <tr>\n",
       "      <th>10199</th>\n",
       "      <td>52cdef7f4bab8bd67529c6f6</td>\n",
       "      <td>Adhunk</td>\n",
       "      <td>advertising</td>\n",
       "      <td>Online Admanager</td>\n",
       "      <td>NaN</td>\n",
       "      <td>NaN</td>\n",
       "      <td>2009</td>\n",
       "      <td>0</td>\n",
       "      <td>0</td>\n",
       "    </tr>\n",
       "    <tr>\n",
       "      <th>10200</th>\n",
       "      <td>52cdef7f4bab8bd67529c6f7</td>\n",
       "      <td>AfterLogic</td>\n",
       "      <td>software</td>\n",
       "      <td>.NET Email Components and Webmail</td>\n",
       "      <td>40.793024</td>\n",
       "      <td>-74.323554</td>\n",
       "      <td>2002</td>\n",
       "      <td>0</td>\n",
       "      <td>0</td>\n",
       "    </tr>\n",
       "    <tr>\n",
       "      <th>10201</th>\n",
       "      <td>52cdef7f4bab8bd67529c6fa</td>\n",
       "      <td>EnteGreat</td>\n",
       "      <td>enterprise</td>\n",
       "      <td></td>\n",
       "      <td>33.407786</td>\n",
       "      <td>-86.761302</td>\n",
       "      <td>2000</td>\n",
       "      <td>0</td>\n",
       "      <td>0</td>\n",
       "    </tr>\n",
       "  </tbody>\n",
       "</table>\n",
       "<p>10202 rows × 9 columns</p>\n",
       "</div>"
      ],
      "text/plain": [
       "                            idi        name     category  \\\n",
       "0      52cdef7c4bab8bd675297d8d        Digg         news   \n",
       "1      52cdef7c4bab8bd675297d91        Geni          web   \n",
       "2      52cdef7c4bab8bd675297d96      Gizmoz          web   \n",
       "3      52cdef7c4bab8bd675297d97      Scribd         news   \n",
       "4      52cdef7c4bab8bd675297d98     Slacker        music   \n",
       "...                         ...         ...          ...   \n",
       "10197  52cdef7f4bab8bd67529c6eb     DocASAP          web   \n",
       "10198  52cdef7f4bab8bd67529c6f5      Oriact     software   \n",
       "10199  52cdef7f4bab8bd67529c6f6      Adhunk  advertising   \n",
       "10200  52cdef7f4bab8bd67529c6f7  AfterLogic     software   \n",
       "10201  52cdef7f4bab8bd67529c6fa   EnteGreat   enterprise   \n",
       "\n",
       "                                         desc        lat        long  found_y  \\\n",
       "0          user driven social content website  37.764726 -122.394523     2004   \n",
       "1               Geneology social network site  34.090368 -118.393064     2006   \n",
       "2                             Photo animation  37.484130 -122.169472     2003   \n",
       "3                        Read Unlimited Books  37.789634 -122.404052     2007   \n",
       "4                 Music Personalization Suite  33.022176 -117.081406     2006   \n",
       "...                                       ...        ...         ...      ...   \n",
       "10197  Online doctor and dentist appointments        NaN         NaN     2012   \n",
       "10198      Solutions for software development  47.088219    8.437163     2009   \n",
       "10199                        Online Admanager        NaN         NaN     2009   \n",
       "10200       .NET Email Components and Webmail  40.793024  -74.323554     2002   \n",
       "10201                                          33.407786  -86.761302     2000   \n",
       "\n",
       "       price  price_code  \n",
       "0          0           0  \n",
       "1          0           0  \n",
       "2          0           0  \n",
       "3          0           0  \n",
       "4          0           0  \n",
       "...      ...         ...  \n",
       "10197      0           0  \n",
       "10198      0           0  \n",
       "10199      0           0  \n",
       "10200      0           0  \n",
       "10201      0           0  \n",
       "\n",
       "[10202 rows x 9 columns]"
      ]
     },
     "metadata": {},
     "output_type": "display_data"
    }
   ],
   "source": [
    "display(df)"
   ]
  },
  {
   "cell_type": "code",
   "execution_count": null,
   "metadata": {},
   "outputs": [],
   "source": []
  }
 ],
 "metadata": {
  "kernelspec": {
   "display_name": "Python 3",
   "language": "python",
   "name": "python3"
  },
  "language_info": {
   "codemirror_mode": {
    "name": "ipython",
    "version": 3
   },
   "file_extension": ".py",
   "mimetype": "text/x-python",
   "name": "python",
   "nbconvert_exporter": "python",
   "pygments_lexer": "ipython3",
   "version": "3.7.4"
  }
 },
 "nbformat": 4,
 "nbformat_minor": 2
}
